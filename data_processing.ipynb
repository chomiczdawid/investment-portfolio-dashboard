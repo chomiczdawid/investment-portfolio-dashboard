{
 "cells": [
  {
   "cell_type": "code",
   "execution_count": 1,
   "id": "cee1b517-da05-4b31-a1d5-a128c6c1cd20",
   "metadata": {
    "tags": []
   },
   "outputs": [],
   "source": [
    "import pandas as pd\n",
    "import numpy as np\n",
    "import matplotlib.pyplot as plt\n",
    "\n",
    "import warnings\n",
    "warnings.filterwarnings('ignore')\n",
    "pd.set_option('display.float_format', lambda x: '%.4f' % x)"
   ]
  },
  {
   "cell_type": "code",
   "execution_count": 91,
   "id": "bc27e829-3214-488a-9e14-5c1e7af8c8a6",
   "metadata": {
    "tags": []
   },
   "outputs": [],
   "source": [
    "df_raw = pd.read_excel('data/transactions.xlsx')"
   ]
  },
  {
   "cell_type": "code",
   "execution_count": 92,
   "id": "1af3b724-26ba-4a38-830a-3786888373d7",
   "metadata": {
    "tags": []
   },
   "outputs": [],
   "source": [
    "df = df_raw.copy()"
   ]
  },
  {
   "cell_type": "code",
   "execution_count": 93,
   "id": "54483216-168b-4e52-98f1-f24df5191682",
   "metadata": {
    "tags": []
   },
   "outputs": [
    {
     "data": {
      "text/html": [
       "<div>\n",
       "<style scoped>\n",
       "    .dataframe tbody tr th:only-of-type {\n",
       "        vertical-align: middle;\n",
       "    }\n",
       "\n",
       "    .dataframe tbody tr th {\n",
       "        vertical-align: top;\n",
       "    }\n",
       "\n",
       "    .dataframe thead th {\n",
       "        text-align: right;\n",
       "    }\n",
       "</style>\n",
       "<table border=\"1\" class=\"dataframe\">\n",
       "  <thead>\n",
       "    <tr style=\"text-align: right;\">\n",
       "      <th></th>\n",
       "      <th>account</th>\n",
       "      <th>date</th>\n",
       "      <th>ticker</th>\n",
       "      <th>currency</th>\n",
       "      <th>asset_type</th>\n",
       "      <th>transaction_type</th>\n",
       "      <th>amount</th>\n",
       "      <th>price</th>\n",
       "      <th>commision</th>\n",
       "      <th>pln_exr</th>\n",
       "      <th>total_pln</th>\n",
       "    </tr>\n",
       "  </thead>\n",
       "  <tbody>\n",
       "    <tr>\n",
       "      <th>0</th>\n",
       "      <td>treasury_bonds_pl</td>\n",
       "      <td>2020-02-08</td>\n",
       "      <td>COI</td>\n",
       "      <td>PLN</td>\n",
       "      <td>bonds</td>\n",
       "      <td>buy</td>\n",
       "      <td>600.0000</td>\n",
       "      <td>100.0000</td>\n",
       "      <td>0.0000</td>\n",
       "      <td>1.0000</td>\n",
       "      <td>60000.0000</td>\n",
       "    </tr>\n",
       "    <tr>\n",
       "      <th>1</th>\n",
       "      <td>treasury_bonds_pl</td>\n",
       "      <td>2023-09-01</td>\n",
       "      <td>TOS</td>\n",
       "      <td>PLN</td>\n",
       "      <td>bonds</td>\n",
       "      <td>buy</td>\n",
       "      <td>100.0000</td>\n",
       "      <td>100.0000</td>\n",
       "      <td>0.0000</td>\n",
       "      <td>1.0000</td>\n",
       "      <td>10000.0000</td>\n",
       "    </tr>\n",
       "    <tr>\n",
       "      <th>2</th>\n",
       "      <td>treasury_bonds_pl</td>\n",
       "      <td>2023-10-02</td>\n",
       "      <td>EDO</td>\n",
       "      <td>PLN</td>\n",
       "      <td>bonds</td>\n",
       "      <td>buy</td>\n",
       "      <td>10.0000</td>\n",
       "      <td>100.0000</td>\n",
       "      <td>0.0000</td>\n",
       "      <td>1.0000</td>\n",
       "      <td>1000.0000</td>\n",
       "    </tr>\n",
       "    <tr>\n",
       "      <th>3</th>\n",
       "      <td>treasury_bonds_pl</td>\n",
       "      <td>2023-11-09</td>\n",
       "      <td>EDO</td>\n",
       "      <td>PLN</td>\n",
       "      <td>bonds</td>\n",
       "      <td>buy</td>\n",
       "      <td>10.0000</td>\n",
       "      <td>100.0000</td>\n",
       "      <td>0.0000</td>\n",
       "      <td>1.0000</td>\n",
       "      <td>1000.0000</td>\n",
       "    </tr>\n",
       "    <tr>\n",
       "      <th>4</th>\n",
       "      <td>ikze</td>\n",
       "      <td>2023-11-21</td>\n",
       "      <td>EDO</td>\n",
       "      <td>PLN</td>\n",
       "      <td>bonds</td>\n",
       "      <td>buy</td>\n",
       "      <td>83.0000</td>\n",
       "      <td>100.0000</td>\n",
       "      <td>0.0000</td>\n",
       "      <td>1.0000</td>\n",
       "      <td>8300.0000</td>\n",
       "    </tr>\n",
       "  </tbody>\n",
       "</table>\n",
       "</div>"
      ],
      "text/plain": [
       "             account       date ticker currency asset_type transaction_type  \\\n",
       "0  treasury_bonds_pl 2020-02-08    COI      PLN      bonds              buy   \n",
       "1  treasury_bonds_pl 2023-09-01    TOS      PLN      bonds              buy   \n",
       "2  treasury_bonds_pl 2023-10-02    EDO      PLN      bonds              buy   \n",
       "3  treasury_bonds_pl 2023-11-09    EDO      PLN      bonds              buy   \n",
       "4               ikze 2023-11-21    EDO      PLN      bonds              buy   \n",
       "\n",
       "    amount    price  commision  pln_exr  total_pln  \n",
       "0 600.0000 100.0000     0.0000   1.0000 60000.0000  \n",
       "1 100.0000 100.0000     0.0000   1.0000 10000.0000  \n",
       "2  10.0000 100.0000     0.0000   1.0000  1000.0000  \n",
       "3  10.0000 100.0000     0.0000   1.0000  1000.0000  \n",
       "4  83.0000 100.0000     0.0000   1.0000  8300.0000  "
      ]
     },
     "execution_count": 93,
     "metadata": {},
     "output_type": "execute_result"
    }
   ],
   "source": [
    "df.head()"
   ]
  },
  {
   "cell_type": "code",
   "execution_count": 94,
   "id": "f0878e3e-e9eb-4755-a4aa-83f598754444",
   "metadata": {
    "tags": []
   },
   "outputs": [
    {
     "data": {
      "text/plain": [
       "array(['treasury_bonds_pl', 'ikze', 'xtb', 'ike'], dtype=object)"
      ]
     },
     "execution_count": 94,
     "metadata": {},
     "output_type": "execute_result"
    }
   ],
   "source": [
    "df.account.unique()"
   ]
  },
  {
   "cell_type": "code",
   "execution_count": 95,
   "id": "77da6e36-03c5-4faf-80d3-b53cc20aa774",
   "metadata": {
    "tags": []
   },
   "outputs": [],
   "source": [
    "df_group = df[['account', 'ticker', 'asset_type', 'amount','total_pln']]"
   ]
  },
  {
   "cell_type": "code",
   "execution_count": 96,
   "id": "d3c26d50-4473-4702-9b5e-3730b2fcc3a8",
   "metadata": {
    "tags": []
   },
   "outputs": [],
   "source": [
    "df_group['quarter'] = df['date'].dt.year.astype(str) + \"Q\" + df['date'].dt.quarter.astype(str)"
   ]
  },
  {
   "cell_type": "code",
   "execution_count": 97,
   "id": "2c96f8c6-6ba4-4e89-8533-9824d084b28f",
   "metadata": {
    "tags": []
   },
   "outputs": [
    {
     "data": {
      "text/html": [
       "<div>\n",
       "<style scoped>\n",
       "    .dataframe tbody tr th:only-of-type {\n",
       "        vertical-align: middle;\n",
       "    }\n",
       "\n",
       "    .dataframe tbody tr th {\n",
       "        vertical-align: top;\n",
       "    }\n",
       "\n",
       "    .dataframe thead th {\n",
       "        text-align: right;\n",
       "    }\n",
       "</style>\n",
       "<table border=\"1\" class=\"dataframe\">\n",
       "  <thead>\n",
       "    <tr style=\"text-align: right;\">\n",
       "      <th></th>\n",
       "      <th>account</th>\n",
       "      <th>asset_type</th>\n",
       "      <th>total_pln</th>\n",
       "    </tr>\n",
       "  </thead>\n",
       "  <tbody>\n",
       "    <tr>\n",
       "      <th>0</th>\n",
       "      <td>ike</td>\n",
       "      <td>etf_bond</td>\n",
       "      <td>12303.8458</td>\n",
       "    </tr>\n",
       "    <tr>\n",
       "      <th>1</th>\n",
       "      <td>ike</td>\n",
       "      <td>etf_stock</td>\n",
       "      <td>4239.4353</td>\n",
       "    </tr>\n",
       "    <tr>\n",
       "      <th>2</th>\n",
       "      <td>ikze</td>\n",
       "      <td>bonds</td>\n",
       "      <td>8300.0000</td>\n",
       "    </tr>\n",
       "    <tr>\n",
       "      <th>3</th>\n",
       "      <td>treasury_bonds_pl</td>\n",
       "      <td>bonds</td>\n",
       "      <td>72000.0000</td>\n",
       "    </tr>\n",
       "    <tr>\n",
       "      <th>4</th>\n",
       "      <td>xtb</td>\n",
       "      <td>etf_bond</td>\n",
       "      <td>3299.8717</td>\n",
       "    </tr>\n",
       "    <tr>\n",
       "      <th>5</th>\n",
       "      <td>xtb</td>\n",
       "      <td>etf_stock</td>\n",
       "      <td>10796.0439</td>\n",
       "    </tr>\n",
       "    <tr>\n",
       "      <th>6</th>\n",
       "      <td>xtb</td>\n",
       "      <td>stock_pl</td>\n",
       "      <td>3217.4400</td>\n",
       "    </tr>\n",
       "  </tbody>\n",
       "</table>\n",
       "</div>"
      ],
      "text/plain": [
       "             account asset_type  total_pln\n",
       "0                ike   etf_bond 12303.8458\n",
       "1                ike  etf_stock  4239.4353\n",
       "2               ikze      bonds  8300.0000\n",
       "3  treasury_bonds_pl      bonds 72000.0000\n",
       "4                xtb   etf_bond  3299.8717\n",
       "5                xtb  etf_stock 10796.0439\n",
       "6                xtb   stock_pl  3217.4400"
      ]
     },
     "execution_count": 97,
     "metadata": {},
     "output_type": "execute_result"
    }
   ],
   "source": [
    "df_group.groupby(['account', 'asset_type']).sum()['total_pln'].reset_index()"
   ]
  },
  {
   "cell_type": "code",
   "execution_count": 98,
   "id": "0f0c7439-72e0-458a-bae3-f0551328cf32",
   "metadata": {
    "tags": []
   },
   "outputs": [
    {
     "data": {
      "text/html": [
       "<div>\n",
       "<style scoped>\n",
       "    .dataframe tbody tr th:only-of-type {\n",
       "        vertical-align: middle;\n",
       "    }\n",
       "\n",
       "    .dataframe tbody tr th {\n",
       "        vertical-align: top;\n",
       "    }\n",
       "\n",
       "    .dataframe thead th {\n",
       "        text-align: right;\n",
       "    }\n",
       "</style>\n",
       "<table border=\"1\" class=\"dataframe\">\n",
       "  <thead>\n",
       "    <tr style=\"text-align: right;\">\n",
       "      <th></th>\n",
       "      <th>asset_type</th>\n",
       "      <th>quarter</th>\n",
       "      <th>amount</th>\n",
       "    </tr>\n",
       "  </thead>\n",
       "  <tbody>\n",
       "    <tr>\n",
       "      <th>0</th>\n",
       "      <td>bonds</td>\n",
       "      <td>2020Q1</td>\n",
       "      <td>600.0000</td>\n",
       "    </tr>\n",
       "    <tr>\n",
       "      <th>1</th>\n",
       "      <td>bonds</td>\n",
       "      <td>2023Q3</td>\n",
       "      <td>100.0000</td>\n",
       "    </tr>\n",
       "    <tr>\n",
       "      <th>2</th>\n",
       "      <td>bonds</td>\n",
       "      <td>2023Q4</td>\n",
       "      <td>103.0000</td>\n",
       "    </tr>\n",
       "    <tr>\n",
       "      <th>3</th>\n",
       "      <td>etf_bond</td>\n",
       "      <td>2023Q3</td>\n",
       "      <td>74.0000</td>\n",
       "    </tr>\n",
       "    <tr>\n",
       "      <th>4</th>\n",
       "      <td>etf_bond</td>\n",
       "      <td>2023Q4</td>\n",
       "      <td>681.0000</td>\n",
       "    </tr>\n",
       "    <tr>\n",
       "      <th>5</th>\n",
       "      <td>etf_bond</td>\n",
       "      <td>2024Q1</td>\n",
       "      <td>317.0000</td>\n",
       "    </tr>\n",
       "    <tr>\n",
       "      <th>6</th>\n",
       "      <td>etf_stock</td>\n",
       "      <td>2023Q3</td>\n",
       "      <td>40.0000</td>\n",
       "    </tr>\n",
       "    <tr>\n",
       "      <th>7</th>\n",
       "      <td>etf_stock</td>\n",
       "      <td>2023Q4</td>\n",
       "      <td>47.0000</td>\n",
       "    </tr>\n",
       "    <tr>\n",
       "      <th>8</th>\n",
       "      <td>etf_stock</td>\n",
       "      <td>2024Q1</td>\n",
       "      <td>9.0000</td>\n",
       "    </tr>\n",
       "    <tr>\n",
       "      <th>9</th>\n",
       "      <td>stock_pl</td>\n",
       "      <td>2023Q1</td>\n",
       "      <td>110.0000</td>\n",
       "    </tr>\n",
       "    <tr>\n",
       "      <th>10</th>\n",
       "      <td>stock_pl</td>\n",
       "      <td>2023Q2</td>\n",
       "      <td>57.0000</td>\n",
       "    </tr>\n",
       "    <tr>\n",
       "      <th>11</th>\n",
       "      <td>stock_pl</td>\n",
       "      <td>2023Q3</td>\n",
       "      <td>26.0000</td>\n",
       "    </tr>\n",
       "    <tr>\n",
       "      <th>12</th>\n",
       "      <td>stock_pl</td>\n",
       "      <td>2023Q4</td>\n",
       "      <td>109.0000</td>\n",
       "    </tr>\n",
       "  </tbody>\n",
       "</table>\n",
       "</div>"
      ],
      "text/plain": [
       "   asset_type quarter   amount\n",
       "0       bonds  2020Q1 600.0000\n",
       "1       bonds  2023Q3 100.0000\n",
       "2       bonds  2023Q4 103.0000\n",
       "3    etf_bond  2023Q3  74.0000\n",
       "4    etf_bond  2023Q4 681.0000\n",
       "5    etf_bond  2024Q1 317.0000\n",
       "6   etf_stock  2023Q3  40.0000\n",
       "7   etf_stock  2023Q4  47.0000\n",
       "8   etf_stock  2024Q1   9.0000\n",
       "9    stock_pl  2023Q1 110.0000\n",
       "10   stock_pl  2023Q2  57.0000\n",
       "11   stock_pl  2023Q3  26.0000\n",
       "12   stock_pl  2023Q4 109.0000"
      ]
     },
     "execution_count": 98,
     "metadata": {},
     "output_type": "execute_result"
    }
   ],
   "source": [
    "df_group.groupby(['asset_type', 'quarter']).sum()['amount'].reset_index()"
   ]
  },
  {
   "cell_type": "code",
   "execution_count": 99,
   "id": "075e6508-1928-42ba-be83-76221b11defe",
   "metadata": {
    "tags": []
   },
   "outputs": [],
   "source": [
    "df_pivot = pd.pivot_table(df_group, values='amount', index='quarter', columns='asset_type',aggfunc='sum').reset_index()"
   ]
  },
  {
   "cell_type": "code",
   "execution_count": 100,
   "id": "605965f1-f5b6-4538-b0dd-c7d1298dc041",
   "metadata": {
    "tags": []
   },
   "outputs": [
    {
     "data": {
      "text/plain": [
       "Index(['quarter', 'bonds', 'etf_bond', 'etf_stock', 'stock_pl'], dtype='object', name='asset_type')"
      ]
     },
     "execution_count": 100,
     "metadata": {},
     "output_type": "execute_result"
    }
   ],
   "source": [
    "df_pivot.columns"
   ]
  },
  {
   "cell_type": "code",
   "execution_count": 101,
   "id": "9fdaa019-85fb-4faa-bb1c-2fd304ac6755",
   "metadata": {
    "tags": []
   },
   "outputs": [
    {
     "data": {
      "text/html": [
       "<div>\n",
       "<style scoped>\n",
       "    .dataframe tbody tr th:only-of-type {\n",
       "        vertical-align: middle;\n",
       "    }\n",
       "\n",
       "    .dataframe tbody tr th {\n",
       "        vertical-align: top;\n",
       "    }\n",
       "\n",
       "    .dataframe thead th {\n",
       "        text-align: right;\n",
       "    }\n",
       "</style>\n",
       "<table border=\"1\" class=\"dataframe\">\n",
       "  <thead>\n",
       "    <tr style=\"text-align: right;\">\n",
       "      <th>asset_type</th>\n",
       "      <th>quarter</th>\n",
       "      <th>bonds</th>\n",
       "      <th>etf_bond</th>\n",
       "      <th>etf_stock</th>\n",
       "      <th>stock_pl</th>\n",
       "    </tr>\n",
       "  </thead>\n",
       "  <tbody>\n",
       "    <tr>\n",
       "      <th>0</th>\n",
       "      <td>2020Q1</td>\n",
       "      <td>600.0000</td>\n",
       "      <td>NaN</td>\n",
       "      <td>NaN</td>\n",
       "      <td>NaN</td>\n",
       "    </tr>\n",
       "    <tr>\n",
       "      <th>1</th>\n",
       "      <td>2023Q1</td>\n",
       "      <td>NaN</td>\n",
       "      <td>NaN</td>\n",
       "      <td>NaN</td>\n",
       "      <td>110.0000</td>\n",
       "    </tr>\n",
       "    <tr>\n",
       "      <th>2</th>\n",
       "      <td>2023Q2</td>\n",
       "      <td>NaN</td>\n",
       "      <td>NaN</td>\n",
       "      <td>NaN</td>\n",
       "      <td>57.0000</td>\n",
       "    </tr>\n",
       "    <tr>\n",
       "      <th>3</th>\n",
       "      <td>2023Q3</td>\n",
       "      <td>100.0000</td>\n",
       "      <td>74.0000</td>\n",
       "      <td>40.0000</td>\n",
       "      <td>26.0000</td>\n",
       "    </tr>\n",
       "    <tr>\n",
       "      <th>4</th>\n",
       "      <td>2023Q4</td>\n",
       "      <td>103.0000</td>\n",
       "      <td>681.0000</td>\n",
       "      <td>47.0000</td>\n",
       "      <td>109.0000</td>\n",
       "    </tr>\n",
       "    <tr>\n",
       "      <th>5</th>\n",
       "      <td>2024Q1</td>\n",
       "      <td>NaN</td>\n",
       "      <td>317.0000</td>\n",
       "      <td>9.0000</td>\n",
       "      <td>NaN</td>\n",
       "    </tr>\n",
       "  </tbody>\n",
       "</table>\n",
       "</div>"
      ],
      "text/plain": [
       "asset_type quarter    bonds  etf_bond  etf_stock  stock_pl\n",
       "0           2020Q1 600.0000       NaN        NaN       NaN\n",
       "1           2023Q1      NaN       NaN        NaN  110.0000\n",
       "2           2023Q2      NaN       NaN        NaN   57.0000\n",
       "3           2023Q3 100.0000   74.0000    40.0000   26.0000\n",
       "4           2023Q4 103.0000  681.0000    47.0000  109.0000\n",
       "5           2024Q1      NaN  317.0000     9.0000       NaN"
      ]
     },
     "execution_count": 101,
     "metadata": {},
     "output_type": "execute_result"
    }
   ],
   "source": [
    "df_pivot"
   ]
  },
  {
   "cell_type": "code",
   "execution_count": 102,
   "id": "5c2eeac6-e8ea-4c25-a6a5-240953639532",
   "metadata": {
    "tags": []
   },
   "outputs": [
    {
     "data": {
      "text/plain": [
       "<Axes: title={'center': 'Buys by quarter'}, ylabel='quarter'>"
      ]
     },
     "execution_count": 102,
     "metadata": {},
     "output_type": "execute_result"
    },
    {
     "data": {
      "image/png": "[encoded data removed]",
      "text/plain": [
       "<Figure size 640x480 with 1 Axes>"
      ]
     },
     "metadata": {},
     "output_type": "display_data"
    }
   ],
   "source": [
    "df_pivot.plot( \n",
    "    x = 'quarter', \n",
    "    kind = 'barh', \n",
    "    stacked = True, \n",
    "    title = 'Buys by quarter', \n",
    "    mark_right = True) "
   ]
  },
  {
   "cell_type": "code",
   "execution_count": 88,
   "id": "e4f16352-92b6-4b70-b8e8-eda91e34ea43",
   "metadata": {
    "tags": []
   },
   "outputs": [],
   "source": [
    "# to jest tylko ilość kupiona na dany moment, a potrzeba mi cyklicznego podumowania ilości każdego assetu i cen"
   ]
  },
  {
   "cell_type": "code",
   "execution_count": 50,
   "id": "427a60cf-371f-4723-9775-4108aad11d3e",
   "metadata": {
    "tags": []
   },
   "outputs": [],
   "source": [
    "# żeby to wyżej działało jak trzeba, musi być tabelka z historią portfela, gdzie sumowane aktywa będą miały obliczane wartości na daną datę (np. koniec kwartału)"
   ]
  },
  {
   "cell_type": "code",
   "execution_count": 89,
   "id": "8db13cbe-8770-437f-8102-5b5356f4a847",
   "metadata": {
    "tags": []
   },
   "outputs": [],
   "source": [
    "# napisać algorytm który sprawdza jakie są assety w transakcjach i przelicza dla nich historię, jak się coś pojawi to po tej dacie dodawany jest do cyklicznego generowania historii"
   ]
  },
  {
   "cell_type": "code",
   "execution_count": 104,
   "id": "e0459f37-4c4f-4dd4-a596-e3a4cc64684f",
   "metadata": {
    "tags": []
   },
   "outputs": [],
   "source": [
    "# na koniec każdego kwartału jest brany kurs walut i aktywów i obliczana jest wartość bazując na amount"
   ]
  },
  {
   "cell_type": "code",
   "execution_count": 106,
   "id": "f10532b6-149b-4d8a-9aea-de950612d26d",
   "metadata": {
    "tags": []
   },
   "outputs": [],
   "source": [
    "# ogarnąć interaktywne ploty współpracujące z dashem (pewnie plotly) \n",
    "# https://plotly.com/python/bar-charts/"
   ]
  },
  {
   "cell_type": "code",
   "execution_count": null,
   "id": "d7175184-14ae-4983-a586-3dd963cb5c41",
   "metadata": {},
   "outputs": [],
   "source": []
  }
 ],
 "metadata": {
  "kernelspec": {
   "display_name": "Python 3 (ipykernel)",
   "language": "python",
   "name": "python3"
  },
  "language_info": {
   "codemirror_mode": {
    "name": "ipython",
    "version": 3
   },
   "file_extension": ".py",
   "mimetype": "text/x-python",
   "name": "python",
   "nbconvert_exporter": "python",
   "pygments_lexer": "ipython3",
   "version": "3.8.16"
  }
 },
 "nbformat": 4,
 "nbformat_minor": 5
}
