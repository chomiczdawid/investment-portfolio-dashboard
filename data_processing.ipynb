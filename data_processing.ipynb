{
 "cells": [
  {
   "cell_type": "code",
   "execution_count": 1,
   "id": "cee1b517-da05-4b31-a1d5-a128c6c1cd20",
   "metadata": {
    "tags": []
   },
   "outputs": [],
   "source": [
    "import pandas as pd\n",
    "import numpy as np\n",
    "import matplotlib.pyplot as plt\n",
    "import yfinance as yf\n",
    "\n",
    "import dash\n",
    "from dash import dcc, html\n",
    "from dash.dash_table import DataTable, FormatTemplate\n",
    "import dash_bootstrap_components as dbc\n",
    "\n",
    "import plotly.express as px\n",
    "from plotly import tools\n",
    "import plotly.offline as py\n",
    "import plotly.graph_objs as go\n",
    "\n",
    "import warnings\n",
    "warnings.filterwarnings('ignore')\n",
    "pd.set_option('display.float_format', lambda x: '%.4f' % x)"
   ]
  },
  {
   "cell_type": "markdown",
   "id": "454f78ae-91b5-4f2a-ae1c-01ed73dc6417",
   "metadata": {
    "tags": []
   },
   "source": [
    "###  ToDo:\n",
    "* Wykres **NetWorth** to można zrobić coś w stylu, że jest interwał miesięczny, poczynając od miesiąca z daty pierwszej transakcji kupna etfa i potem już co miesiąc, gdzie po prostu biorę co miesiąc sumę wszytskich aktywów i przemnażam przez ich cenę z tego okresu (data końca miesiąca albo średnia miesięczna cena dla każdego tickera), co daje mi jedną obserwację na wykresie\n",
    "    * z tego w sumie może powstać wykres gdzie jedna linia jest mnożona przez cenę i pokazuje realną zmienność portfela, a druga linia jest tylko wpłatami kapitału, czyli za ile coś kupiłem, to by fajnie pokazywało jaka jest relacja wpłacanego kapitału do realnej wartości portfela\n",
    "    * można by też wtedy dodać kolory, że jak linia wartości jest wyżej niż wpłacania, to zysk - zielony, a jak spadnie poniżej wpłacony kapitał, to strata - czerwony\n",
    "    * póki co jest tylko dla ETFów ale w domyśle powinno tu być wszystko z całej historii transakcji\n",
    "* Wykres **Allocations** zrobić analogiczny do kołowych wykresów u mnie w excelu, ale z jakąś agregacją etfów z danego typu np. DTLA i IDTL wyświetlane jako jedna pozycja podpisana \"US tre 20+\". Dalsza granulacja na konta i poszczególne etfy może być w dalszym podsumowaniu (może osobne strony dla każdego brokera czy coś, chociaż nie wiem czy jest sens)\n",
    "    * 2 analogiczne wykresy alokacji, gdzie jeden pokazuje stan faktyczny, a drugi domyślne proporcie\n",
    "        * dodać do tego jakiś system alertów bazujących na kwotach transakcji, gdzie jeśli odchylenie np. etfa na akcje będzie większe od minimalnej opłacalnej kwoty rebalancingu, to żeby mi pokazywał alert \"Wwaga, można dokonac efektywnego rebalancingu!\"\n",
    "    * aktualnie jest tylko dla ETF, w domyśle zrobić dla 4 głównych kategorii (bonds, etf_bond, etf_stock, pl_stocks)\n",
    "* Dodać w zakładce **Holdings** kolumnę z info o koncie na jakim jest kupiony dany ticker\n",
    "    * po dodaniu do dashboardu wszytskich aktywów w zakładce Holdings nadal nie będzie miejsca w zasadzie na nic poza ETFami\n",
    "    * stworzyć dodatkowe tabele (może w jakichś osobnych specjalnych podstronach) gdzie będzie spis portfela obligacji skarbowych i akcji polskich\n",
    "    * do tego na pewno wykres kołowy z proporcjami akcji w portfelu polskim\n",
    "    * może też to^ ale z podziałem na branże\n",
    "    * może wykres net worth ale tylko dla portfela akcji polskich\n",
    "* Opracować system zapisywania dotychczasowych wyliczeń do jakiegoś pliku pickle, albo csv, żeby przy kazdym uruchomieniu nie było potrzeby przeliczania całej historii\n",
    "    * coś w rodzaju, że:\n",
    "        1. zanim zaczynam obliczenia sprawdzam czy istnieje plik z poprzednimi przeliczeniami\n",
    "        2. wczytuje plik i sprawdzam jaka jest ostatnia data przeliczeń (ostatni miesiąc/kwartał)\n",
    "        3. jeśli nie jest to aktualny okres, to tworzę listę okresów od ostatniego przeliczonego do daty dzisiejszej\n",
    "        4. sprawdzam czy w pliku transactions.xlsx zdarzyły się jakieś dodatkowe transakcje w tym przedziale czasowym\n",
    "            a. jeśli tak, to musi być cały algorytm doklejający możliwe nowe tickery itp, dużo roboty\n",
    "            b. jeśli nie ide dalej\n",
    "        5. przeliczam dla każdej daty wartości dla wykresów/tabel i doklejam do pliku z przeliczeniami\n",
    "* Ogólna struktura:\n",
    "    * belka z podsumowaniem\n",
    "    * wiersz Composition i Allocation (bo to cały portfel)\n",
    "    * potem wiersze dla poszczególnych rodzajów aktywów (Holdings i Wykres kapitał/zysk) z osobnymi podtytułami\n",
    "        * ten co jest czyli ETFy\n",
    "        * analogiczny do niego dla akcji polskich\n",
    "        * wykresy kołowe proporcje akcji i proporcje branż\n",
    "        * wiersz dla obligacji skarbowych"
   ]
  },
  {
   "cell_type": "markdown",
   "id": "d7403a94-1816-45f7-8916-3c535b37d673",
   "metadata": {
    "tags": []
   },
   "source": [
    "### Data loading"
   ]
  },
  {
   "cell_type": "code",
   "execution_count": 4,
   "id": "bc27e829-3214-488a-9e14-5c1e7af8c8a6",
   "metadata": {
    "tags": []
   },
   "outputs": [],
   "source": [
    "df_raw = pd.read_excel('data/transactions.xlsx')"
   ]
  },
  {
   "cell_type": "code",
   "execution_count": 5,
   "id": "1af3b724-26ba-4a38-830a-3786888373d7",
   "metadata": {
    "tags": []
   },
   "outputs": [],
   "source": [
    "df = df_raw.copy()"
   ]
  },
  {
   "cell_type": "code",
   "execution_count": 6,
   "id": "5bc9dcef-1ef9-4bd4-8241-9ff5a74c520b",
   "metadata": {
    "tags": []
   },
   "outputs": [],
   "source": [
    "df_nw = df[df['asset_type'].str.contains('etf')].reset_index(drop=True)"
   ]
  },
  {
   "cell_type": "markdown",
   "id": "ba73621f-cc6d-4bd3-8606-e019be08121c",
   "metadata": {
    "jp-MarkdownHeadingCollapsed": true,
    "tags": []
   },
   "source": [
    "### Functions"
   ]
  },
  {
   "cell_type": "code",
   "execution_count": 7,
   "id": "35fc6a12-2ad3-4f25-9d2e-ccc46eace04d",
   "metadata": {
    "tags": []
   },
   "outputs": [],
   "source": [
    "def get_current_price(symbol):\n",
    "    ticker = yf.Ticker(symbol)\n",
    "    todays_data = ticker.history(period='1d')\n",
    "    return todays_data['Close'][0]"
   ]
  },
  {
   "cell_type": "code",
   "execution_count": 8,
   "id": "a514c4b0-6448-42a1-b8ba-da9936954d99",
   "metadata": {
    "tags": []
   },
   "outputs": [],
   "source": [
    "def holdings_table(tickers):\n",
    "    holdings = pd.DataFrame(columns=['ticker', 'currency', 'asset_type', 'amount', 'avg_buy_price', 'current_price', 'return_pct'])\n",
    "    for t in tickers:\n",
    "        print(t)\n",
    "        ticker = df[(df['ticker'] == t) & (df['transaction_type'] == 'buy')]\n",
    "        ticker['total_cur'] = ticker['amount'] * ticker['price']\n",
    "        ticker_agg = ticker[['ticker', 'currency', 'asset_type', 'amount', 'price']].groupby(['ticker', 'currency', 'asset_type']).sum().reset_index()\n",
    "        ticker_agg.loc[0, 'price'] = ticker['total_cur'].sum() / ticker['amount'].sum() \n",
    "        ticker_agg = ticker_agg.rename(columns={'price': 'avg_buy_price'})\n",
    "        ticker_agg['current_price'] = get_current_price(t)\n",
    "        ticker_agg['return_pct'] = (ticker_agg['current_price'] - ticker_agg['avg_buy_price']) / ticker_agg['avg_buy_price']\n",
    "        holdings = pd.concat([holdings, ticker_agg])\n",
    "    holdings = holdings.reset_index(drop=True)\n",
    "    holdings['avg_buy_price'] = holdings['avg_buy_price'].map(\"{:,.4f}\".format).astype(float)\n",
    "    holdings['current_price'] = holdings['current_price'].map(\"{:,.4f}\".format).astype(float)\n",
    "    holdings['return_pct'] = holdings['return_pct'] * 100\n",
    "    holdings['return_pct'] = holdings['return_pct'].map('{:,.2f}%'.format)\n",
    "    return holdings"
   ]
  },
  {
   "cell_type": "code",
   "execution_count": 9,
   "id": "4acecd5f-b68f-49e0-bc0d-d20f3cf64db8",
   "metadata": {
    "tags": []
   },
   "outputs": [],
   "source": [
    "def portfolio_return(holdings):\n",
    "    current = (holdings['current_price'] * holdings['amount']).sum()\n",
    "    initial = (holdings['avg_buy_price'] * holdings['amount']).sum()\n",
    "    return round(((current - initial) / initial), 4)"
   ]
  },
  {
   "cell_type": "code",
   "execution_count": 73,
   "id": "f87e913a-2814-4a0f-b862-11c9ed8c64ef",
   "metadata": {},
   "outputs": [],
   "source": [
    "def history_calculation(df_pivot):\n",
    "    for i in range(1, len(df_pivot)):\n",
    "        r = df_pivot.index[i]\n",
    "        r1 = df_pivot.index[i-1]\n",
    "        for c in df_pivot.columns:\n",
    "            if df_pivot.loc[r, c] == 0:\n",
    "                df_pivot.loc[r, c] = df_pivot.loc[r1, c]\n",
    "            if df_pivot.loc[r, c] != df_pivot.loc[r1, c]:\n",
    "                df_pivot.loc[r, c] = df_pivot.loc[r, c] + df_pivot.loc[r1, c]\n",
    "    return df_pivot"
   ]
  },
  {
   "cell_type": "code",
   "execution_count": 74,
   "id": "7f4a8b94-7ec0-44af-9185-c51d6e89aa94",
   "metadata": {
    "tags": []
   },
   "outputs": [],
   "source": [
    "import datetime\n",
    "\n",
    "def last_day_of_month(any_day):\n",
    "    # The day 28 exists in every month. 4 days later, it's always next month\n",
    "    next_month = any_day.replace(day=28) + datetime.timedelta(days=4)\n",
    "    # subtracting the number of the current day brings us back one month\n",
    "    return next_month - datetime.timedelta(days=next_month.day)"
   ]
  },
  {
   "cell_type": "code",
   "execution_count": 75,
   "id": "9baaff93-0970-447d-a6a0-ef725ae7ca39",
   "metadata": {
    "tags": []
   },
   "outputs": [],
   "source": [
    "def net_worth_plot_data(df):\n",
    "    currencies = df[['ticker', 'currency']].drop_duplicates()\n",
    "    df_group = df[['account', 'ticker', 'currency', 'asset_type', 'transaction_type', 'amount', 'price', 'commision', 'pln_exr', 'total_pln']]\n",
    "    df_group['date_month'] = df['date'].astype(str).str[:7]\n",
    "    \n",
    "    df_pivot_capital_init = pd.pivot_table(df_group, values='total_pln', index='date_month', columns='ticker', aggfunc='sum', fill_value=0)\n",
    "    df_pivot_amount = pd.pivot_table(df_group, values='amount', index='date_month', columns='ticker', aggfunc='sum', fill_value=0)\n",
    "\n",
    "    df_pivot_capital_init = history_calculation(df_pivot_capital_init)\n",
    "    df_pivot_amount = history_calculation(df_pivot_amount)\n",
    "    \n",
    "    start_dates = list(df_pivot_amount.index + str(\"-01\"))\n",
    "\n",
    "    end_dates = []\n",
    "\n",
    "    for i in range(0, len(start_dates)):\n",
    "        year = pd.to_datetime(start_dates)[i].year\n",
    "        month = pd.to_datetime(start_dates)[i].month\n",
    "        end_dates.append(str(last_day_of_month(datetime.date(year, month, 1))))\n",
    "        \n",
    "    for ticker in df_pivot_amount.columns:\n",
    "        for i in range(0, len(start_dates)):\n",
    "            if ticker == 'EIMI.L':\n",
    "                avg_price = yf.download('EMIM.AS', start_dates[i], end_dates[i])['Close'].mean()\n",
    "            else:\n",
    "                avg_price = yf.download(ticker, start_dates[i], end_dates[i])['Close'].mean()\n",
    "            amount = df_pivot_amount.loc[df_pivot_amount.index[i], ticker]\n",
    "            if currencies[currencies['ticker'] == ticker]['currency'].reset_index(drop=True)[0] == 'USD':\n",
    "                pln = yf.download('USDPLN=X', start_dates[i], end_dates[i])['Close'].mean()\n",
    "            if (currencies[currencies['ticker'] == ticker]['currency'].reset_index(drop=True)[0] == 'EUR') | (ticker == 'EIMI.L'):\n",
    "                pln = yf.download('EURPLN=X', start_dates[i], end_dates[i])['Close'].mean()\n",
    "            df_pivot_amount.loc[df_pivot_amount.index[i], ticker] = amount * avg_price * pln\n",
    "    \n",
    "    df_plot = pd.concat([df_pivot_capital_init.sum(axis=1), df_pivot_amount.sum(axis=1)], axis=1)\n",
    "    df_plot.columns = ['capital', 'asset_value']\n",
    "    \n",
    "    return df_plot"
   ]
  },
  {
   "cell_type": "code",
   "execution_count": 179,
   "id": "c2189851-62c7-440c-b79f-4f15e23dd9da",
   "metadata": {
    "tags": []
   },
   "outputs": [],
   "source": [
    "def holdings_value_to_pln(holdings_etfs):\n",
    "    holdings = holdings_etfs.copy()\n",
    "    holdings['current_value'] = round(holdings['amount'] * holdings['current_price'], 4)\n",
    "\n",
    "    for row in holdings.index:\n",
    "        if holdings.loc[row]['currency'] == 'USD':\n",
    "            pln = get_current_price('USDPLN=X')\n",
    "        if holdings.loc[row]['currency'] == 'EUR':\n",
    "            pln = get_current_price('EURPLN=X')\n",
    "        holdings.loc[row, 'current_value'] = holdings.loc[row]['current_value'] * pln\n",
    "    return holdings"
   ]
  },
  {
   "cell_type": "code",
   "execution_count": 225,
   "id": "2f8290da-126c-4843-ace8-97939559d20a",
   "metadata": {
    "tags": []
   },
   "outputs": [],
   "source": [
    "# nowe\n",
    "def allocation_table(df, holdings_etfs, holdings_pl, target):\n",
    "    holdings_etfs_pln = holdings_value_to_pln(holdings_etfs)\n",
    "    holdings = holdings_pl.copy()\n",
    "    holdings['current_value'] = holdings['amount'] * holdings['current_price']\n",
    "    curr_hold_pl = holdings[['asset_type', 'current_value']].groupby('asset_type').sum().reset_index()\n",
    "    curr_hold_etf = holdings_etfs_pln[['asset_type', 'current_value']].groupby('asset_type').sum().reset_index()\n",
    "    curr_hold_bond = df[df['asset_type'] == 'bonds'].loc[:,['asset_type', 'total_pln']].groupby('asset_type').sum().reset_index()\n",
    "    curr_hold_bond = curr_hold_bond.rename(columns={'total_pln': 'current_value'})\n",
    "    pie_current = pd.concat([curr_hold_bond, curr_hold_etf, curr_hold_pl]).reset_index(drop=True)\n",
    "    pie_current['current_value'] = pie_current['current_value'] / pie_current['current_value'].sum()\n",
    "    pie_current['target_value'] = target\n",
    "    pie_current['diff'] = pie_current['target_value'] - pie_current['current_value']\n",
    "    return pie_current"
   ]
  },
  {
   "cell_type": "code",
   "execution_count": 242,
   "id": "fee1ea10-b6ae-4f2e-a279-e7e8d8c81aa9",
   "metadata": {
    "tags": []
   },
   "outputs": [],
   "source": [
    "def summary(df, holdings_etfs, holdings_pl):\n",
    "    # amount\n",
    "    bought_assets = df[df['transaction_type'] == 'buy']['ticker'].unique()\n",
    "    sold_assets = df[df['transaction_type'] == 'sell']['ticker'].unique()\n",
    "    all_amount = len(np.setdiff1d(bought_assets, sold_assets))\n",
    "\n",
    "    # bonds\n",
    "    bond_value = df[df['asset_type'] == 'bonds']['total_pln'].sum()\n",
    "\n",
    "    # etfs\n",
    "    holdings = holdings_value_to_pln(holdings_etfs)\n",
    "\n",
    "    etfs_value = holdings['current_value'].sum()\n",
    "\n",
    "    # stock pl\n",
    "    pl_value = round(holdings_pl['amount'] * holdings_pl['current_price'], 4).sum()\n",
    "\n",
    "    all_value = bond_value + etfs_value + pl_value\n",
    "\n",
    "    total_return = (all_value - df['total_pln'].sum()) / df['total_pln'].sum()\n",
    "\n",
    "    return pd.DataFrame({\n",
    "        'Current Total Value': [str(round(all_value, 2)) + ' PLN'],\n",
    "        'Amount of unique assets': [all_amount],\n",
    "        'Total Return': [str(round(total_return, 4) * 100)[:4] + '%']\n",
    "    })"
   ]
  },
  {
   "cell_type": "markdown",
   "id": "c871d94f-8a7b-4300-9b63-bd0c8d636b6b",
   "metadata": {
    "jp-MarkdownHeadingCollapsed": true,
    "tags": []
   },
   "source": [
    "### Composition by quarters"
   ]
  },
  {
   "cell_type": "code",
   "execution_count": 246,
   "id": "aeaed044-ae47-4a89-872b-273758156c98",
   "metadata": {
    "tags": []
   },
   "outputs": [],
   "source": [
    "df_group = df[['account', 'ticker', 'asset_type', 'amount','total_pln']]\n",
    "\n",
    "df_group['quarter'] = df['date'].dt.year.astype(str) + \"Q\" + df['date'].dt.quarter.astype(str)\n",
    "\n",
    "df_pivot = pd.pivot_table(df_group, values='total_pln', index='quarter', columns='asset_type', aggfunc='sum', fill_value=0)\n",
    "\n",
    "for i in range(1, len(df_pivot)):\n",
    "    r = df_pivot.index[i]\n",
    "    # print(r)\n",
    "    r1 = df_pivot.index[i-1]\n",
    "    for c in df_pivot.columns:\n",
    "        if df_pivot.loc[r, c] == 0:\n",
    "            df_pivot.loc[r, c] = df_pivot.loc[r1, c]\n",
    "        if df_pivot.loc[r, c] != df_pivot.loc[r1, c]:\n",
    "            df_pivot.loc[r, c] = df_pivot.loc[r, c] + df_pivot.loc[r1, c]\n",
    "\n",
    "df_prc = df_pivot.div(df_pivot.sum(axis=1), axis=0).reset_index()\n",
    "\n",
    "df_plot = pd.melt(df_prc, id_vars='quarter', value_vars=list(df_prc.columns[1:]), var_name='asset_type', value_name='total_pln')"
   ]
  },
  {
   "cell_type": "code",
   "execution_count": 248,
   "id": "902b95e6-1457-4cbd-8a58-80670e94572d",
   "metadata": {
    "tags": []
   },
   "outputs": [],
   "source": [
    "df_plot.to_pickle('data/df_plot.pkl')"
   ]
  },
  {
   "cell_type": "code",
   "execution_count": 107,
   "id": "a5b3090b-27d2-4e48-b351-e5a32f92952a",
   "metadata": {
    "collapsed": true,
    "jupyter": {
     "outputs_hidden": true
    },
    "tags": []
   },
   "outputs": [
    {
     "data": {
      "application/vnd.plotly.v1+json": {
       "config": {
        "plotlyServerURL": "https://plot.ly"
       },
       "data": [
        {
         "alignmentgroup": "True",
         "hovertemplate": "asset_type=bonds<br>quarter=%{x}<br>total_pln=%{y}<extra></extra>",
         "legendgroup": "bonds",
         "marker": {
          "color": "#636efa",
          "pattern": {
           "shape": ""
          }
         },
         "name": "bonds",
         "offsetgroup": "bonds",
         "orientation": "v",
         "showlegend": true,
         "textposition": "auto",
         "type": "bar",
         "x": [
          "2020Q1",
          "2023Q1",
          "2023Q2",
          "2023Q3",
          "2023Q4",
          "2024Q1"
         ],
         "xaxis": "x",
         "y": [
          1,
          0.9699587605866957,
          0.9694744802000996,
          0.8891283971401077,
          0.7617546581619002,
          0.7034194616989742
         ],
         "yaxis": "y"
        },
        {
         "alignmentgroup": "True",
         "hovertemplate": "asset_type=etf_bond<br>quarter=%{x}<br>total_pln=%{y}<extra></extra>",
         "legendgroup": "etf_bond",
         "marker": {
          "color": "#EF553B",
          "pattern": {
           "shape": ""
          }
         },
         "name": "etf_bond",
         "offsetgroup": "etf_bond",
         "orientation": "v",
         "showlegend": true,
         "textposition": "auto",
         "type": "bar",
         "x": [
          "2020Q1",
          "2023Q1",
          "2023Q2",
          "2023Q3",
          "2023Q4",
          "2024Q1"
         ],
         "xaxis": "x",
         "y": [
          0,
          0,
          0,
          0.017471094800887824,
          0.10530839697621572,
          0.13668690641284928
         ],
         "yaxis": "y"
        },
        {
         "alignmentgroup": "True",
         "hovertemplate": "asset_type=etf_stock<br>quarter=%{x}<br>total_pln=%{y}<extra></extra>",
         "legendgroup": "etf_stock",
         "marker": {
          "color": "#00cc96",
          "pattern": {
           "shape": ""
          }
         },
         "name": "etf_stock",
         "offsetgroup": "etf_stock",
         "orientation": "v",
         "showlegend": true,
         "textposition": "auto",
         "type": "bar",
         "x": [
          "2020Q1",
          "2023Q1",
          "2023Q2",
          "2023Q3",
          "2023Q4",
          "2024Q1"
         ],
         "xaxis": "x",
         "y": [
          0,
          0,
          0,
          0.06597991530954596,
          0.10241515274038425,
          0.13170919959865293
         ],
         "yaxis": "y"
        },
        {
         "alignmentgroup": "True",
         "hovertemplate": "asset_type=stock_pl<br>quarter=%{x}<br>total_pln=%{y}<extra></extra>",
         "legendgroup": "stock_pl",
         "marker": {
          "color": "#ab63fa",
          "pattern": {
           "shape": ""
          }
         },
         "name": "stock_pl",
         "offsetgroup": "stock_pl",
         "orientation": "v",
         "showlegend": true,
         "textposition": "auto",
         "type": "bar",
         "x": [
          "2020Q1",
          "2023Q1",
          "2023Q2",
          "2023Q3",
          "2023Q4",
          "2024Q1"
         ],
         "xaxis": "x",
         "y": [
          0,
          0.030041239413304277,
          0.03052551979990047,
          0.02742059274945847,
          0.03052179212149968,
          0.02818443228952363
         ],
         "yaxis": "y"
        }
       ],
       "layout": {
        "autosize": false,
        "barmode": "relative",
        "height": 600,
        "legend": {
         "title": {
          "text": "asset_type"
         },
         "tracegroupgap": 0
        },
        "template": {
         "data": {
          "bar": [
           {
            "error_x": {
             "color": "#2a3f5f"
            },
            "error_y": {
             "color": "#2a3f5f"
            },
            "marker": {
             "line": {
              "color": "#E5ECF6",
              "width": 0.5
             },
             "pattern": {
              "fillmode": "overlay",
              "size": 10,
              "solidity": 0.2
             }
            },
            "type": "bar"
           }
          ],
          "barpolar": [
           {
            "marker": {
             "line": {
              "color": "#E5ECF6",
              "width": 0.5
             },
             "pattern": {
              "fillmode": "overlay",
              "size": 10,
              "solidity": 0.2
             }
            },
            "type": "barpolar"
           }
          ],
          "carpet": [
           {
            "aaxis": {
             "endlinecolor": "#2a3f5f",
             "gridcolor": "white",
             "linecolor": "white",
             "minorgridcolor": "white",
             "startlinecolor": "#2a3f5f"
            },
            "baxis": {
             "endlinecolor": "#2a3f5f",
             "gridcolor": "white",
             "linecolor": "white",
             "minorgridcolor": "white",
             "startlinecolor": "#2a3f5f"
            },
            "type": "carpet"
           }
          ],
          "choropleth": [
           {
            "colorbar": {
             "outlinewidth": 0,
             "ticks": ""
            },
            "type": "choropleth"
           }
          ],
          "contour": [
           {
            "colorbar": {
             "outlinewidth": 0,
             "ticks": ""
            },
            "colorscale": [
             [
              0,
              "#0d0887"
             ],
             [
              0.1111111111111111,
              "#46039f"
             ],
             [
              0.2222222222222222,
              "#7201a8"
             ],
             [
              0.3333333333333333,
              "#9c179e"
             ],
             [
              0.4444444444444444,
              "#bd3786"
             ],
             [
              0.5555555555555556,
              "#d8576b"
             ],
             [
              0.6666666666666666,
              "#ed7953"
             ],
             [
              0.7777777777777778,
              "#fb9f3a"
             ],
             [
              0.8888888888888888,
              "#fdca26"
             ],
             [
              1,
              "#f0f921"
             ]
            ],
            "type": "contour"
           }
          ],
          "contourcarpet": [
           {
            "colorbar": {
             "outlinewidth": 0,
             "ticks": ""
            },
            "type": "contourcarpet"
           }
          ],
          "heatmap": [
           {
            "colorbar": {
             "outlinewidth": 0,
             "ticks": ""
            },
            "colorscale": [
             [
              0,
              "#0d0887"
             ],
             [
              0.1111111111111111,
              "#46039f"
             ],
             [
              0.2222222222222222,
              "#7201a8"
             ],
             [
              0.3333333333333333,
              "#9c179e"
             ],
             [
              0.4444444444444444,
              "#bd3786"
             ],
             [
              0.5555555555555556,
              "#d8576b"
             ],
             [
              0.6666666666666666,
              "#ed7953"
             ],
             [
              0.7777777777777778,
              "#fb9f3a"
             ],
             [
              0.8888888888888888,
              "#fdca26"
             ],
             [
              1,
              "#f0f921"
             ]
            ],
            "type": "heatmap"
           }
          ],
          "heatmapgl": [
           {
            "colorbar": {
             "outlinewidth": 0,
             "ticks": ""
            },
            "colorscale": [
             [
              0,
              "#0d0887"
             ],
             [
              0.1111111111111111,
              "#46039f"
             ],
             [
              0.2222222222222222,
              "#7201a8"
             ],
             [
              0.3333333333333333,
              "#9c179e"
             ],
             [
              0.4444444444444444,
              "#bd3786"
             ],
             [
              0.5555555555555556,
              "#d8576b"
             ],
             [
              0.6666666666666666,
              "#ed7953"
             ],
             [
              0.7777777777777778,
              "#fb9f3a"
             ],
             [
              0.8888888888888888,
              "#fdca26"
             ],
             [
              1,
              "#f0f921"
             ]
            ],
            "type": "heatmapgl"
           }
          ],
          "histogram": [
           {
            "marker": {
             "pattern": {
              "fillmode": "overlay",
              "size": 10,
              "solidity": 0.2
             }
            },
            "type": "histogram"
           }
          ],
          "histogram2d": [
           {
            "colorbar": {
             "outlinewidth": 0,
             "ticks": ""
            },
            "colorscale": [
             [
              0,
              "#0d0887"
             ],
             [
              0.1111111111111111,
              "#46039f"
             ],
             [
              0.2222222222222222,
              "#7201a8"
             ],
             [
              0.3333333333333333,
              "#9c179e"
             ],
             [
              0.4444444444444444,
              "#bd3786"
             ],
             [
              0.5555555555555556,
              "#d8576b"
             ],
             [
              0.6666666666666666,
              "#ed7953"
             ],
             [
              0.7777777777777778,
              "#fb9f3a"
             ],
             [
              0.8888888888888888,
              "#fdca26"
             ],
             [
              1,
              "#f0f921"
             ]
            ],
            "type": "histogram2d"
           }
          ],
          "histogram2dcontour": [
           {
            "colorbar": {
             "outlinewidth": 0,
             "ticks": ""
            },
            "colorscale": [
             [
              0,
              "#0d0887"
             ],
             [
              0.1111111111111111,
              "#46039f"
             ],
             [
              0.2222222222222222,
              "#7201a8"
             ],
             [
              0.3333333333333333,
              "#9c179e"
             ],
             [
              0.4444444444444444,
              "#bd3786"
             ],
             [
              0.5555555555555556,
              "#d8576b"
             ],
             [
              0.6666666666666666,
              "#ed7953"
             ],
             [
              0.7777777777777778,
              "#fb9f3a"
             ],
             [
              0.8888888888888888,
              "#fdca26"
             ],
             [
              1,
              "#f0f921"
             ]
            ],
            "type": "histogram2dcontour"
           }
          ],
          "mesh3d": [
           {
            "colorbar": {
             "outlinewidth": 0,
             "ticks": ""
            },
            "type": "mesh3d"
           }
          ],
          "parcoords": [
           {
            "line": {
             "colorbar": {
              "outlinewidth": 0,
              "ticks": ""
             }
            },
            "type": "parcoords"
           }
          ],
          "pie": [
           {
            "automargin": true,
            "type": "pie"
           }
          ],
          "scatter": [
           {
            "fillpattern": {
             "fillmode": "overlay",
             "size": 10,
             "solidity": 0.2
            },
            "type": "scatter"
           }
          ],
          "scatter3d": [
           {
            "line": {
             "colorbar": {
              "outlinewidth": 0,
              "ticks": ""
             }
            },
            "marker": {
             "colorbar": {
              "outlinewidth": 0,
              "ticks": ""
             }
            },
            "type": "scatter3d"
           }
          ],
          "scattercarpet": [
           {
            "marker": {
             "colorbar": {
              "outlinewidth": 0,
              "ticks": ""
             }
            },
            "type": "scattercarpet"
           }
          ],
          "scattergeo": [
           {
            "marker": {
             "colorbar": {
              "outlinewidth": 0,
              "ticks": ""
             }
            },
            "type": "scattergeo"
           }
          ],
          "scattergl": [
           {
            "marker": {
             "colorbar": {
              "outlinewidth": 0,
              "ticks": ""
             }
            },
            "type": "scattergl"
           }
          ],
          "scattermapbox": [
           {
            "marker": {
             "colorbar": {
              "outlinewidth": 0,
              "ticks": ""
             }
            },
            "type": "scattermapbox"
           }
          ],
          "scatterpolar": [
           {
            "marker": {
             "colorbar": {
              "outlinewidth": 0,
              "ticks": ""
             }
            },
            "type": "scatterpolar"
           }
          ],
          "scatterpolargl": [
           {
            "marker": {
             "colorbar": {
              "outlinewidth": 0,
              "ticks": ""
             }
            },
            "type": "scatterpolargl"
           }
          ],
          "scatterternary": [
           {
            "marker": {
             "colorbar": {
              "outlinewidth": 0,
              "ticks": ""
             }
            },
            "type": "scatterternary"
           }
          ],
          "surface": [
           {
            "colorbar": {
             "outlinewidth": 0,
             "ticks": ""
            },
            "colorscale": [
             [
              0,
              "#0d0887"
             ],
             [
              0.1111111111111111,
              "#46039f"
             ],
             [
              0.2222222222222222,
              "#7201a8"
             ],
             [
              0.3333333333333333,
              "#9c179e"
             ],
             [
              0.4444444444444444,
              "#bd3786"
             ],
             [
              0.5555555555555556,
              "#d8576b"
             ],
             [
              0.6666666666666666,
              "#ed7953"
             ],
             [
              0.7777777777777778,
              "#fb9f3a"
             ],
             [
              0.8888888888888888,
              "#fdca26"
             ],
             [
              1,
              "#f0f921"
             ]
            ],
            "type": "surface"
           }
          ],
          "table": [
           {
            "cells": {
             "fill": {
              "color": "#EBF0F8"
             },
             "line": {
              "color": "white"
             }
            },
            "header": {
             "fill": {
              "color": "#C8D4E3"
             },
             "line": {
              "color": "white"
             }
            },
            "type": "table"
           }
          ]
         },
         "layout": {
          "annotationdefaults": {
           "arrowcolor": "#2a3f5f",
           "arrowhead": 0,
           "arrowwidth": 1
          },
          "autotypenumbers": "strict",
          "coloraxis": {
           "colorbar": {
            "outlinewidth": 0,
            "ticks": ""
           }
          },
          "colorscale": {
           "diverging": [
            [
             0,
             "#8e0152"
            ],
            [
             0.1,
             "#c51b7d"
            ],
            [
             0.2,
             "#de77ae"
            ],
            [
             0.3,
             "#f1b6da"
            ],
            [
             0.4,
             "#fde0ef"
            ],
            [
             0.5,
             "#f7f7f7"
            ],
            [
             0.6,
             "#e6f5d0"
            ],
            [
             0.7,
             "#b8e186"
            ],
            [
             0.8,
             "#7fbc41"
            ],
            [
             0.9,
             "#4d9221"
            ],
            [
             1,
             "#276419"
            ]
           ],
           "sequential": [
            [
             0,
             "#0d0887"
            ],
            [
             0.1111111111111111,
             "#46039f"
            ],
            [
             0.2222222222222222,
             "#7201a8"
            ],
            [
             0.3333333333333333,
             "#9c179e"
            ],
            [
             0.4444444444444444,
             "#bd3786"
            ],
            [
             0.5555555555555556,
             "#d8576b"
            ],
            [
             0.6666666666666666,
             "#ed7953"
            ],
            [
             0.7777777777777778,
             "#fb9f3a"
            ],
            [
             0.8888888888888888,
             "#fdca26"
            ],
            [
             1,
             "#f0f921"
            ]
           ],
           "sequentialminus": [
            [
             0,
             "#0d0887"
            ],
            [
             0.1111111111111111,
             "#46039f"
            ],
            [
             0.2222222222222222,
             "#7201a8"
            ],
            [
             0.3333333333333333,
             "#9c179e"
            ],
            [
             0.4444444444444444,
             "#bd3786"
            ],
            [
             0.5555555555555556,
             "#d8576b"
            ],
            [
             0.6666666666666666,
             "#ed7953"
            ],
            [
             0.7777777777777778,
             "#fb9f3a"
            ],
            [
             0.8888888888888888,
             "#fdca26"
            ],
            [
             1,
             "#f0f921"
            ]
           ]
          },
          "colorway": [
           "#636efa",
           "#EF553B",
           "#00cc96",
           "#ab63fa",
           "#FFA15A",
           "#19d3f3",
           "#FF6692",
           "#B6E880",
           "#FF97FF",
           "#FECB52"
          ],
          "font": {
           "color": "#2a3f5f"
          },
          "geo": {
           "bgcolor": "white",
           "lakecolor": "white",
           "landcolor": "#E5ECF6",
           "showlakes": true,
           "showland": true,
           "subunitcolor": "white"
          },
          "hoverlabel": {
           "align": "left"
          },
          "hovermode": "closest",
          "mapbox": {
           "style": "light"
          },
          "paper_bgcolor": "white",
          "plot_bgcolor": "#E5ECF6",
          "polar": {
           "angularaxis": {
            "gridcolor": "white",
            "linecolor": "white",
            "ticks": ""
           },
           "bgcolor": "#E5ECF6",
           "radialaxis": {
            "gridcolor": "white",
            "linecolor": "white",
            "ticks": ""
           }
          },
          "scene": {
           "xaxis": {
            "backgroundcolor": "#E5ECF6",
            "gridcolor": "white",
            "gridwidth": 2,
            "linecolor": "white",
            "showbackground": true,
            "ticks": "",
            "zerolinecolor": "white"
           },
           "yaxis": {
            "backgroundcolor": "#E5ECF6",
            "gridcolor": "white",
            "gridwidth": 2,
            "linecolor": "white",
            "showbackground": true,
            "ticks": "",
            "zerolinecolor": "white"
           },
           "zaxis": {
            "backgroundcolor": "#E5ECF6",
            "gridcolor": "white",
            "gridwidth": 2,
            "linecolor": "white",
            "showbackground": true,
            "ticks": "",
            "zerolinecolor": "white"
           }
          },
          "shapedefaults": {
           "line": {
            "color": "#2a3f5f"
           }
          },
          "ternary": {
           "aaxis": {
            "gridcolor": "white",
            "linecolor": "white",
            "ticks": ""
           },
           "baxis": {
            "gridcolor": "white",
            "linecolor": "white",
            "ticks": ""
           },
           "bgcolor": "#E5ECF6",
           "caxis": {
            "gridcolor": "white",
            "linecolor": "white",
            "ticks": ""
           }
          },
          "title": {
           "x": 0.05
          },
          "xaxis": {
           "automargin": true,
           "gridcolor": "white",
           "linecolor": "white",
           "ticks": "",
           "title": {
            "standoff": 15
           },
           "zerolinecolor": "white",
           "zerolinewidth": 2
          },
          "yaxis": {
           "automargin": true,
           "gridcolor": "white",
           "linecolor": "white",
           "ticks": "",
           "title": {
            "standoff": 15
           },
           "zerolinecolor": "white",
           "zerolinewidth": 2
          }
         }
        },
        "title": {
         "text": "Portfolio composition by quarters"
        },
        "width": 1000,
        "xaxis": {
         "anchor": "y",
         "autorange": true,
         "domain": [
          0,
          1
         ],
         "range": [
          -0.5,
          5.5
         ],
         "title": {
          "text": "quarter"
         },
         "type": "category"
        },
        "yaxis": {
         "anchor": "x",
         "autorange": true,
         "domain": [
          0,
          1
         ],
         "range": [
          0,
          1.0526315789473684
         ],
         "title": {
          "text": "total_pln"
         },
         "type": "linear"
        }
       }
      },
      "image/png": "[encoded data removed]",
      "text/html": [
       "<div>                            <div id=\"e8c9d294-3f8f-46fd-aab5-581a4e8bcb17\" class=\"plotly-graph-div\" style=\"height:600px; width:1000px;\"></div>            <script type=\"text/javascript\">                require([\"plotly\"], function(Plotly) {                    window.PLOTLYENV=window.PLOTLYENV || {};                                    if (document.getElementById(\"e8c9d294-3f8f-46fd-aab5-581a4e8bcb17\")) {                    Plotly.newPlot(                        \"e8c9d294-3f8f-46fd-aab5-581a4e8bcb17\",                        [{\"alignmentgroup\":\"True\",\"hovertemplate\":\"asset_type=bonds\\u003cbr\\u003equarter=%{x}\\u003cbr\\u003etotal_pln=%{y}\\u003cextra\\u003e\\u003c\\u002fextra\\u003e\",\"legendgroup\":\"bonds\",\"marker\":{\"color\":\"#636efa\",\"pattern\":{\"shape\":\"\"}},\"name\":\"bonds\",\"offsetgroup\":\"bonds\",\"orientation\":\"v\",\"showlegend\":true,\"textposition\":\"auto\",\"x\":[\"2020Q1\",\"2023Q1\",\"2023Q2\",\"2023Q3\",\"2023Q4\",\"2024Q1\"],\"xaxis\":\"x\",\"y\":[1.0,0.9699587605866957,0.9694744802000996,0.8891283971401077,0.7617546581619002,0.7034194616989742],\"yaxis\":\"y\",\"type\":\"bar\"},{\"alignmentgroup\":\"True\",\"hovertemplate\":\"asset_type=etf_bond\\u003cbr\\u003equarter=%{x}\\u003cbr\\u003etotal_pln=%{y}\\u003cextra\\u003e\\u003c\\u002fextra\\u003e\",\"legendgroup\":\"etf_bond\",\"marker\":{\"color\":\"#EF553B\",\"pattern\":{\"shape\":\"\"}},\"name\":\"etf_bond\",\"offsetgroup\":\"etf_bond\",\"orientation\":\"v\",\"showlegend\":true,\"textposition\":\"auto\",\"x\":[\"2020Q1\",\"2023Q1\",\"2023Q2\",\"2023Q3\",\"2023Q4\",\"2024Q1\"],\"xaxis\":\"x\",\"y\":[0.0,0.0,0.0,0.017471094800887824,0.10530839697621572,0.13668690641284928],\"yaxis\":\"y\",\"type\":\"bar\"},{\"alignmentgroup\":\"True\",\"hovertemplate\":\"asset_type=etf_stock\\u003cbr\\u003equarter=%{x}\\u003cbr\\u003etotal_pln=%{y}\\u003cextra\\u003e\\u003c\\u002fextra\\u003e\",\"legendgroup\":\"etf_stock\",\"marker\":{\"color\":\"#00cc96\",\"pattern\":{\"shape\":\"\"}},\"name\":\"etf_stock\",\"offsetgroup\":\"etf_stock\",\"orientation\":\"v\",\"showlegend\":true,\"textposition\":\"auto\",\"x\":[\"2020Q1\",\"2023Q1\",\"2023Q2\",\"2023Q3\",\"2023Q4\",\"2024Q1\"],\"xaxis\":\"x\",\"y\":[0.0,0.0,0.0,0.06597991530954596,0.10241515274038425,0.13170919959865293],\"yaxis\":\"y\",\"type\":\"bar\"},{\"alignmentgroup\":\"True\",\"hovertemplate\":\"asset_type=stock_pl\\u003cbr\\u003equarter=%{x}\\u003cbr\\u003etotal_pln=%{y}\\u003cextra\\u003e\\u003c\\u002fextra\\u003e\",\"legendgroup\":\"stock_pl\",\"marker\":{\"color\":\"#ab63fa\",\"pattern\":{\"shape\":\"\"}},\"name\":\"stock_pl\",\"offsetgroup\":\"stock_pl\",\"orientation\":\"v\",\"showlegend\":true,\"textposition\":\"auto\",\"x\":[\"2020Q1\",\"2023Q1\",\"2023Q2\",\"2023Q3\",\"2023Q4\",\"2024Q1\"],\"xaxis\":\"x\",\"y\":[0.0,0.030041239413304277,0.03052551979990047,0.02742059274945847,0.03052179212149968,0.02818443228952363],\"yaxis\":\"y\",\"type\":\"bar\"}],                        {\"template\":{\"data\":{\"histogram2dcontour\":[{\"type\":\"histogram2dcontour\",\"colorbar\":{\"outlinewidth\":0,\"ticks\":\"\"},\"colorscale\":[[0.0,\"#0d0887\"],[0.1111111111111111,\"#46039f\"],[0.2222222222222222,\"#7201a8\"],[0.3333333333333333,\"#9c179e\"],[0.4444444444444444,\"#bd3786\"],[0.5555555555555556,\"#d8576b\"],[0.6666666666666666,\"#ed7953\"],[0.7777777777777778,\"#fb9f3a\"],[0.8888888888888888,\"#fdca26\"],[1.0,\"#f0f921\"]]}],\"choropleth\":[{\"type\":\"choropleth\",\"colorbar\":{\"outlinewidth\":0,\"ticks\":\"\"}}],\"histogram2d\":[{\"type\":\"histogram2d\",\"colorbar\":{\"outlinewidth\":0,\"ticks\":\"\"},\"colorscale\":[[0.0,\"#0d0887\"],[0.1111111111111111,\"#46039f\"],[0.2222222222222222,\"#7201a8\"],[0.3333333333333333,\"#9c179e\"],[0.4444444444444444,\"#bd3786\"],[0.5555555555555556,\"#d8576b\"],[0.6666666666666666,\"#ed7953\"],[0.7777777777777778,\"#fb9f3a\"],[0.8888888888888888,\"#fdca26\"],[1.0,\"#f0f921\"]]}],\"heatmap\":[{\"type\":\"heatmap\",\"colorbar\":{\"outlinewidth\":0,\"ticks\":\"\"},\"colorscale\":[[0.0,\"#0d0887\"],[0.1111111111111111,\"#46039f\"],[0.2222222222222222,\"#7201a8\"],[0.3333333333333333,\"#9c179e\"],[0.4444444444444444,\"#bd3786\"],[0.5555555555555556,\"#d8576b\"],[0.6666666666666666,\"#ed7953\"],[0.7777777777777778,\"#fb9f3a\"],[0.8888888888888888,\"#fdca26\"],[1.0,\"#f0f921\"]]}],\"heatmapgl\":[{\"type\":\"heatmapgl\",\"colorbar\":{\"outlinewidth\":0,\"ticks\":\"\"},\"colorscale\":[[0.0,\"#0d0887\"],[0.1111111111111111,\"#46039f\"],[0.2222222222222222,\"#7201a8\"],[0.3333333333333333,\"#9c179e\"],[0.4444444444444444,\"#bd3786\"],[0.5555555555555556,\"#d8576b\"],[0.6666666666666666,\"#ed7953\"],[0.7777777777777778,\"#fb9f3a\"],[0.8888888888888888,\"#fdca26\"],[1.0,\"#f0f921\"]]}],\"contourcarpet\":[{\"type\":\"contourcarpet\",\"colorbar\":{\"outlinewidth\":0,\"ticks\":\"\"}}],\"contour\":[{\"type\":\"contour\",\"colorbar\":{\"outlinewidth\":0,\"ticks\":\"\"},\"colorscale\":[[0.0,\"#0d0887\"],[0.1111111111111111,\"#46039f\"],[0.2222222222222222,\"#7201a8\"],[0.3333333333333333,\"#9c179e\"],[0.4444444444444444,\"#bd3786\"],[0.5555555555555556,\"#d8576b\"],[0.6666666666666666,\"#ed7953\"],[0.7777777777777778,\"#fb9f3a\"],[0.8888888888888888,\"#fdca26\"],[1.0,\"#f0f921\"]]}],\"surface\":[{\"type\":\"surface\",\"colorbar\":{\"outlinewidth\":0,\"ticks\":\"\"},\"colorscale\":[[0.0,\"#0d0887\"],[0.1111111111111111,\"#46039f\"],[0.2222222222222222,\"#7201a8\"],[0.3333333333333333,\"#9c179e\"],[0.4444444444444444,\"#bd3786\"],[0.5555555555555556,\"#d8576b\"],[0.6666666666666666,\"#ed7953\"],[0.7777777777777778,\"#fb9f3a\"],[0.8888888888888888,\"#fdca26\"],[1.0,\"#f0f921\"]]}],\"mesh3d\":[{\"type\":\"mesh3d\",\"colorbar\":{\"outlinewidth\":0,\"ticks\":\"\"}}],\"scatter\":[{\"fillpattern\":{\"fillmode\":\"overlay\",\"size\":10,\"solidity\":0.2},\"type\":\"scatter\"}],\"parcoords\":[{\"type\":\"parcoords\",\"line\":{\"colorbar\":{\"outlinewidth\":0,\"ticks\":\"\"}}}],\"scatterpolargl\":[{\"type\":\"scatterpolargl\",\"marker\":{\"colorbar\":{\"outlinewidth\":0,\"ticks\":\"\"}}}],\"bar\":[{\"error_x\":{\"color\":\"#2a3f5f\"},\"error_y\":{\"color\":\"#2a3f5f\"},\"marker\":{\"line\":{\"color\":\"#E5ECF6\",\"width\":0.5},\"pattern\":{\"fillmode\":\"overlay\",\"size\":10,\"solidity\":0.2}},\"type\":\"bar\"}],\"scattergeo\":[{\"type\":\"scattergeo\",\"marker\":{\"colorbar\":{\"outlinewidth\":0,\"ticks\":\"\"}}}],\"scatterpolar\":[{\"type\":\"scatterpolar\",\"marker\":{\"colorbar\":{\"outlinewidth\":0,\"ticks\":\"\"}}}],\"histogram\":[{\"marker\":{\"pattern\":{\"fillmode\":\"overlay\",\"size\":10,\"solidity\":0.2}},\"type\":\"histogram\"}],\"scattergl\":[{\"type\":\"scattergl\",\"marker\":{\"colorbar\":{\"outlinewidth\":0,\"ticks\":\"\"}}}],\"scatter3d\":[{\"type\":\"scatter3d\",\"line\":{\"colorbar\":{\"outlinewidth\":0,\"ticks\":\"\"}},\"marker\":{\"colorbar\":{\"outlinewidth\":0,\"ticks\":\"\"}}}],\"scattermapbox\":[{\"type\":\"scattermapbox\",\"marker\":{\"colorbar\":{\"outlinewidth\":0,\"ticks\":\"\"}}}],\"scatterternary\":[{\"type\":\"scatterternary\",\"marker\":{\"colorbar\":{\"outlinewidth\":0,\"ticks\":\"\"}}}],\"scattercarpet\":[{\"type\":\"scattercarpet\",\"marker\":{\"colorbar\":{\"outlinewidth\":0,\"ticks\":\"\"}}}],\"carpet\":[{\"aaxis\":{\"endlinecolor\":\"#2a3f5f\",\"gridcolor\":\"white\",\"linecolor\":\"white\",\"minorgridcolor\":\"white\",\"startlinecolor\":\"#2a3f5f\"},\"baxis\":{\"endlinecolor\":\"#2a3f5f\",\"gridcolor\":\"white\",\"linecolor\":\"white\",\"minorgridcolor\":\"white\",\"startlinecolor\":\"#2a3f5f\"},\"type\":\"carpet\"}],\"table\":[{\"cells\":{\"fill\":{\"color\":\"#EBF0F8\"},\"line\":{\"color\":\"white\"}},\"header\":{\"fill\":{\"color\":\"#C8D4E3\"},\"line\":{\"color\":\"white\"}},\"type\":\"table\"}],\"barpolar\":[{\"marker\":{\"line\":{\"color\":\"#E5ECF6\",\"width\":0.5},\"pattern\":{\"fillmode\":\"overlay\",\"size\":10,\"solidity\":0.2}},\"type\":\"barpolar\"}],\"pie\":[{\"automargin\":true,\"type\":\"pie\"}]},\"layout\":{\"autotypenumbers\":\"strict\",\"colorway\":[\"#636efa\",\"#EF553B\",\"#00cc96\",\"#ab63fa\",\"#FFA15A\",\"#19d3f3\",\"#FF6692\",\"#B6E880\",\"#FF97FF\",\"#FECB52\"],\"font\":{\"color\":\"#2a3f5f\"},\"hovermode\":\"closest\",\"hoverlabel\":{\"align\":\"left\"},\"paper_bgcolor\":\"white\",\"plot_bgcolor\":\"#E5ECF6\",\"polar\":{\"bgcolor\":\"#E5ECF6\",\"angularaxis\":{\"gridcolor\":\"white\",\"linecolor\":\"white\",\"ticks\":\"\"},\"radialaxis\":{\"gridcolor\":\"white\",\"linecolor\":\"white\",\"ticks\":\"\"}},\"ternary\":{\"bgcolor\":\"#E5ECF6\",\"aaxis\":{\"gridcolor\":\"white\",\"linecolor\":\"white\",\"ticks\":\"\"},\"baxis\":{\"gridcolor\":\"white\",\"linecolor\":\"white\",\"ticks\":\"\"},\"caxis\":{\"gridcolor\":\"white\",\"linecolor\":\"white\",\"ticks\":\"\"}},\"coloraxis\":{\"colorbar\":{\"outlinewidth\":0,\"ticks\":\"\"}},\"colorscale\":{\"sequential\":[[0.0,\"#0d0887\"],[0.1111111111111111,\"#46039f\"],[0.2222222222222222,\"#7201a8\"],[0.3333333333333333,\"#9c179e\"],[0.4444444444444444,\"#bd3786\"],[0.5555555555555556,\"#d8576b\"],[0.6666666666666666,\"#ed7953\"],[0.7777777777777778,\"#fb9f3a\"],[0.8888888888888888,\"#fdca26\"],[1.0,\"#f0f921\"]],\"sequentialminus\":[[0.0,\"#0d0887\"],[0.1111111111111111,\"#46039f\"],[0.2222222222222222,\"#7201a8\"],[0.3333333333333333,\"#9c179e\"],[0.4444444444444444,\"#bd3786\"],[0.5555555555555556,\"#d8576b\"],[0.6666666666666666,\"#ed7953\"],[0.7777777777777778,\"#fb9f3a\"],[0.8888888888888888,\"#fdca26\"],[1.0,\"#f0f921\"]],\"diverging\":[[0,\"#8e0152\"],[0.1,\"#c51b7d\"],[0.2,\"#de77ae\"],[0.3,\"#f1b6da\"],[0.4,\"#fde0ef\"],[0.5,\"#f7f7f7\"],[0.6,\"#e6f5d0\"],[0.7,\"#b8e186\"],[0.8,\"#7fbc41\"],[0.9,\"#4d9221\"],[1,\"#276419\"]]},\"xaxis\":{\"gridcolor\":\"white\",\"linecolor\":\"white\",\"ticks\":\"\",\"title\":{\"standoff\":15},\"zerolinecolor\":\"white\",\"automargin\":true,\"zerolinewidth\":2},\"yaxis\":{\"gridcolor\":\"white\",\"linecolor\":\"white\",\"ticks\":\"\",\"title\":{\"standoff\":15},\"zerolinecolor\":\"white\",\"automargin\":true,\"zerolinewidth\":2},\"scene\":{\"xaxis\":{\"backgroundcolor\":\"#E5ECF6\",\"gridcolor\":\"white\",\"linecolor\":\"white\",\"showbackground\":true,\"ticks\":\"\",\"zerolinecolor\":\"white\",\"gridwidth\":2},\"yaxis\":{\"backgroundcolor\":\"#E5ECF6\",\"gridcolor\":\"white\",\"linecolor\":\"white\",\"showbackground\":true,\"ticks\":\"\",\"zerolinecolor\":\"white\",\"gridwidth\":2},\"zaxis\":{\"backgroundcolor\":\"#E5ECF6\",\"gridcolor\":\"white\",\"linecolor\":\"white\",\"showbackground\":true,\"ticks\":\"\",\"zerolinecolor\":\"white\",\"gridwidth\":2}},\"shapedefaults\":{\"line\":{\"color\":\"#2a3f5f\"}},\"annotationdefaults\":{\"arrowcolor\":\"#2a3f5f\",\"arrowhead\":0,\"arrowwidth\":1},\"geo\":{\"bgcolor\":\"white\",\"landcolor\":\"#E5ECF6\",\"subunitcolor\":\"white\",\"showland\":true,\"showlakes\":true,\"lakecolor\":\"white\"},\"title\":{\"x\":0.05},\"mapbox\":{\"style\":\"light\"}}},\"xaxis\":{\"anchor\":\"y\",\"domain\":[0.0,1.0],\"title\":{\"text\":\"quarter\"}},\"yaxis\":{\"anchor\":\"x\",\"domain\":[0.0,1.0],\"title\":{\"text\":\"total_pln\"}},\"legend\":{\"title\":{\"text\":\"asset_type\"},\"tracegroupgap\":0},\"title\":{\"text\":\"Portfolio composition by quarters\"},\"barmode\":\"relative\",\"autosize\":false,\"width\":1000,\"height\":600},                        {\"responsive\": true}                    ).then(function(){\n",
       "                            \n",
       "var gd = document.getElementById('e8c9d294-3f8f-46fd-aab5-581a4e8bcb17');\n",
       "var x = new MutationObserver(function (mutations, observer) {{\n",
       "        var display = window.getComputedStyle(gd).display;\n",
       "        if (!display || display === 'none') {{\n",
       "            console.log([gd, 'removed!']);\n",
       "            Plotly.purge(gd);\n",
       "            observer.disconnect();\n",
       "        }}\n",
       "}});\n",
       "\n",
       "// Listen for the removal of the full notebook cells\n",
       "var notebookContainer = gd.closest('#notebook-container');\n",
       "if (notebookContainer) {{\n",
       "    x.observe(notebookContainer, {childList: true});\n",
       "}}\n",
       "\n",
       "// Listen for the clearing of the current output cell\n",
       "var outputEl = gd.closest('.output');\n",
       "if (outputEl) {{\n",
       "    x.observe(outputEl, {childList: true});\n",
       "}}\n",
       "\n",
       "                        })                };                });            </script>        </div>"
      ]
     },
     "metadata": {},
     "output_type": "display_data"
    }
   ],
   "source": [
    "fig = px.bar(df_plot, x=\"quarter\", y=\"total_pln\", color=\"asset_type\", title=\"Portfolio composition by quarters\")\n",
    "\n",
    "fig.update_layout(\n",
    "    autosize=False,\n",
    "    width=1000,\n",
    "    height=600,\n",
    "    # paper_bgcolor=\"LightSteelBlue\",\n",
    ")\n",
    "\n",
    "fig.show()"
   ]
  },
  {
   "cell_type": "markdown",
   "id": "445fc278-2b34-4a41-af4d-9829eb879585",
   "metadata": {
    "jp-MarkdownHeadingCollapsed": true,
    "tags": []
   },
   "source": [
    "### Holdings table"
   ]
  },
  {
   "cell_type": "code",
   "execution_count": 157,
   "id": "49eae43f-feba-42d2-8431-575f4eacd18d",
   "metadata": {
    "tags": []
   },
   "outputs": [
    {
     "name": "stdout",
     "output_type": "stream",
     "text": [
      "EIMI.L\n",
      "DTLA.L\n",
      "SWRD.L\n",
      "IDTL.L\n",
      "VWRL.AS\n"
     ]
    }
   ],
   "source": [
    "holdings_etfs = holdings_table(df_nw['ticker'].unique())"
   ]
  },
  {
   "cell_type": "code",
   "execution_count": 12,
   "id": "39796bf0-71a2-4bda-85c5-40e2f7e499cc",
   "metadata": {
    "tags": []
   },
   "outputs": [],
   "source": [
    "holdings_etfs.to_pickle('data/holdings_etfs.pkl')"
   ]
  },
  {
   "cell_type": "code",
   "execution_count": 252,
   "id": "82347186-b83e-419f-a178-536184816237",
   "metadata": {
    "tags": []
   },
   "outputs": [
    {
     "name": "stdout",
     "output_type": "stream",
     "text": [
      "ETF portfolio return:  0.056\n"
     ]
    }
   ],
   "source": [
    "print(\"ETF portfolio return: \", portfolio_return(holdings_etfs))"
   ]
  },
  {
   "cell_type": "code",
   "execution_count": 249,
   "id": "5dab029a-a217-48e3-986c-250fc16255ec",
   "metadata": {
    "tags": []
   },
   "outputs": [
    {
     "name": "stdout",
     "output_type": "stream",
     "text": [
      "1AT.WA\n",
      "ALL.WA\n",
      "APR.WA\n",
      "ASE.WA\n",
      "BCS.WA\n",
      "CDR.WA\n",
      "VOT.WA\n",
      "WTN.WA\n"
     ]
    }
   ],
   "source": [
    "# woodpecker nie jest na zagranicznych listach, więc nie ma tickera\n",
    "bought_pl = df[df['asset_type'].str.contains('pl')]['ticker'].unique()\n",
    "sold_pl = df[(df['asset_type'].str.contains('pl')) & (df['transaction_type'] == 'sell')]['ticker'].unique()\n",
    "holdings_pl = holdings_table(np.setdiff1d(bought_pl, np.append(sold_pl, 'WPR.WA')))"
   ]
  },
  {
   "cell_type": "code",
   "execution_count": 250,
   "id": "54eb7fed-060f-406e-bd55-5a5b44fd3416",
   "metadata": {
    "tags": []
   },
   "outputs": [],
   "source": [
    "holdings_pl.to_pickle('data/holdings_pl.pkl')"
   ]
  },
  {
   "cell_type": "code",
   "execution_count": 251,
   "id": "5e895ead-8b65-4079-a334-d80b8665a629",
   "metadata": {
    "tags": []
   },
   "outputs": [
    {
     "name": "stdout",
     "output_type": "stream",
     "text": [
      "PL portfolio return:  0.0774\n"
     ]
    }
   ],
   "source": [
    "print(\"PL portfolio return: \", portfolio_return(holdings_pl))"
   ]
  },
  {
   "cell_type": "markdown",
   "id": "ea8d8b07-302e-4b09-ad1f-41196e67f52a",
   "metadata": {
    "jp-MarkdownHeadingCollapsed": true,
    "tags": []
   },
   "source": [
    "### Net Worth Table"
   ]
  },
  {
   "cell_type": "code",
   "execution_count": 91,
   "id": "77c3689c-63f8-4413-b751-d8ea14ea68b2",
   "metadata": {
    "tags": []
   },
   "outputs": [],
   "source": [
    "# tymczasowo ograniczam się do ETFów\n",
    "df_nw = df[df['asset_type'].str.contains('etf')].reset_index(drop=True)"
   ]
  },
  {
   "cell_type": "code",
   "execution_count": 92,
   "id": "2e1d4965-b8d2-408e-86e5-48dd03bb505f",
   "metadata": {
    "collapsed": true,
    "jupyter": {
     "outputs_hidden": true
    },
    "tags": []
   },
   "outputs": [
    {
     "name": "stderr",
     "output_type": "stream",
     "text": [
      "[*********************100%%**********************]  1 of 1 completed\n",
      "[*********************100%%**********************]  1 of 1 completed\n",
      "[*********************100%%**********************]  1 of 1 completed\n",
      "[*********************100%%**********************]  1 of 1 completed\n",
      "[*********************100%%**********************]  1 of 1 completed\n",
      "[*********************100%%**********************]  1 of 1 completed\n",
      "[*********************100%%**********************]  1 of 1 completed\n",
      "[*********************100%%**********************]  1 of 1 completed\n",
      "[*********************100%%**********************]  1 of 1 completed\n",
      "[*********************100%%**********************]  1 of 1 completed\n",
      "[*********************100%%**********************]  1 of 1 completed\n",
      "[*********************100%%**********************]  1 of 1 completed\n",
      "[*********************100%%**********************]  1 of 1 completed\n",
      "[*********************100%%**********************]  1 of 1 completed\n",
      "[*********************100%%**********************]  1 of 1 completed\n",
      "[*********************100%%**********************]  1 of 1 completed\n",
      "[*********************100%%**********************]  1 of 1 completed\n",
      "[*********************100%%**********************]  1 of 1 completed\n",
      "[*********************100%%**********************]  1 of 1 completed\n",
      "[*********************100%%**********************]  1 of 1 completed\n",
      "[*********************100%%**********************]  1 of 1 completed\n",
      "[*********************100%%**********************]  1 of 1 completed\n",
      "[*********************100%%**********************]  1 of 1 completed\n",
      "[*********************100%%**********************]  1 of 1 completed\n",
      "[*********************100%%**********************]  1 of 1 completed\n",
      "[*********************100%%**********************]  1 of 1 completed\n",
      "[*********************100%%**********************]  1 of 1 completed\n",
      "[*********************100%%**********************]  1 of 1 completed\n",
      "[*********************100%%**********************]  1 of 1 completed\n",
      "[*********************100%%**********************]  1 of 1 completed\n",
      "[*********************100%%**********************]  1 of 1 completed\n",
      "[*********************100%%**********************]  1 of 1 completed\n",
      "[*********************100%%**********************]  1 of 1 completed\n",
      "[*********************100%%**********************]  1 of 1 completed\n",
      "[*********************100%%**********************]  1 of 1 completed\n",
      "[*********************100%%**********************]  1 of 1 completed\n",
      "[*********************100%%**********************]  1 of 1 completed\n",
      "[*********************100%%**********************]  1 of 1 completed\n",
      "[*********************100%%**********************]  1 of 1 completed\n",
      "[*********************100%%**********************]  1 of 1 completed\n",
      "[*********************100%%**********************]  1 of 1 completed\n",
      "[*********************100%%**********************]  1 of 1 completed\n",
      "[*********************100%%**********************]  1 of 1 completed\n",
      "[*********************100%%**********************]  1 of 1 completed\n",
      "[*********************100%%**********************]  1 of 1 completed\n",
      "[*********************100%%**********************]  1 of 1 completed\n",
      "[*********************100%%**********************]  1 of 1 completed\n",
      "[*********************100%%**********************]  1 of 1 completed\n",
      "[*********************100%%**********************]  1 of 1 completed\n",
      "[*********************100%%**********************]  1 of 1 completed\n",
      "[*********************100%%**********************]  1 of 1 completed\n",
      "[*********************100%%**********************]  1 of 1 completed\n",
      "[*********************100%%**********************]  1 of 1 completed\n",
      "[*********************100%%**********************]  1 of 1 completed\n",
      "[*********************100%%**********************]  1 of 1 completed\n",
      "[*********************100%%**********************]  1 of 1 completed\n",
      "[*********************100%%**********************]  1 of 1 completed\n",
      "[*********************100%%**********************]  1 of 1 completed\n",
      "[*********************100%%**********************]  1 of 1 completed\n",
      "[*********************100%%**********************]  1 of 1 completed\n",
      "[*********************100%%**********************]  1 of 1 completed\n",
      "[*********************100%%**********************]  1 of 1 completed\n",
      "[*********************100%%**********************]  1 of 1 completed\n",
      "[*********************100%%**********************]  1 of 1 completed\n",
      "[*********************100%%**********************]  1 of 1 completed\n",
      "[*********************100%%**********************]  1 of 1 completed\n"
     ]
    }
   ],
   "source": [
    "df_nw_plot = net_worth_plot_data(df_nw).reset_index()"
   ]
  },
  {
   "cell_type": "code",
   "execution_count": 93,
   "id": "43052c81-3a4f-48e6-805c-23d27a3c374a",
   "metadata": {
    "tags": []
   },
   "outputs": [],
   "source": [
    "df_nw_plot['asset_value'] = df_nw_plot['asset_value'] - df_nw_plot['capital']"
   ]
  },
  {
   "cell_type": "code",
   "execution_count": 94,
   "id": "10a41303-d07b-4ecf-b3d2-189032b0147d",
   "metadata": {
    "tags": []
   },
   "outputs": [],
   "source": [
    "df_nw_plot = pd.melt(df_nw_plot, id_vars='date_month', value_vars=list(df_nw_plot.columns[1:]), var_name='class', value_name='value_pln')"
   ]
  },
  {
   "cell_type": "code",
   "execution_count": 110,
   "id": "6f661578-1747-4fa5-aeaa-484786ef26fa",
   "metadata": {
    "tags": []
   },
   "outputs": [],
   "source": [
    "df_nw_plot.to_pickle('data/df_nw_plot.pkl')"
   ]
  },
  {
   "cell_type": "code",
   "execution_count": 225,
   "id": "1dcb8a15-1dd7-424d-9b35-7a7e4ea55594",
   "metadata": {
    "collapsed": true,
    "jupyter": {
     "outputs_hidden": true
    },
    "tags": []
   },
   "outputs": [
    {
     "data": {
      "application/vnd.plotly.v1+json": {
       "config": {
        "plotlyServerURL": "https://plot.ly"
       },
       "data": [
        {
         "fillpattern": {
          "shape": ""
         },
         "hovertemplate": "class=capital<br>date_month=%{x}<br>value_pln=%{y}<extra></extra>",
         "legendgroup": "capital",
         "line": {
          "color": "#99ccff"
         },
         "marker": {
          "symbol": "circle"
         },
         "mode": "lines",
         "name": "capital",
         "orientation": "v",
         "showlegend": true,
         "stackgroup": "1",
         "type": "scatter",
         "x": [
          "2023-08",
          "2023-09",
          "2023-10",
          "2023-11",
          "2023-12",
          "2024-01"
         ],
         "xaxis": "x",
         "y": [
          917.08562845,
          6569.996781702,
          10487.730585374,
          14095.915652864,
          21897.077836704,
          30639.196789733996
         ],
         "yaxis": "y"
        },
        {
         "fillpattern": {
          "shape": ""
         },
         "hovertemplate": "class=asset_value<br>date_month=%{x}<br>value_pln=%{y}<extra></extra>",
         "legendgroup": "asset_value",
         "line": {
          "color": "#00cc00"
         },
         "marker": {
          "symbol": "circle"
         },
         "mode": "lines",
         "name": "asset_value",
         "orientation": "v",
         "showlegend": true,
         "stackgroup": "1",
         "type": "scatter",
         "x": [
          "2023-08",
          "2023-09",
          "2023-10",
          "2023-11",
          "2023-12",
          "2024-01"
         ],
         "xaxis": "x",
         "y": [
          -4.798100811550057,
          57.43152708644175,
          -194.92908765217362,
          -14.4020082273546,
          713.9103220877332,
          891.240248845188
         ],
         "yaxis": "y"
        }
       ],
       "layout": {
        "autosize": false,
        "height": 600,
        "legend": {
         "title": {
          "text": "class"
         },
         "tracegroupgap": 0
        },
        "template": {
         "data": {
          "bar": [
           {
            "error_x": {
             "color": "#2a3f5f"
            },
            "error_y": {
             "color": "#2a3f5f"
            },
            "marker": {
             "line": {
              "color": "#E5ECF6",
              "width": 0.5
             },
             "pattern": {
              "fillmode": "overlay",
              "size": 10,
              "solidity": 0.2
             }
            },
            "type": "bar"
           }
          ],
          "barpolar": [
           {
            "marker": {
             "line": {
              "color": "#E5ECF6",
              "width": 0.5
             },
             "pattern": {
              "fillmode": "overlay",
              "size": 10,
              "solidity": 0.2
             }
            },
            "type": "barpolar"
           }
          ],
          "carpet": [
           {
            "aaxis": {
             "endlinecolor": "#2a3f5f",
             "gridcolor": "white",
             "linecolor": "white",
             "minorgridcolor": "white",
             "startlinecolor": "#2a3f5f"
            },
            "baxis": {
             "endlinecolor": "#2a3f5f",
             "gridcolor": "white",
             "linecolor": "white",
             "minorgridcolor": "white",
             "startlinecolor": "#2a3f5f"
            },
            "type": "carpet"
           }
          ],
          "choropleth": [
           {
            "colorbar": {
             "outlinewidth": 0,
             "ticks": ""
            },
            "type": "choropleth"
           }
          ],
          "contour": [
           {
            "colorbar": {
             "outlinewidth": 0,
             "ticks": ""
            },
            "colorscale": [
             [
              0,
              "#0d0887"
             ],
             [
              0.1111111111111111,
              "#46039f"
             ],
             [
              0.2222222222222222,
              "#7201a8"
             ],
             [
              0.3333333333333333,
              "#9c179e"
             ],
             [
              0.4444444444444444,
              "#bd3786"
             ],
             [
              0.5555555555555556,
              "#d8576b"
             ],
             [
              0.6666666666666666,
              "#ed7953"
             ],
             [
              0.7777777777777778,
              "#fb9f3a"
             ],
             [
              0.8888888888888888,
              "#fdca26"
             ],
             [
              1,
              "#f0f921"
             ]
            ],
            "type": "contour"
           }
          ],
          "contourcarpet": [
           {
            "colorbar": {
             "outlinewidth": 0,
             "ticks": ""
            },
            "type": "contourcarpet"
           }
          ],
          "heatmap": [
           {
            "colorbar": {
             "outlinewidth": 0,
             "ticks": ""
            },
            "colorscale": [
             [
              0,
              "#0d0887"
             ],
             [
              0.1111111111111111,
              "#46039f"
             ],
             [
              0.2222222222222222,
              "#7201a8"
             ],
             [
              0.3333333333333333,
              "#9c179e"
             ],
             [
              0.4444444444444444,
              "#bd3786"
             ],
             [
              0.5555555555555556,
              "#d8576b"
             ],
             [
              0.6666666666666666,
              "#ed7953"
             ],
             [
              0.7777777777777778,
              "#fb9f3a"
             ],
             [
              0.8888888888888888,
              "#fdca26"
             ],
             [
              1,
              "#f0f921"
             ]
            ],
            "type": "heatmap"
           }
          ],
          "heatmapgl": [
           {
            "colorbar": {
             "outlinewidth": 0,
             "ticks": ""
            },
            "colorscale": [
             [
              0,
              "#0d0887"
             ],
             [
              0.1111111111111111,
              "#46039f"
             ],
             [
              0.2222222222222222,
              "#7201a8"
             ],
             [
              0.3333333333333333,
              "#9c179e"
             ],
             [
              0.4444444444444444,
              "#bd3786"
             ],
             [
              0.5555555555555556,
              "#d8576b"
             ],
             [
              0.6666666666666666,
              "#ed7953"
             ],
             [
              0.7777777777777778,
              "#fb9f3a"
             ],
             [
              0.8888888888888888,
              "#fdca26"
             ],
             [
              1,
              "#f0f921"
             ]
            ],
            "type": "heatmapgl"
           }
          ],
          "histogram": [
           {
            "marker": {
             "pattern": {
              "fillmode": "overlay",
              "size": 10,
              "solidity": 0.2
             }
            },
            "type": "histogram"
           }
          ],
          "histogram2d": [
           {
            "colorbar": {
             "outlinewidth": 0,
             "ticks": ""
            },
            "colorscale": [
             [
              0,
              "#0d0887"
             ],
             [
              0.1111111111111111,
              "#46039f"
             ],
             [
              0.2222222222222222,
              "#7201a8"
             ],
             [
              0.3333333333333333,
              "#9c179e"
             ],
             [
              0.4444444444444444,
              "#bd3786"
             ],
             [
              0.5555555555555556,
              "#d8576b"
             ],
             [
              0.6666666666666666,
              "#ed7953"
             ],
             [
              0.7777777777777778,
              "#fb9f3a"
             ],
             [
              0.8888888888888888,
              "#fdca26"
             ],
             [
              1,
              "#f0f921"
             ]
            ],
            "type": "histogram2d"
           }
          ],
          "histogram2dcontour": [
           {
            "colorbar": {
             "outlinewidth": 0,
             "ticks": ""
            },
            "colorscale": [
             [
              0,
              "#0d0887"
             ],
             [
              0.1111111111111111,
              "#46039f"
             ],
             [
              0.2222222222222222,
              "#7201a8"
             ],
             [
              0.3333333333333333,
              "#9c179e"
             ],
             [
              0.4444444444444444,
              "#bd3786"
             ],
             [
              0.5555555555555556,
              "#d8576b"
             ],
             [
              0.6666666666666666,
              "#ed7953"
             ],
             [
              0.7777777777777778,
              "#fb9f3a"
             ],
             [
              0.8888888888888888,
              "#fdca26"
             ],
             [
              1,
              "#f0f921"
             ]
            ],
            "type": "histogram2dcontour"
           }
          ],
          "mesh3d": [
           {
            "colorbar": {
             "outlinewidth": 0,
             "ticks": ""
            },
            "type": "mesh3d"
           }
          ],
          "parcoords": [
           {
            "line": {
             "colorbar": {
              "outlinewidth": 0,
              "ticks": ""
             }
            },
            "type": "parcoords"
           }
          ],
          "pie": [
           {
            "automargin": true,
            "type": "pie"
           }
          ],
          "scatter": [
           {
            "fillpattern": {
             "fillmode": "overlay",
             "size": 10,
             "solidity": 0.2
            },
            "type": "scatter"
           }
          ],
          "scatter3d": [
           {
            "line": {
             "colorbar": {
              "outlinewidth": 0,
              "ticks": ""
             }
            },
            "marker": {
             "colorbar": {
              "outlinewidth": 0,
              "ticks": ""
             }
            },
            "type": "scatter3d"
           }
          ],
          "scattercarpet": [
           {
            "marker": {
             "colorbar": {
              "outlinewidth": 0,
              "ticks": ""
             }
            },
            "type": "scattercarpet"
           }
          ],
          "scattergeo": [
           {
            "marker": {
             "colorbar": {
              "outlinewidth": 0,
              "ticks": ""
             }
            },
            "type": "scattergeo"
           }
          ],
          "scattergl": [
           {
            "marker": {
             "colorbar": {
              "outlinewidth": 0,
              "ticks": ""
             }
            },
            "type": "scattergl"
           }
          ],
          "scattermapbox": [
           {
            "marker": {
             "colorbar": {
              "outlinewidth": 0,
              "ticks": ""
             }
            },
            "type": "scattermapbox"
           }
          ],
          "scatterpolar": [
           {
            "marker": {
             "colorbar": {
              "outlinewidth": 0,
              "ticks": ""
             }
            },
            "type": "scatterpolar"
           }
          ],
          "scatterpolargl": [
           {
            "marker": {
             "colorbar": {
              "outlinewidth": 0,
              "ticks": ""
             }
            },
            "type": "scatterpolargl"
           }
          ],
          "scatterternary": [
           {
            "marker": {
             "colorbar": {
              "outlinewidth": 0,
              "ticks": ""
             }
            },
            "type": "scatterternary"
           }
          ],
          "surface": [
           {
            "colorbar": {
             "outlinewidth": 0,
             "ticks": ""
            },
            "colorscale": [
             [
              0,
              "#0d0887"
             ],
             [
              0.1111111111111111,
              "#46039f"
             ],
             [
              0.2222222222222222,
              "#7201a8"
             ],
             [
              0.3333333333333333,
              "#9c179e"
             ],
             [
              0.4444444444444444,
              "#bd3786"
             ],
             [
              0.5555555555555556,
              "#d8576b"
             ],
             [
              0.6666666666666666,
              "#ed7953"
             ],
             [
              0.7777777777777778,
              "#fb9f3a"
             ],
             [
              0.8888888888888888,
              "#fdca26"
             ],
             [
              1,
              "#f0f921"
             ]
            ],
            "type": "surface"
           }
          ],
          "table": [
           {
            "cells": {
             "fill": {
              "color": "#EBF0F8"
             },
             "line": {
              "color": "white"
             }
            },
            "header": {
             "fill": {
              "color": "#C8D4E3"
             },
             "line": {
              "color": "white"
             }
            },
            "type": "table"
           }
          ]
         },
         "layout": {
          "annotationdefaults": {
           "arrowcolor": "#2a3f5f",
           "arrowhead": 0,
           "arrowwidth": 1
          },
          "autotypenumbers": "strict",
          "coloraxis": {
           "colorbar": {
            "outlinewidth": 0,
            "ticks": ""
           }
          },
          "colorscale": {
           "diverging": [
            [
             0,
             "#8e0152"
            ],
            [
             0.1,
             "#c51b7d"
            ],
            [
             0.2,
             "#de77ae"
            ],
            [
             0.3,
             "#f1b6da"
            ],
            [
             0.4,
             "#fde0ef"
            ],
            [
             0.5,
             "#f7f7f7"
            ],
            [
             0.6,
             "#e6f5d0"
            ],
            [
             0.7,
             "#b8e186"
            ],
            [
             0.8,
             "#7fbc41"
            ],
            [
             0.9,
             "#4d9221"
            ],
            [
             1,
             "#276419"
            ]
           ],
           "sequential": [
            [
             0,
             "#0d0887"
            ],
            [
             0.1111111111111111,
             "#46039f"
            ],
            [
             0.2222222222222222,
             "#7201a8"
            ],
            [
             0.3333333333333333,
             "#9c179e"
            ],
            [
             0.4444444444444444,
             "#bd3786"
            ],
            [
             0.5555555555555556,
             "#d8576b"
            ],
            [
             0.6666666666666666,
             "#ed7953"
            ],
            [
             0.7777777777777778,
             "#fb9f3a"
            ],
            [
             0.8888888888888888,
             "#fdca26"
            ],
            [
             1,
             "#f0f921"
            ]
           ],
           "sequentialminus": [
            [
             0,
             "#0d0887"
            ],
            [
             0.1111111111111111,
             "#46039f"
            ],
            [
             0.2222222222222222,
             "#7201a8"
            ],
            [
             0.3333333333333333,
             "#9c179e"
            ],
            [
             0.4444444444444444,
             "#bd3786"
            ],
            [
             0.5555555555555556,
             "#d8576b"
            ],
            [
             0.6666666666666666,
             "#ed7953"
            ],
            [
             0.7777777777777778,
             "#fb9f3a"
            ],
            [
             0.8888888888888888,
             "#fdca26"
            ],
            [
             1,
             "#f0f921"
            ]
           ]
          },
          "colorway": [
           "#636efa",
           "#EF553B",
           "#00cc96",
           "#ab63fa",
           "#FFA15A",
           "#19d3f3",
           "#FF6692",
           "#B6E880",
           "#FF97FF",
           "#FECB52"
          ],
          "font": {
           "color": "#2a3f5f"
          },
          "geo": {
           "bgcolor": "white",
           "lakecolor": "white",
           "landcolor": "#E5ECF6",
           "showlakes": true,
           "showland": true,
           "subunitcolor": "white"
          },
          "hoverlabel": {
           "align": "left"
          },
          "hovermode": "closest",
          "mapbox": {
           "style": "light"
          },
          "paper_bgcolor": "white",
          "plot_bgcolor": "#E5ECF6",
          "polar": {
           "angularaxis": {
            "gridcolor": "white",
            "linecolor": "white",
            "ticks": ""
           },
           "bgcolor": "#E5ECF6",
           "radialaxis": {
            "gridcolor": "white",
            "linecolor": "white",
            "ticks": ""
           }
          },
          "scene": {
           "xaxis": {
            "backgroundcolor": "#E5ECF6",
            "gridcolor": "white",
            "gridwidth": 2,
            "linecolor": "white",
            "showbackground": true,
            "ticks": "",
            "zerolinecolor": "white"
           },
           "yaxis": {
            "backgroundcolor": "#E5ECF6",
            "gridcolor": "white",
            "gridwidth": 2,
            "linecolor": "white",
            "showbackground": true,
            "ticks": "",
            "zerolinecolor": "white"
           },
           "zaxis": {
            "backgroundcolor": "#E5ECF6",
            "gridcolor": "white",
            "gridwidth": 2,
            "linecolor": "white",
            "showbackground": true,
            "ticks": "",
            "zerolinecolor": "white"
           }
          },
          "shapedefaults": {
           "line": {
            "color": "#2a3f5f"
           }
          },
          "ternary": {
           "aaxis": {
            "gridcolor": "white",
            "linecolor": "white",
            "ticks": ""
           },
           "baxis": {
            "gridcolor": "white",
            "linecolor": "white",
            "ticks": ""
           },
           "bgcolor": "#E5ECF6",
           "caxis": {
            "gridcolor": "white",
            "linecolor": "white",
            "ticks": ""
           }
          },
          "title": {
           "x": 0.05
          },
          "xaxis": {
           "automargin": true,
           "gridcolor": "white",
           "linecolor": "white",
           "ticks": "",
           "title": {
            "standoff": 15
           },
           "zerolinecolor": "white",
           "zerolinewidth": 2
          },
          "yaxis": {
           "automargin": true,
           "gridcolor": "white",
           "linecolor": "white",
           "ticks": "",
           "title": {
            "standoff": 15
           },
           "zerolinecolor": "white",
           "zerolinewidth": 2
          }
         }
        },
        "title": {
         "text": "Capital invested and asset value difference by month"
        },
        "width": 1000,
        "xaxis": {
         "anchor": "y",
         "autorange": true,
         "domain": [
          0,
          1
         ],
         "range": [
          "2023-08-01",
          "2024-01-01"
         ],
         "title": {
          "text": "date_month"
         },
         "type": "date"
        },
        "yaxis": {
         "anchor": "x",
         "autorange": true,
         "domain": [
          0,
          1
         ],
         "range": [
          0,
          33189.93372482019
         ],
         "title": {
          "text": "value_pln"
         },
         "type": "linear"
        }
       }
      },
      "image/png": "[encoded data removed]",
      "text/html": [
       "<div>                            <div id=\"7791235c-d717-4607-902e-91dbf10a3129\" class=\"plotly-graph-div\" style=\"height:600px; width:1000px;\"></div>            <script type=\"text/javascript\">                require([\"plotly\"], function(Plotly) {                    window.PLOTLYENV=window.PLOTLYENV || {};                                    if (document.getElementById(\"7791235c-d717-4607-902e-91dbf10a3129\")) {                    Plotly.newPlot(                        \"7791235c-d717-4607-902e-91dbf10a3129\",                        [{\"fillpattern\":{\"shape\":\"\"},\"hovertemplate\":\"class=capital\\u003cbr\\u003edate_month=%{x}\\u003cbr\\u003evalue_pln=%{y}\\u003cextra\\u003e\\u003c\\u002fextra\\u003e\",\"legendgroup\":\"capital\",\"line\":{\"color\":\"#99ccff\"},\"marker\":{\"symbol\":\"circle\"},\"mode\":\"lines\",\"name\":\"capital\",\"orientation\":\"v\",\"showlegend\":true,\"stackgroup\":\"1\",\"x\":[\"2023-08\",\"2023-09\",\"2023-10\",\"2023-11\",\"2023-12\",\"2024-01\"],\"xaxis\":\"x\",\"y\":[917.08562845,6569.996781702,10487.730585374,14095.915652864,21897.077836704,30639.196789733996],\"yaxis\":\"y\",\"type\":\"scatter\"},{\"fillpattern\":{\"shape\":\"\"},\"hovertemplate\":\"class=asset_value\\u003cbr\\u003edate_month=%{x}\\u003cbr\\u003evalue_pln=%{y}\\u003cextra\\u003e\\u003c\\u002fextra\\u003e\",\"legendgroup\":\"asset_value\",\"line\":{\"color\":\"#00cc00\"},\"marker\":{\"symbol\":\"circle\"},\"mode\":\"lines\",\"name\":\"asset_value\",\"orientation\":\"v\",\"showlegend\":true,\"stackgroup\":\"1\",\"x\":[\"2023-08\",\"2023-09\",\"2023-10\",\"2023-11\",\"2023-12\",\"2024-01\"],\"xaxis\":\"x\",\"y\":[-4.798100811550057,57.43152708644175,-194.92908765217362,-14.4020082273546,713.9103220877332,891.240248845188],\"yaxis\":\"y\",\"type\":\"scatter\"}],                        {\"template\":{\"data\":{\"histogram2dcontour\":[{\"type\":\"histogram2dcontour\",\"colorbar\":{\"outlinewidth\":0,\"ticks\":\"\"},\"colorscale\":[[0.0,\"#0d0887\"],[0.1111111111111111,\"#46039f\"],[0.2222222222222222,\"#7201a8\"],[0.3333333333333333,\"#9c179e\"],[0.4444444444444444,\"#bd3786\"],[0.5555555555555556,\"#d8576b\"],[0.6666666666666666,\"#ed7953\"],[0.7777777777777778,\"#fb9f3a\"],[0.8888888888888888,\"#fdca26\"],[1.0,\"#f0f921\"]]}],\"choropleth\":[{\"type\":\"choropleth\",\"colorbar\":{\"outlinewidth\":0,\"ticks\":\"\"}}],\"histogram2d\":[{\"type\":\"histogram2d\",\"colorbar\":{\"outlinewidth\":0,\"ticks\":\"\"},\"colorscale\":[[0.0,\"#0d0887\"],[0.1111111111111111,\"#46039f\"],[0.2222222222222222,\"#7201a8\"],[0.3333333333333333,\"#9c179e\"],[0.4444444444444444,\"#bd3786\"],[0.5555555555555556,\"#d8576b\"],[0.6666666666666666,\"#ed7953\"],[0.7777777777777778,\"#fb9f3a\"],[0.8888888888888888,\"#fdca26\"],[1.0,\"#f0f921\"]]}],\"heatmap\":[{\"type\":\"heatmap\",\"colorbar\":{\"outlinewidth\":0,\"ticks\":\"\"},\"colorscale\":[[0.0,\"#0d0887\"],[0.1111111111111111,\"#46039f\"],[0.2222222222222222,\"#7201a8\"],[0.3333333333333333,\"#9c179e\"],[0.4444444444444444,\"#bd3786\"],[0.5555555555555556,\"#d8576b\"],[0.6666666666666666,\"#ed7953\"],[0.7777777777777778,\"#fb9f3a\"],[0.8888888888888888,\"#fdca26\"],[1.0,\"#f0f921\"]]}],\"heatmapgl\":[{\"type\":\"heatmapgl\",\"colorbar\":{\"outlinewidth\":0,\"ticks\":\"\"},\"colorscale\":[[0.0,\"#0d0887\"],[0.1111111111111111,\"#46039f\"],[0.2222222222222222,\"#7201a8\"],[0.3333333333333333,\"#9c179e\"],[0.4444444444444444,\"#bd3786\"],[0.5555555555555556,\"#d8576b\"],[0.6666666666666666,\"#ed7953\"],[0.7777777777777778,\"#fb9f3a\"],[0.8888888888888888,\"#fdca26\"],[1.0,\"#f0f921\"]]}],\"contourcarpet\":[{\"type\":\"contourcarpet\",\"colorbar\":{\"outlinewidth\":0,\"ticks\":\"\"}}],\"contour\":[{\"type\":\"contour\",\"colorbar\":{\"outlinewidth\":0,\"ticks\":\"\"},\"colorscale\":[[0.0,\"#0d0887\"],[0.1111111111111111,\"#46039f\"],[0.2222222222222222,\"#7201a8\"],[0.3333333333333333,\"#9c179e\"],[0.4444444444444444,\"#bd3786\"],[0.5555555555555556,\"#d8576b\"],[0.6666666666666666,\"#ed7953\"],[0.7777777777777778,\"#fb9f3a\"],[0.8888888888888888,\"#fdca26\"],[1.0,\"#f0f921\"]]}],\"surface\":[{\"type\":\"surface\",\"colorbar\":{\"outlinewidth\":0,\"ticks\":\"\"},\"colorscale\":[[0.0,\"#0d0887\"],[0.1111111111111111,\"#46039f\"],[0.2222222222222222,\"#7201a8\"],[0.3333333333333333,\"#9c179e\"],[0.4444444444444444,\"#bd3786\"],[0.5555555555555556,\"#d8576b\"],[0.6666666666666666,\"#ed7953\"],[0.7777777777777778,\"#fb9f3a\"],[0.8888888888888888,\"#fdca26\"],[1.0,\"#f0f921\"]]}],\"mesh3d\":[{\"type\":\"mesh3d\",\"colorbar\":{\"outlinewidth\":0,\"ticks\":\"\"}}],\"scatter\":[{\"fillpattern\":{\"fillmode\":\"overlay\",\"size\":10,\"solidity\":0.2},\"type\":\"scatter\"}],\"parcoords\":[{\"type\":\"parcoords\",\"line\":{\"colorbar\":{\"outlinewidth\":0,\"ticks\":\"\"}}}],\"scatterpolargl\":[{\"type\":\"scatterpolargl\",\"marker\":{\"colorbar\":{\"outlinewidth\":0,\"ticks\":\"\"}}}],\"bar\":[{\"error_x\":{\"color\":\"#2a3f5f\"},\"error_y\":{\"color\":\"#2a3f5f\"},\"marker\":{\"line\":{\"color\":\"#E5ECF6\",\"width\":0.5},\"pattern\":{\"fillmode\":\"overlay\",\"size\":10,\"solidity\":0.2}},\"type\":\"bar\"}],\"scattergeo\":[{\"type\":\"scattergeo\",\"marker\":{\"colorbar\":{\"outlinewidth\":0,\"ticks\":\"\"}}}],\"scatterpolar\":[{\"type\":\"scatterpolar\",\"marker\":{\"colorbar\":{\"outlinewidth\":0,\"ticks\":\"\"}}}],\"histogram\":[{\"marker\":{\"pattern\":{\"fillmode\":\"overlay\",\"size\":10,\"solidity\":0.2}},\"type\":\"histogram\"}],\"scattergl\":[{\"type\":\"scattergl\",\"marker\":{\"colorbar\":{\"outlinewidth\":0,\"ticks\":\"\"}}}],\"scatter3d\":[{\"type\":\"scatter3d\",\"line\":{\"colorbar\":{\"outlinewidth\":0,\"ticks\":\"\"}},\"marker\":{\"colorbar\":{\"outlinewidth\":0,\"ticks\":\"\"}}}],\"scattermapbox\":[{\"type\":\"scattermapbox\",\"marker\":{\"colorbar\":{\"outlinewidth\":0,\"ticks\":\"\"}}}],\"scatterternary\":[{\"type\":\"scatterternary\",\"marker\":{\"colorbar\":{\"outlinewidth\":0,\"ticks\":\"\"}}}],\"scattercarpet\":[{\"type\":\"scattercarpet\",\"marker\":{\"colorbar\":{\"outlinewidth\":0,\"ticks\":\"\"}}}],\"carpet\":[{\"aaxis\":{\"endlinecolor\":\"#2a3f5f\",\"gridcolor\":\"white\",\"linecolor\":\"white\",\"minorgridcolor\":\"white\",\"startlinecolor\":\"#2a3f5f\"},\"baxis\":{\"endlinecolor\":\"#2a3f5f\",\"gridcolor\":\"white\",\"linecolor\":\"white\",\"minorgridcolor\":\"white\",\"startlinecolor\":\"#2a3f5f\"},\"type\":\"carpet\"}],\"table\":[{\"cells\":{\"fill\":{\"color\":\"#EBF0F8\"},\"line\":{\"color\":\"white\"}},\"header\":{\"fill\":{\"color\":\"#C8D4E3\"},\"line\":{\"color\":\"white\"}},\"type\":\"table\"}],\"barpolar\":[{\"marker\":{\"line\":{\"color\":\"#E5ECF6\",\"width\":0.5},\"pattern\":{\"fillmode\":\"overlay\",\"size\":10,\"solidity\":0.2}},\"type\":\"barpolar\"}],\"pie\":[{\"automargin\":true,\"type\":\"pie\"}]},\"layout\":{\"autotypenumbers\":\"strict\",\"colorway\":[\"#636efa\",\"#EF553B\",\"#00cc96\",\"#ab63fa\",\"#FFA15A\",\"#19d3f3\",\"#FF6692\",\"#B6E880\",\"#FF97FF\",\"#FECB52\"],\"font\":{\"color\":\"#2a3f5f\"},\"hovermode\":\"closest\",\"hoverlabel\":{\"align\":\"left\"},\"paper_bgcolor\":\"white\",\"plot_bgcolor\":\"#E5ECF6\",\"polar\":{\"bgcolor\":\"#E5ECF6\",\"angularaxis\":{\"gridcolor\":\"white\",\"linecolor\":\"white\",\"ticks\":\"\"},\"radialaxis\":{\"gridcolor\":\"white\",\"linecolor\":\"white\",\"ticks\":\"\"}},\"ternary\":{\"bgcolor\":\"#E5ECF6\",\"aaxis\":{\"gridcolor\":\"white\",\"linecolor\":\"white\",\"ticks\":\"\"},\"baxis\":{\"gridcolor\":\"white\",\"linecolor\":\"white\",\"ticks\":\"\"},\"caxis\":{\"gridcolor\":\"white\",\"linecolor\":\"white\",\"ticks\":\"\"}},\"coloraxis\":{\"colorbar\":{\"outlinewidth\":0,\"ticks\":\"\"}},\"colorscale\":{\"sequential\":[[0.0,\"#0d0887\"],[0.1111111111111111,\"#46039f\"],[0.2222222222222222,\"#7201a8\"],[0.3333333333333333,\"#9c179e\"],[0.4444444444444444,\"#bd3786\"],[0.5555555555555556,\"#d8576b\"],[0.6666666666666666,\"#ed7953\"],[0.7777777777777778,\"#fb9f3a\"],[0.8888888888888888,\"#fdca26\"],[1.0,\"#f0f921\"]],\"sequentialminus\":[[0.0,\"#0d0887\"],[0.1111111111111111,\"#46039f\"],[0.2222222222222222,\"#7201a8\"],[0.3333333333333333,\"#9c179e\"],[0.4444444444444444,\"#bd3786\"],[0.5555555555555556,\"#d8576b\"],[0.6666666666666666,\"#ed7953\"],[0.7777777777777778,\"#fb9f3a\"],[0.8888888888888888,\"#fdca26\"],[1.0,\"#f0f921\"]],\"diverging\":[[0,\"#8e0152\"],[0.1,\"#c51b7d\"],[0.2,\"#de77ae\"],[0.3,\"#f1b6da\"],[0.4,\"#fde0ef\"],[0.5,\"#f7f7f7\"],[0.6,\"#e6f5d0\"],[0.7,\"#b8e186\"],[0.8,\"#7fbc41\"],[0.9,\"#4d9221\"],[1,\"#276419\"]]},\"xaxis\":{\"gridcolor\":\"white\",\"linecolor\":\"white\",\"ticks\":\"\",\"title\":{\"standoff\":15},\"zerolinecolor\":\"white\",\"automargin\":true,\"zerolinewidth\":2},\"yaxis\":{\"gridcolor\":\"white\",\"linecolor\":\"white\",\"ticks\":\"\",\"title\":{\"standoff\":15},\"zerolinecolor\":\"white\",\"automargin\":true,\"zerolinewidth\":2},\"scene\":{\"xaxis\":{\"backgroundcolor\":\"#E5ECF6\",\"gridcolor\":\"white\",\"linecolor\":\"white\",\"showbackground\":true,\"ticks\":\"\",\"zerolinecolor\":\"white\",\"gridwidth\":2},\"yaxis\":{\"backgroundcolor\":\"#E5ECF6\",\"gridcolor\":\"white\",\"linecolor\":\"white\",\"showbackground\":true,\"ticks\":\"\",\"zerolinecolor\":\"white\",\"gridwidth\":2},\"zaxis\":{\"backgroundcolor\":\"#E5ECF6\",\"gridcolor\":\"white\",\"linecolor\":\"white\",\"showbackground\":true,\"ticks\":\"\",\"zerolinecolor\":\"white\",\"gridwidth\":2}},\"shapedefaults\":{\"line\":{\"color\":\"#2a3f5f\"}},\"annotationdefaults\":{\"arrowcolor\":\"#2a3f5f\",\"arrowhead\":0,\"arrowwidth\":1},\"geo\":{\"bgcolor\":\"white\",\"landcolor\":\"#E5ECF6\",\"subunitcolor\":\"white\",\"showland\":true,\"showlakes\":true,\"lakecolor\":\"white\"},\"title\":{\"x\":0.05},\"mapbox\":{\"style\":\"light\"}}},\"xaxis\":{\"anchor\":\"y\",\"domain\":[0.0,1.0],\"title\":{\"text\":\"date_month\"}},\"yaxis\":{\"anchor\":\"x\",\"domain\":[0.0,1.0],\"title\":{\"text\":\"value_pln\"}},\"legend\":{\"title\":{\"text\":\"class\"},\"tracegroupgap\":0},\"title\":{\"text\":\"Capital invested and asset value difference by month\"},\"autosize\":false,\"width\":1000,\"height\":600},                        {\"responsive\": true}                    ).then(function(){\n",
       "                            \n",
       "var gd = document.getElementById('7791235c-d717-4607-902e-91dbf10a3129');\n",
       "var x = new MutationObserver(function (mutations, observer) {{\n",
       "        var display = window.getComputedStyle(gd).display;\n",
       "        if (!display || display === 'none') {{\n",
       "            console.log([gd, 'removed!']);\n",
       "            Plotly.purge(gd);\n",
       "            observer.disconnect();\n",
       "        }}\n",
       "}});\n",
       "\n",
       "// Listen for the removal of the full notebook cells\n",
       "var notebookContainer = gd.closest('#notebook-container');\n",
       "if (notebookContainer) {{\n",
       "    x.observe(notebookContainer, {childList: true});\n",
       "}}\n",
       "\n",
       "// Listen for the clearing of the current output cell\n",
       "var outputEl = gd.closest('.output');\n",
       "if (outputEl) {{\n",
       "    x.observe(outputEl, {childList: true});\n",
       "}}\n",
       "\n",
       "                        })                };                });            </script>        </div>"
      ]
     },
     "metadata": {},
     "output_type": "display_data"
    }
   ],
   "source": [
    "# jesli chcialbym kiedys sie pobawic w kolory to tu: https://community.plotly.com/t/it-is-possible-to-fill-area-with-different-colors-on-a-line-plot/31664/8\n",
    "\n",
    "fig = px.area(df_nw_plot, \n",
    "              x=\"date_month\", \n",
    "              y=\"value_pln\", \n",
    "              color='class', \n",
    "              line_group='class', \n",
    "              title=\"Capital invested and asset value difference by month\",\n",
    "              color_discrete_sequence=[\"#99ccff\", \"#00cc00\"]\n",
    "             )\n",
    "\n",
    "fig.update_layout(\n",
    "    autosize=False,\n",
    "    width=1000,\n",
    "    height=600,\n",
    "    # paper_bgcolor=\"LightSteelBlue\",\n",
    ")\n",
    "\n",
    "fig.show()"
   ]
  },
  {
   "cell_type": "markdown",
   "id": "cca12495-cda1-414b-b434-a923eacc3589",
   "metadata": {
    "jp-MarkdownHeadingCollapsed": true,
    "tags": []
   },
   "source": [
    "### Pie charts"
   ]
  },
  {
   "cell_type": "code",
   "execution_count": 226,
   "id": "40dd564e-3716-46c6-8696-77ba611a9ce3",
   "metadata": {
    "tags": []
   },
   "outputs": [],
   "source": [
    "pie_current = allocation_table(df, holdings_etfs, holdings_pl, [0.35, 0.2, 0.40, 0.05])"
   ]
  },
  {
   "cell_type": "code",
   "execution_count": 229,
   "id": "9fbdffe9-d5c0-4690-babb-7100f27794ac",
   "metadata": {
    "tags": []
   },
   "outputs": [],
   "source": [
    "pie_current.to_pickle('data/pie_current.pkl')"
   ]
  },
  {
   "cell_type": "code",
   "execution_count": 224,
   "id": "61c35f39-f665-4834-acd4-04bca0980e4b",
   "metadata": {
    "collapsed": true,
    "jupyter": {
     "outputs_hidden": true
    },
    "tags": []
   },
   "outputs": [
    {
     "data": {
      "application/vnd.plotly.v1+json": {
       "config": {
        "plotlyServerURL": "https://plot.ly"
       },
       "data": [
        {
         "domain": {
          "x": [
           0,
           0.45
          ]
         },
         "hoverinfo": "label+percent+name",
         "labels": [
          "bonds",
          "etf_bond",
          "etf_stock",
          "stock_pl"
         ],
         "marker": {
          "colors": [
           "#006600",
           "#009900",
           "#ff8000",
           "#ff6666"
          ]
         },
         "name": "Current",
         "sort": false,
         "textfont": {
          "size": 20
         },
         "title": {
          "text": "Current"
         },
         "type": "pie",
         "values": [
          0.6954570812746985,
          0.1382503325632025,
          0.13991198504674734,
          0.02638060111535158
         ]
        },
        {
         "domain": {
          "x": [
           0.55,
           1
          ]
         },
         "hoverinfo": "label+percent+name",
         "labels": [
          "bonds",
          "etf_bond",
          "etf_stock",
          "stock_pl"
         ],
         "marker": {
          "colors": [
           "#006600",
           "#009900",
           "#ff8000",
           "#ff6666"
          ]
         },
         "name": "Target",
         "sort": false,
         "textfont": {
          "size": 20
         },
         "title": {
          "text": "Target"
         },
         "type": "pie",
         "values": [
          0.35,
          0.2,
          0.4,
          0.05
         ]
        }
       ],
       "layout": {
        "autosize": false,
        "height": 600,
        "template": {
         "data": {
          "bar": [
           {
            "error_x": {
             "color": "#2a3f5f"
            },
            "error_y": {
             "color": "#2a3f5f"
            },
            "marker": {
             "line": {
              "color": "#E5ECF6",
              "width": 0.5
             },
             "pattern": {
              "fillmode": "overlay",
              "size": 10,
              "solidity": 0.2
             }
            },
            "type": "bar"
           }
          ],
          "barpolar": [
           {
            "marker": {
             "line": {
              "color": "#E5ECF6",
              "width": 0.5
             },
             "pattern": {
              "fillmode": "overlay",
              "size": 10,
              "solidity": 0.2
             }
            },
            "type": "barpolar"
           }
          ],
          "carpet": [
           {
            "aaxis": {
             "endlinecolor": "#2a3f5f",
             "gridcolor": "white",
             "linecolor": "white",
             "minorgridcolor": "white",
             "startlinecolor": "#2a3f5f"
            },
            "baxis": {
             "endlinecolor": "#2a3f5f",
             "gridcolor": "white",
             "linecolor": "white",
             "minorgridcolor": "white",
             "startlinecolor": "#2a3f5f"
            },
            "type": "carpet"
           }
          ],
          "choropleth": [
           {
            "colorbar": {
             "outlinewidth": 0,
             "ticks": ""
            },
            "type": "choropleth"
           }
          ],
          "contour": [
           {
            "colorbar": {
             "outlinewidth": 0,
             "ticks": ""
            },
            "colorscale": [
             [
              0,
              "#0d0887"
             ],
             [
              0.1111111111111111,
              "#46039f"
             ],
             [
              0.2222222222222222,
              "#7201a8"
             ],
             [
              0.3333333333333333,
              "#9c179e"
             ],
             [
              0.4444444444444444,
              "#bd3786"
             ],
             [
              0.5555555555555556,
              "#d8576b"
             ],
             [
              0.6666666666666666,
              "#ed7953"
             ],
             [
              0.7777777777777778,
              "#fb9f3a"
             ],
             [
              0.8888888888888888,
              "#fdca26"
             ],
             [
              1,
              "#f0f921"
             ]
            ],
            "type": "contour"
           }
          ],
          "contourcarpet": [
           {
            "colorbar": {
             "outlinewidth": 0,
             "ticks": ""
            },
            "type": "contourcarpet"
           }
          ],
          "heatmap": [
           {
            "colorbar": {
             "outlinewidth": 0,
             "ticks": ""
            },
            "colorscale": [
             [
              0,
              "#0d0887"
             ],
             [
              0.1111111111111111,
              "#46039f"
             ],
             [
              0.2222222222222222,
              "#7201a8"
             ],
             [
              0.3333333333333333,
              "#9c179e"
             ],
             [
              0.4444444444444444,
              "#bd3786"
             ],
             [
              0.5555555555555556,
              "#d8576b"
             ],
             [
              0.6666666666666666,
              "#ed7953"
             ],
             [
              0.7777777777777778,
              "#fb9f3a"
             ],
             [
              0.8888888888888888,
              "#fdca26"
             ],
             [
              1,
              "#f0f921"
             ]
            ],
            "type": "heatmap"
           }
          ],
          "heatmapgl": [
           {
            "colorbar": {
             "outlinewidth": 0,
             "ticks": ""
            },
            "colorscale": [
             [
              0,
              "#0d0887"
             ],
             [
              0.1111111111111111,
              "#46039f"
             ],
             [
              0.2222222222222222,
              "#7201a8"
             ],
             [
              0.3333333333333333,
              "#9c179e"
             ],
             [
              0.4444444444444444,
              "#bd3786"
             ],
             [
              0.5555555555555556,
              "#d8576b"
             ],
             [
              0.6666666666666666,
              "#ed7953"
             ],
             [
              0.7777777777777778,
              "#fb9f3a"
             ],
             [
              0.8888888888888888,
              "#fdca26"
             ],
             [
              1,
              "#f0f921"
             ]
            ],
            "type": "heatmapgl"
           }
          ],
          "histogram": [
           {
            "marker": {
             "pattern": {
              "fillmode": "overlay",
              "size": 10,
              "solidity": 0.2
             }
            },
            "type": "histogram"
           }
          ],
          "histogram2d": [
           {
            "colorbar": {
             "outlinewidth": 0,
             "ticks": ""
            },
            "colorscale": [
             [
              0,
              "#0d0887"
             ],
             [
              0.1111111111111111,
              "#46039f"
             ],
             [
              0.2222222222222222,
              "#7201a8"
             ],
             [
              0.3333333333333333,
              "#9c179e"
             ],
             [
              0.4444444444444444,
              "#bd3786"
             ],
             [
              0.5555555555555556,
              "#d8576b"
             ],
             [
              0.6666666666666666,
              "#ed7953"
             ],
             [
              0.7777777777777778,
              "#fb9f3a"
             ],
             [
              0.8888888888888888,
              "#fdca26"
             ],
             [
              1,
              "#f0f921"
             ]
            ],
            "type": "histogram2d"
           }
          ],
          "histogram2dcontour": [
           {
            "colorbar": {
             "outlinewidth": 0,
             "ticks": ""
            },
            "colorscale": [
             [
              0,
              "#0d0887"
             ],
             [
              0.1111111111111111,
              "#46039f"
             ],
             [
              0.2222222222222222,
              "#7201a8"
             ],
             [
              0.3333333333333333,
              "#9c179e"
             ],
             [
              0.4444444444444444,
              "#bd3786"
             ],
             [
              0.5555555555555556,
              "#d8576b"
             ],
             [
              0.6666666666666666,
              "#ed7953"
             ],
             [
              0.7777777777777778,
              "#fb9f3a"
             ],
             [
              0.8888888888888888,
              "#fdca26"
             ],
             [
              1,
              "#f0f921"
             ]
            ],
            "type": "histogram2dcontour"
           }
          ],
          "mesh3d": [
           {
            "colorbar": {
             "outlinewidth": 0,
             "ticks": ""
            },
            "type": "mesh3d"
           }
          ],
          "parcoords": [
           {
            "line": {
             "colorbar": {
              "outlinewidth": 0,
              "ticks": ""
             }
            },
            "type": "parcoords"
           }
          ],
          "pie": [
           {
            "automargin": true,
            "type": "pie"
           }
          ],
          "scatter": [
           {
            "fillpattern": {
             "fillmode": "overlay",
             "size": 10,
             "solidity": 0.2
            },
            "type": "scatter"
           }
          ],
          "scatter3d": [
           {
            "line": {
             "colorbar": {
              "outlinewidth": 0,
              "ticks": ""
             }
            },
            "marker": {
             "colorbar": {
              "outlinewidth": 0,
              "ticks": ""
             }
            },
            "type": "scatter3d"
           }
          ],
          "scattercarpet": [
           {
            "marker": {
             "colorbar": {
              "outlinewidth": 0,
              "ticks": ""
             }
            },
            "type": "scattercarpet"
           }
          ],
          "scattergeo": [
           {
            "marker": {
             "colorbar": {
              "outlinewidth": 0,
              "ticks": ""
             }
            },
            "type": "scattergeo"
           }
          ],
          "scattergl": [
           {
            "marker": {
             "colorbar": {
              "outlinewidth": 0,
              "ticks": ""
             }
            },
            "type": "scattergl"
           }
          ],
          "scattermapbox": [
           {
            "marker": {
             "colorbar": {
              "outlinewidth": 0,
              "ticks": ""
             }
            },
            "type": "scattermapbox"
           }
          ],
          "scatterpolar": [
           {
            "marker": {
             "colorbar": {
              "outlinewidth": 0,
              "ticks": ""
             }
            },
            "type": "scatterpolar"
           }
          ],
          "scatterpolargl": [
           {
            "marker": {
             "colorbar": {
              "outlinewidth": 0,
              "ticks": ""
             }
            },
            "type": "scatterpolargl"
           }
          ],
          "scatterternary": [
           {
            "marker": {
             "colorbar": {
              "outlinewidth": 0,
              "ticks": ""
             }
            },
            "type": "scatterternary"
           }
          ],
          "surface": [
           {
            "colorbar": {
             "outlinewidth": 0,
             "ticks": ""
            },
            "colorscale": [
             [
              0,
              "#0d0887"
             ],
             [
              0.1111111111111111,
              "#46039f"
             ],
             [
              0.2222222222222222,
              "#7201a8"
             ],
             [
              0.3333333333333333,
              "#9c179e"
             ],
             [
              0.4444444444444444,
              "#bd3786"
             ],
             [
              0.5555555555555556,
              "#d8576b"
             ],
             [
              0.6666666666666666,
              "#ed7953"
             ],
             [
              0.7777777777777778,
              "#fb9f3a"
             ],
             [
              0.8888888888888888,
              "#fdca26"
             ],
             [
              1,
              "#f0f921"
             ]
            ],
            "type": "surface"
           }
          ],
          "table": [
           {
            "cells": {
             "fill": {
              "color": "#EBF0F8"
             },
             "line": {
              "color": "white"
             }
            },
            "header": {
             "fill": {
              "color": "#C8D4E3"
             },
             "line": {
              "color": "white"
             }
            },
            "type": "table"
           }
          ]
         },
         "layout": {
          "annotationdefaults": {
           "arrowcolor": "#2a3f5f",
           "arrowhead": 0,
           "arrowwidth": 1
          },
          "autotypenumbers": "strict",
          "coloraxis": {
           "colorbar": {
            "outlinewidth": 0,
            "ticks": ""
           }
          },
          "colorscale": {
           "diverging": [
            [
             0,
             "#8e0152"
            ],
            [
             0.1,
             "#c51b7d"
            ],
            [
             0.2,
             "#de77ae"
            ],
            [
             0.3,
             "#f1b6da"
            ],
            [
             0.4,
             "#fde0ef"
            ],
            [
             0.5,
             "#f7f7f7"
            ],
            [
             0.6,
             "#e6f5d0"
            ],
            [
             0.7,
             "#b8e186"
            ],
            [
             0.8,
             "#7fbc41"
            ],
            [
             0.9,
             "#4d9221"
            ],
            [
             1,
             "#276419"
            ]
           ],
           "sequential": [
            [
             0,
             "#0d0887"
            ],
            [
             0.1111111111111111,
             "#46039f"
            ],
            [
             0.2222222222222222,
             "#7201a8"
            ],
            [
             0.3333333333333333,
             "#9c179e"
            ],
            [
             0.4444444444444444,
             "#bd3786"
            ],
            [
             0.5555555555555556,
             "#d8576b"
            ],
            [
             0.6666666666666666,
             "#ed7953"
            ],
            [
             0.7777777777777778,
             "#fb9f3a"
            ],
            [
             0.8888888888888888,
             "#fdca26"
            ],
            [
             1,
             "#f0f921"
            ]
           ],
           "sequentialminus": [
            [
             0,
             "#0d0887"
            ],
            [
             0.1111111111111111,
             "#46039f"
            ],
            [
             0.2222222222222222,
             "#7201a8"
            ],
            [
             0.3333333333333333,
             "#9c179e"
            ],
            [
             0.4444444444444444,
             "#bd3786"
            ],
            [
             0.5555555555555556,
             "#d8576b"
            ],
            [
             0.6666666666666666,
             "#ed7953"
            ],
            [
             0.7777777777777778,
             "#fb9f3a"
            ],
            [
             0.8888888888888888,
             "#fdca26"
            ],
            [
             1,
             "#f0f921"
            ]
           ]
          },
          "colorway": [
           "#636efa",
           "#EF553B",
           "#00cc96",
           "#ab63fa",
           "#FFA15A",
           "#19d3f3",
           "#FF6692",
           "#B6E880",
           "#FF97FF",
           "#FECB52"
          ],
          "font": {
           "color": "#2a3f5f"
          },
          "geo": {
           "bgcolor": "white",
           "lakecolor": "white",
           "landcolor": "#E5ECF6",
           "showlakes": true,
           "showland": true,
           "subunitcolor": "white"
          },
          "hoverlabel": {
           "align": "left"
          },
          "hovermode": "closest",
          "mapbox": {
           "style": "light"
          },
          "paper_bgcolor": "white",
          "plot_bgcolor": "#E5ECF6",
          "polar": {
           "angularaxis": {
            "gridcolor": "white",
            "linecolor": "white",
            "ticks": ""
           },
           "bgcolor": "#E5ECF6",
           "radialaxis": {
            "gridcolor": "white",
            "linecolor": "white",
            "ticks": ""
           }
          },
          "scene": {
           "xaxis": {
            "backgroundcolor": "#E5ECF6",
            "gridcolor": "white",
            "gridwidth": 2,
            "linecolor": "white",
            "showbackground": true,
            "ticks": "",
            "zerolinecolor": "white"
           },
           "yaxis": {
            "backgroundcolor": "#E5ECF6",
            "gridcolor": "white",
            "gridwidth": 2,
            "linecolor": "white",
            "showbackground": true,
            "ticks": "",
            "zerolinecolor": "white"
           },
           "zaxis": {
            "backgroundcolor": "#E5ECF6",
            "gridcolor": "white",
            "gridwidth": 2,
            "linecolor": "white",
            "showbackground": true,
            "ticks": "",
            "zerolinecolor": "white"
           }
          },
          "shapedefaults": {
           "line": {
            "color": "#2a3f5f"
           }
          },
          "ternary": {
           "aaxis": {
            "gridcolor": "white",
            "linecolor": "white",
            "ticks": ""
           },
           "baxis": {
            "gridcolor": "white",
            "linecolor": "white",
            "ticks": ""
           },
           "bgcolor": "#E5ECF6",
           "caxis": {
            "gridcolor": "white",
            "linecolor": "white",
            "ticks": ""
           }
          },
          "title": {
           "x": 0.05
          },
          "xaxis": {
           "automargin": true,
           "gridcolor": "white",
           "linecolor": "white",
           "ticks": "",
           "title": {
            "standoff": 15
           },
           "zerolinecolor": "white",
           "zerolinewidth": 2
          },
          "yaxis": {
           "automargin": true,
           "gridcolor": "white",
           "linecolor": "white",
           "ticks": "",
           "title": {
            "standoff": 15
           },
           "zerolinecolor": "white",
           "zerolinewidth": 2
          }
         }
        },
        "width": 1000
       }
      },
      "image/png": "[encoded data removed]",
      "text/html": [
       "<div>                            <div id=\"27fe53a1-e90e-4441-8fe1-18ebe8cc250a\" class=\"plotly-graph-div\" style=\"height:600px; width:1000px;\"></div>            <script type=\"text/javascript\">                require([\"plotly\"], function(Plotly) {                    window.PLOTLYENV=window.PLOTLYENV || {};                                    if (document.getElementById(\"27fe53a1-e90e-4441-8fe1-18ebe8cc250a\")) {                    Plotly.newPlot(                        \"27fe53a1-e90e-4441-8fe1-18ebe8cc250a\",                        [{\"domain\":{\"x\":[0,0.45]},\"hoverinfo\":\"label+percent+name\",\"labels\":[\"bonds\",\"etf_bond\",\"etf_stock\",\"stock_pl\"],\"name\":\"Current\",\"sort\":false,\"title\":{\"text\":\"Current\"},\"values\":[0.6954570812746985,0.1382503325632025,0.13991198504674734,0.02638060111535158],\"type\":\"pie\",\"marker\":{\"colors\":[\"#006600\",\"#009900\",\"#ff8000\",\"#ff6666\"]},\"textfont\":{\"size\":20}},{\"domain\":{\"x\":[0.55,1.0]},\"hoverinfo\":\"label+percent+name\",\"labels\":[\"bonds\",\"etf_bond\",\"etf_stock\",\"stock_pl\"],\"name\":\"Target\",\"sort\":false,\"title\":{\"text\":\"Target\"},\"values\":[0.35,0.2,0.4,0.05],\"type\":\"pie\",\"marker\":{\"colors\":[\"#006600\",\"#009900\",\"#ff8000\",\"#ff6666\"]},\"textfont\":{\"size\":20}}],                        {\"template\":{\"data\":{\"histogram2dcontour\":[{\"type\":\"histogram2dcontour\",\"colorbar\":{\"outlinewidth\":0,\"ticks\":\"\"},\"colorscale\":[[0.0,\"#0d0887\"],[0.1111111111111111,\"#46039f\"],[0.2222222222222222,\"#7201a8\"],[0.3333333333333333,\"#9c179e\"],[0.4444444444444444,\"#bd3786\"],[0.5555555555555556,\"#d8576b\"],[0.6666666666666666,\"#ed7953\"],[0.7777777777777778,\"#fb9f3a\"],[0.8888888888888888,\"#fdca26\"],[1.0,\"#f0f921\"]]}],\"choropleth\":[{\"type\":\"choropleth\",\"colorbar\":{\"outlinewidth\":0,\"ticks\":\"\"}}],\"histogram2d\":[{\"type\":\"histogram2d\",\"colorbar\":{\"outlinewidth\":0,\"ticks\":\"\"},\"colorscale\":[[0.0,\"#0d0887\"],[0.1111111111111111,\"#46039f\"],[0.2222222222222222,\"#7201a8\"],[0.3333333333333333,\"#9c179e\"],[0.4444444444444444,\"#bd3786\"],[0.5555555555555556,\"#d8576b\"],[0.6666666666666666,\"#ed7953\"],[0.7777777777777778,\"#fb9f3a\"],[0.8888888888888888,\"#fdca26\"],[1.0,\"#f0f921\"]]}],\"heatmap\":[{\"type\":\"heatmap\",\"colorbar\":{\"outlinewidth\":0,\"ticks\":\"\"},\"colorscale\":[[0.0,\"#0d0887\"],[0.1111111111111111,\"#46039f\"],[0.2222222222222222,\"#7201a8\"],[0.3333333333333333,\"#9c179e\"],[0.4444444444444444,\"#bd3786\"],[0.5555555555555556,\"#d8576b\"],[0.6666666666666666,\"#ed7953\"],[0.7777777777777778,\"#fb9f3a\"],[0.8888888888888888,\"#fdca26\"],[1.0,\"#f0f921\"]]}],\"heatmapgl\":[{\"type\":\"heatmapgl\",\"colorbar\":{\"outlinewidth\":0,\"ticks\":\"\"},\"colorscale\":[[0.0,\"#0d0887\"],[0.1111111111111111,\"#46039f\"],[0.2222222222222222,\"#7201a8\"],[0.3333333333333333,\"#9c179e\"],[0.4444444444444444,\"#bd3786\"],[0.5555555555555556,\"#d8576b\"],[0.6666666666666666,\"#ed7953\"],[0.7777777777777778,\"#fb9f3a\"],[0.8888888888888888,\"#fdca26\"],[1.0,\"#f0f921\"]]}],\"contourcarpet\":[{\"type\":\"contourcarpet\",\"colorbar\":{\"outlinewidth\":0,\"ticks\":\"\"}}],\"contour\":[{\"type\":\"contour\",\"colorbar\":{\"outlinewidth\":0,\"ticks\":\"\"},\"colorscale\":[[0.0,\"#0d0887\"],[0.1111111111111111,\"#46039f\"],[0.2222222222222222,\"#7201a8\"],[0.3333333333333333,\"#9c179e\"],[0.4444444444444444,\"#bd3786\"],[0.5555555555555556,\"#d8576b\"],[0.6666666666666666,\"#ed7953\"],[0.7777777777777778,\"#fb9f3a\"],[0.8888888888888888,\"#fdca26\"],[1.0,\"#f0f921\"]]}],\"surface\":[{\"type\":\"surface\",\"colorbar\":{\"outlinewidth\":0,\"ticks\":\"\"},\"colorscale\":[[0.0,\"#0d0887\"],[0.1111111111111111,\"#46039f\"],[0.2222222222222222,\"#7201a8\"],[0.3333333333333333,\"#9c179e\"],[0.4444444444444444,\"#bd3786\"],[0.5555555555555556,\"#d8576b\"],[0.6666666666666666,\"#ed7953\"],[0.7777777777777778,\"#fb9f3a\"],[0.8888888888888888,\"#fdca26\"],[1.0,\"#f0f921\"]]}],\"mesh3d\":[{\"type\":\"mesh3d\",\"colorbar\":{\"outlinewidth\":0,\"ticks\":\"\"}}],\"scatter\":[{\"fillpattern\":{\"fillmode\":\"overlay\",\"size\":10,\"solidity\":0.2},\"type\":\"scatter\"}],\"parcoords\":[{\"type\":\"parcoords\",\"line\":{\"colorbar\":{\"outlinewidth\":0,\"ticks\":\"\"}}}],\"scatterpolargl\":[{\"type\":\"scatterpolargl\",\"marker\":{\"colorbar\":{\"outlinewidth\":0,\"ticks\":\"\"}}}],\"bar\":[{\"error_x\":{\"color\":\"#2a3f5f\"},\"error_y\":{\"color\":\"#2a3f5f\"},\"marker\":{\"line\":{\"color\":\"#E5ECF6\",\"width\":0.5},\"pattern\":{\"fillmode\":\"overlay\",\"size\":10,\"solidity\":0.2}},\"type\":\"bar\"}],\"scattergeo\":[{\"type\":\"scattergeo\",\"marker\":{\"colorbar\":{\"outlinewidth\":0,\"ticks\":\"\"}}}],\"scatterpolar\":[{\"type\":\"scatterpolar\",\"marker\":{\"colorbar\":{\"outlinewidth\":0,\"ticks\":\"\"}}}],\"histogram\":[{\"marker\":{\"pattern\":{\"fillmode\":\"overlay\",\"size\":10,\"solidity\":0.2}},\"type\":\"histogram\"}],\"scattergl\":[{\"type\":\"scattergl\",\"marker\":{\"colorbar\":{\"outlinewidth\":0,\"ticks\":\"\"}}}],\"scatter3d\":[{\"type\":\"scatter3d\",\"line\":{\"colorbar\":{\"outlinewidth\":0,\"ticks\":\"\"}},\"marker\":{\"colorbar\":{\"outlinewidth\":0,\"ticks\":\"\"}}}],\"scattermapbox\":[{\"type\":\"scattermapbox\",\"marker\":{\"colorbar\":{\"outlinewidth\":0,\"ticks\":\"\"}}}],\"scatterternary\":[{\"type\":\"scatterternary\",\"marker\":{\"colorbar\":{\"outlinewidth\":0,\"ticks\":\"\"}}}],\"scattercarpet\":[{\"type\":\"scattercarpet\",\"marker\":{\"colorbar\":{\"outlinewidth\":0,\"ticks\":\"\"}}}],\"carpet\":[{\"aaxis\":{\"endlinecolor\":\"#2a3f5f\",\"gridcolor\":\"white\",\"linecolor\":\"white\",\"minorgridcolor\":\"white\",\"startlinecolor\":\"#2a3f5f\"},\"baxis\":{\"endlinecolor\":\"#2a3f5f\",\"gridcolor\":\"white\",\"linecolor\":\"white\",\"minorgridcolor\":\"white\",\"startlinecolor\":\"#2a3f5f\"},\"type\":\"carpet\"}],\"table\":[{\"cells\":{\"fill\":{\"color\":\"#EBF0F8\"},\"line\":{\"color\":\"white\"}},\"header\":{\"fill\":{\"color\":\"#C8D4E3\"},\"line\":{\"color\":\"white\"}},\"type\":\"table\"}],\"barpolar\":[{\"marker\":{\"line\":{\"color\":\"#E5ECF6\",\"width\":0.5},\"pattern\":{\"fillmode\":\"overlay\",\"size\":10,\"solidity\":0.2}},\"type\":\"barpolar\"}],\"pie\":[{\"automargin\":true,\"type\":\"pie\"}]},\"layout\":{\"autotypenumbers\":\"strict\",\"colorway\":[\"#636efa\",\"#EF553B\",\"#00cc96\",\"#ab63fa\",\"#FFA15A\",\"#19d3f3\",\"#FF6692\",\"#B6E880\",\"#FF97FF\",\"#FECB52\"],\"font\":{\"color\":\"#2a3f5f\"},\"hovermode\":\"closest\",\"hoverlabel\":{\"align\":\"left\"},\"paper_bgcolor\":\"white\",\"plot_bgcolor\":\"#E5ECF6\",\"polar\":{\"bgcolor\":\"#E5ECF6\",\"angularaxis\":{\"gridcolor\":\"white\",\"linecolor\":\"white\",\"ticks\":\"\"},\"radialaxis\":{\"gridcolor\":\"white\",\"linecolor\":\"white\",\"ticks\":\"\"}},\"ternary\":{\"bgcolor\":\"#E5ECF6\",\"aaxis\":{\"gridcolor\":\"white\",\"linecolor\":\"white\",\"ticks\":\"\"},\"baxis\":{\"gridcolor\":\"white\",\"linecolor\":\"white\",\"ticks\":\"\"},\"caxis\":{\"gridcolor\":\"white\",\"linecolor\":\"white\",\"ticks\":\"\"}},\"coloraxis\":{\"colorbar\":{\"outlinewidth\":0,\"ticks\":\"\"}},\"colorscale\":{\"sequential\":[[0.0,\"#0d0887\"],[0.1111111111111111,\"#46039f\"],[0.2222222222222222,\"#7201a8\"],[0.3333333333333333,\"#9c179e\"],[0.4444444444444444,\"#bd3786\"],[0.5555555555555556,\"#d8576b\"],[0.6666666666666666,\"#ed7953\"],[0.7777777777777778,\"#fb9f3a\"],[0.8888888888888888,\"#fdca26\"],[1.0,\"#f0f921\"]],\"sequentialminus\":[[0.0,\"#0d0887\"],[0.1111111111111111,\"#46039f\"],[0.2222222222222222,\"#7201a8\"],[0.3333333333333333,\"#9c179e\"],[0.4444444444444444,\"#bd3786\"],[0.5555555555555556,\"#d8576b\"],[0.6666666666666666,\"#ed7953\"],[0.7777777777777778,\"#fb9f3a\"],[0.8888888888888888,\"#fdca26\"],[1.0,\"#f0f921\"]],\"diverging\":[[0,\"#8e0152\"],[0.1,\"#c51b7d\"],[0.2,\"#de77ae\"],[0.3,\"#f1b6da\"],[0.4,\"#fde0ef\"],[0.5,\"#f7f7f7\"],[0.6,\"#e6f5d0\"],[0.7,\"#b8e186\"],[0.8,\"#7fbc41\"],[0.9,\"#4d9221\"],[1,\"#276419\"]]},\"xaxis\":{\"gridcolor\":\"white\",\"linecolor\":\"white\",\"ticks\":\"\",\"title\":{\"standoff\":15},\"zerolinecolor\":\"white\",\"automargin\":true,\"zerolinewidth\":2},\"yaxis\":{\"gridcolor\":\"white\",\"linecolor\":\"white\",\"ticks\":\"\",\"title\":{\"standoff\":15},\"zerolinecolor\":\"white\",\"automargin\":true,\"zerolinewidth\":2},\"scene\":{\"xaxis\":{\"backgroundcolor\":\"#E5ECF6\",\"gridcolor\":\"white\",\"linecolor\":\"white\",\"showbackground\":true,\"ticks\":\"\",\"zerolinecolor\":\"white\",\"gridwidth\":2},\"yaxis\":{\"backgroundcolor\":\"#E5ECF6\",\"gridcolor\":\"white\",\"linecolor\":\"white\",\"showbackground\":true,\"ticks\":\"\",\"zerolinecolor\":\"white\",\"gridwidth\":2},\"zaxis\":{\"backgroundcolor\":\"#E5ECF6\",\"gridcolor\":\"white\",\"linecolor\":\"white\",\"showbackground\":true,\"ticks\":\"\",\"zerolinecolor\":\"white\",\"gridwidth\":2}},\"shapedefaults\":{\"line\":{\"color\":\"#2a3f5f\"}},\"annotationdefaults\":{\"arrowcolor\":\"#2a3f5f\",\"arrowhead\":0,\"arrowwidth\":1},\"geo\":{\"bgcolor\":\"white\",\"landcolor\":\"#E5ECF6\",\"subunitcolor\":\"white\",\"showland\":true,\"showlakes\":true,\"lakecolor\":\"white\"},\"title\":{\"x\":0.05},\"mapbox\":{\"style\":\"light\"}}},\"autosize\":false,\"width\":1000,\"height\":600},                        {\"responsive\": true}                    ).then(function(){\n",
       "                            \n",
       "var gd = document.getElementById('27fe53a1-e90e-4441-8fe1-18ebe8cc250a');\n",
       "var x = new MutationObserver(function (mutations, observer) {{\n",
       "        var display = window.getComputedStyle(gd).display;\n",
       "        if (!display || display === 'none') {{\n",
       "            console.log([gd, 'removed!']);\n",
       "            Plotly.purge(gd);\n",
       "            observer.disconnect();\n",
       "        }}\n",
       "}});\n",
       "\n",
       "// Listen for the removal of the full notebook cells\n",
       "var notebookContainer = gd.closest('#notebook-container');\n",
       "if (notebookContainer) {{\n",
       "    x.observe(notebookContainer, {childList: true});\n",
       "}}\n",
       "\n",
       "// Listen for the clearing of the current output cell\n",
       "var outputEl = gd.closest('.output');\n",
       "if (outputEl) {{\n",
       "    x.observe(outputEl, {childList: true});\n",
       "}}\n",
       "\n",
       "                        })                };                });            </script>        </div>"
      ]
     },
     "metadata": {},
     "output_type": "display_data"
    },
    {
     "name": "stdout",
     "output_type": "stream",
     "text": [
      "Portfolio needs rebalancing!\n",
      "Change the amount of bonds by 0.06174966743679752\n",
      "Change the amount of stocks by 0.2600880149532527\n"
     ]
    }
   ],
   "source": [
    "# dodać info ile te procenty rebalancingu to jest sztuk danego aktywa po aktualnej cenie (z racji, że kilka aktywów to po średniej ważonej cenie albo po cenie tego z ike)\n",
    "# może w ogóle dodac kominukat \"aby optymalnie dokonać rebalancingu dokup X sztuk tickera XXXX.XX po aktualnej cenie X\"\n",
    "\n",
    "trace1 = go.Pie(\n",
    "    values=pie_current['current_value'],\n",
    "    labels=pie_current['asset_type'],\n",
    "    domain=dict(x=[0, 0.45]),\n",
    "    name=\"Current\",\n",
    "    title=\"Current\",\n",
    "    hoverinfo=\"label+percent+name\",\n",
    "    sort=False\n",
    ")\n",
    "trace2 = go.Pie(\n",
    "    values=pie_current['target_value'],\n",
    "    labels=pie_current['asset_type'],\n",
    "    domain=dict(x=[0.55, 1.0]),\n",
    "    name=\"Target\",\n",
    "    title=\"Target\",\n",
    "    hoverinfo=\"label+percent+name\",\n",
    "    sort=False\n",
    ")\n",
    "layout = go.Layout()\n",
    "data = [trace1, trace2]\n",
    "fig = go.Figure(data=data, layout=layout)\n",
    "fig.update_traces(marker=dict(colors=[\"#006600\", \"#009900\", \"#ff8000\", \"#ff6666\"]), textfont_size=20)\n",
    "fig.update_layout(\n",
    "    autosize=False,\n",
    "    width=1000,\n",
    "    height=600,\n",
    ")\n",
    "fig.show()\n",
    "print(\"Portfolio needs rebalancing!\")\n",
    "print(\"Change the amount of bonds by\", pie_current[pie_current['asset_type'] == 'etf_bond']['diff'].reset_index(drop=True)[0])\n",
    "print(\"Change the amount of stocks by\", pie_current[pie_current['asset_type'] == 'etf_stock']['diff'].reset_index(drop=True)[0])"
   ]
  },
  {
   "cell_type": "markdown",
   "id": "690460bc-142d-4878-affd-a517d77e6206",
   "metadata": {
    "jp-MarkdownHeadingCollapsed": true,
    "tags": []
   },
   "source": [
    "### Banner"
   ]
  },
  {
   "cell_type": "code",
   "execution_count": 243,
   "id": "ec5ed5da-b44c-4dad-9dae-5f706d268c11",
   "metadata": {
    "tags": []
   },
   "outputs": [],
   "source": [
    "summary_table = summary(df, holdings_etfs, holdings_pl)"
   ]
  },
  {
   "cell_type": "code",
   "execution_count": 245,
   "id": "add9e5ad-869c-47c2-a8fa-40e813ce8c3e",
   "metadata": {
    "tags": []
   },
   "outputs": [],
   "source": [
    "summary_table.to_pickle('data/summary.pkl')"
   ]
  },
  {
   "cell_type": "markdown",
   "id": "721d0fdb-95ad-48f0-8139-2275e24a2a5f",
   "metadata": {
    "tags": []
   },
   "source": [
    "### Dashboard "
   ]
  },
  {
   "cell_type": "code",
   "execution_count": 287,
   "id": "3eedc3e0-6ee4-465a-9d6d-5ff5dd65c087",
   "metadata": {
    "tags": []
   },
   "outputs": [],
   "source": [
    "df_plot = pd.read_pickle('data/df_plot.pkl')\n",
    "df_nw_plot = pd.read_pickle('data/df_nw_plot.pkl')\n",
    "holdings_etfs = pd.read_pickle('data/holdings_etfs.pkl')\n",
    "holdings_pl = pd.read_pickle('data/holdings_pl.pkl')\n",
    "pie_current = pd.read_pickle('data/pie_current.pkl')\n",
    "summary = pd.read_pickle('data/summary.pkl')"
   ]
  },
  {
   "cell_type": "code",
   "execution_count": 288,
   "id": "e05b5554-d1fb-4bb2-ac25-bad0627813a5",
   "metadata": {
    "tags": []
   },
   "outputs": [
    {
     "name": "stdout",
     "output_type": "stream",
     "text": [
      "Dash app running on http://127.0.0.1:8050/\n"
     ]
    }
   ],
   "source": [
    "# Create a Dash app\n",
    "app = dash.Dash(__name__, external_stylesheets=[dbc.themes.BOOTSTRAP, '/assets/styles.css'])\n",
    "\n",
    "app.layout = html.Div([\n",
    "    \n",
    "    dbc.Row([\n",
    "        dbc.Col([\n",
    "            html.H1(\"Investment Portfolio Dashboard\", id='title'),\n",
    "        ]),\n",
    "        dbc.Col([\n",
    "            html.Div([\n",
    "                DataTable(\n",
    "                    id='summary-table',\n",
    "                    columns=[{'name': col, 'id': col} for col in summary.columns],\n",
    "                    data=summary.to_dict('records'),\n",
    "                    style_as_list_view=True,\n",
    "                    style_cell={'padding': '1px', 'fontSize': 16},\n",
    "                    style_header={\n",
    "                        'backgroundColor': 'white',\n",
    "                        'fontWeight': 'bold'\n",
    "                    },\n",
    "                    style_table={'width': '100%'},\n",
    "                ),\n",
    "            ]),\n",
    "        ])\n",
    "    ], id='main-row'),\n",
    "    \n",
    "    dbc.Row([\n",
    "        dbc.Col([\n",
    "            html.Div([\n",
    "                html.H2(\"Portfolio composition by quarters\"),\n",
    "                dcc.Graph(\n",
    "                    id='bar-chart',\n",
    "                    figure=px.bar(\n",
    "                        df_plot,\n",
    "                        x=\"quarter\",\n",
    "                        y=\"total_pln\",\n",
    "                        color='asset_type',\n",
    "                        color_discrete_sequence=[\"#006600\", \"#009900\", \"#ff8000\", \"#ff6666\"]\n",
    "                    ).update_layout(\n",
    "                        yaxis={'title': None},\n",
    "                        xaxis={'title': None},\n",
    "                        autosize=True,\n",
    "                        font=dict(size=11),\n",
    "                        legend_title_text='',\n",
    "                        legend=dict(\n",
    "                            orientation=\"h\",\n",
    "                            entrywidth=50,\n",
    "                            yanchor=\"bottom\",\n",
    "                            y=1.02,\n",
    "                            xanchor=\"right\",\n",
    "                            x=1\n",
    "                        )\n",
    "                    )\n",
    "                )\n",
    "            ], className=\"blobs\")\n",
    "        ]),\n",
    "        dbc.Col([\n",
    "            html.Div([\n",
    "                html.H2(\"Asset allocation\"),\n",
    "                dcc.Graph(\n",
    "                    id='pie-chart',\n",
    "                    figure=go.Figure(\n",
    "                        data=[\n",
    "                            go.Pie(\n",
    "                                values=pie_current['current_value'],\n",
    "                                labels=pie_current['asset_type'],\n",
    "                                domain=dict(x=[0, 0.49]),\n",
    "                                name=\"Current\",\n",
    "                                title=\"Current\",\n",
    "                                hoverinfo=\"label+percent+name\",\n",
    "                                sort=False\n",
    "                            ),\n",
    "                            go.Pie(\n",
    "                                values=pie_current['target_value'],\n",
    "                                labels=pie_current['asset_type'],\n",
    "                                domain=dict(x=[0.51, 1.0]),\n",
    "                                name=\"Target\",\n",
    "                                title=\"Target\",\n",
    "                                hoverinfo=\"label+percent+name\",\n",
    "                                sort=False\n",
    "                            )\n",
    "                        ],\n",
    "                        layout=go.Layout()\n",
    "                    ).update_traces(\n",
    "                        marker=dict(colors=[\"#006600\", \"#009900\", \"#ff8000\", \"#ff6666\"]), \n",
    "                        textfont_size=11,\n",
    "                    ).update_layout(\n",
    "                        autosize=True,\n",
    "                        font=dict(size=11),\n",
    "                        legend=dict(\n",
    "                            orientation=\"h\",\n",
    "                            entrywidth=50,\n",
    "                            yanchor=\"bottom\",\n",
    "                            y=1.02,\n",
    "                            xanchor=\"right\",\n",
    "                            x=1\n",
    "                        )\n",
    "                    ),\n",
    "                ),\n",
    "            ], className=\"blobs\"),\n",
    "        ])\n",
    "    ]),\n",
    "    # ETF\n",
    "    dbc.Row([\n",
    "        html.H1(\"ETFs\"),\n",
    "        dbc.Col([\n",
    "            html.Div([\n",
    "                html.H2(\"Holdings\", style={'margin-bottom': '70px'}),\n",
    "                DataTable(\n",
    "                    id='etf-table',\n",
    "                    columns=[{'name': col, 'id': col} for col in holdings_etfs.columns],\n",
    "                    data=holdings_etfs.to_dict('records'),\n",
    "                    style_as_list_view=True,\n",
    "                    style_cell={'padding': '5px', 'fontSize': 13},\n",
    "                    style_header={\n",
    "                        'backgroundColor': 'white',\n",
    "                        'fontWeight': 'bold'\n",
    "                    },\n",
    "                    style_table={'width': '100%'},\n",
    "                ),\n",
    "            ], className=\"blobs\"),\n",
    "        ]),\n",
    "\n",
    "        dbc.Col([\n",
    "            html.Div([\n",
    "                html.H2(\"Value by month\"),\n",
    "                dcc.Graph(\n",
    "                    id='etf-area-chart',\n",
    "                    figure=px.area(\n",
    "                        df_nw_plot,\n",
    "                        x=\"date_month\",\n",
    "                        y=\"value_pln\",\n",
    "                        color='class',\n",
    "                        line_group='class',\n",
    "                        color_discrete_sequence=[\"#99ccff\", \"#00cc00\"]\n",
    "                    ).update_layout(\n",
    "                        yaxis={'title': None},\n",
    "                        xaxis={'title': None},\n",
    "                        autosize=True,\n",
    "                        legend_title_text='',\n",
    "                        font=dict(size=11),\n",
    "                        legend=dict(\n",
    "                            orientation=\"h\",\n",
    "                            entrywidth=110,\n",
    "                            yanchor=\"bottom\",\n",
    "                            y=1.02,\n",
    "                            xanchor=\"right\",\n",
    "                            x=1\n",
    "                        )\n",
    "                    )\n",
    "                ),\n",
    "            ], className=\"blobs\"),\n",
    "        ])\n",
    "    ]),\n",
    "    # Stocks\n",
    "    dbc.Row([\n",
    "        html.H1(\"Stocks\"),\n",
    "        dbc.Col([\n",
    "            html.Div([\n",
    "                html.H2(\"Holdings\", style={'margin-bottom': '70px'}),\n",
    "                DataTable(\n",
    "                    id='stocks-table',\n",
    "                    columns=[{'name': col, 'id': col} for col in holdings_pl.columns],\n",
    "                    data=holdings_pl.to_dict('records'),\n",
    "                    style_as_list_view=True,\n",
    "                    style_cell={'padding': '5px', 'fontSize': 13},\n",
    "                    style_header={\n",
    "                        'backgroundColor': 'white',\n",
    "                        'fontWeight': 'bold'\n",
    "                    },\n",
    "                    style_table={'width': '100%'},\n",
    "                ),\n",
    "            ], className=\"blobs\"),\n",
    "        ]),\n",
    "\n",
    "        dbc.Col([\n",
    "            html.Div([\n",
    "                html.H2(\"Capital invested and asset value difference by month\"),\n",
    "                dcc.Graph(\n",
    "                    id='stocks-area-chart',\n",
    "                    figure=px.area(\n",
    "                        df_nw_plot,\n",
    "                        x=\"date_month\",\n",
    "                        y=\"value_pln\",\n",
    "                        color='class',\n",
    "                        line_group='class',\n",
    "                        color_discrete_sequence=[\"#99ccff\", \"#00cc00\"]\n",
    "                    ).update_layout(\n",
    "                        yaxis={'title': None},\n",
    "                        xaxis={'title': None},\n",
    "                        autosize=True,\n",
    "                        legend_title_text='',\n",
    "                        font=dict(size=11),\n",
    "                        legend=dict(\n",
    "                            orientation=\"h\",\n",
    "                            entrywidth=110,\n",
    "                            yanchor=\"bottom\",\n",
    "                            y=1.02,\n",
    "                            xanchor=\"right\",\n",
    "                            x=1\n",
    "                        )\n",
    "                    )\n",
    "                ),\n",
    "            ], className=\"blobs\"),\n",
    "        ])\n",
    "    ]),\n",
    "    \n",
    "], id=\"main-div\")\n",
    "\n",
    "\n",
    "# Run the app\n",
    "if __name__ == '__main__':\n",
    "    app.run_server(jupyter_mode='external')\n"
   ]
  },
  {
   "cell_type": "code",
   "execution_count": null,
   "id": "dafe142d-64f1-409a-9da6-576608fdf814",
   "metadata": {},
   "outputs": [],
   "source": []
  }
 ],
 "metadata": {
  "kernelspec": {
   "display_name": "Python 3 (ipykernel)",
   "language": "python",
   "name": "python3"
  },
  "language_info": {
   "codemirror_mode": {
    "name": "ipython",
    "version": 3
   },
   "file_extension": ".py",
   "mimetype": "text/x-python",
   "name": "python",
   "nbconvert_exporter": "python",
   "pygments_lexer": "ipython3",
   "version": "3.8.16"
  }
 },
 "nbformat": 4,
 "nbformat_minor": 5
}
