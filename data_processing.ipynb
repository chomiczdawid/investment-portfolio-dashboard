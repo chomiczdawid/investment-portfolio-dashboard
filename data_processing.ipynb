{
 "cells": [
  {
   "cell_type": "code",
   "execution_count": 117,
   "id": "cee1b517-da05-4b31-a1d5-a128c6c1cd20",
   "metadata": {
    "tags": []
   },
   "outputs": [],
   "source": [
    "import pandas as pd\n",
    "import numpy as np\n",
    "import matplotlib.pyplot as plt\n",
    "import plotly.express as px\n",
    "import yfinance as yf\n",
    "\n",
    "import warnings\n",
    "warnings.filterwarnings('ignore')\n",
    "pd.set_option('display.float_format', lambda x: '%.4f' % x)"
   ]
  },
  {
   "cell_type": "markdown",
   "id": "454f78ae-91b5-4f2a-ae1c-01ed73dc6417",
   "metadata": {
    "tags": []
   },
   "source": [
    "###  ToDo:\n",
    "* zrobić coś w stylu inital_concept.jpg\n",
    "* skupić się na razie na portfelu ETF\n",
    "* Wykres NetWorth to można zrobić coś w stylu, że jest interwał miesięczny, poczynając od miesiąca z daty pierwszej transakcji kupna etfa i potem już co miesiąc, gdzie po prostu biorę co miesiąc sumę wszytskich aktywów i przemnażam przez ich cenę z tego okresu (data końca miesiąca albo średnia miesięczna cena dla każdego tickera), co daje mi jedną obserwację na wykresie\n",
    "    * z tego w sumie może powstać wykres gdzie jedna linia jest mnożona przez cenę i pokazuje realną zmienność portfela, a druga linia jest tylko wpłatami kapitału, czyli za ile coś kupiłem, to by fajnie pokazywało jaka jest relacja wpłacanego kapitału do realnej wartości portfela\n",
    "    * można by też wtedy dodać kolory, że jak linia wartości jest wyżej niż wpłacania, to zysk - zielony, a jak spadnie poniżej wpłacony kapitał, to strata - czerwony\n",
    "* Wykres Allocations zrobić analogiczny do kołowych wykresów u mnie w excelu, ale z jakąś agregacją etfów z danego typu np. DTLA i IDTL wyświetlane jako jedna pozycja podpisana \"US tre 20+\". Dalsza granulacja na konta i poszczególne etfy może być w dalszym podsumowaniu (może osobne strony dla każdego brokera czy coś, chociaż nie wiem czy jest sens)\n",
    "* Dodać w zakładce Holdings kolumnę z info o koncie na jakim jest kupiony dany ticker"
   ]
  },
  {
   "cell_type": "code",
   "execution_count": 106,
   "id": "2595e081-7ea7-4eb7-b415-09450ad577e9",
   "metadata": {
    "tags": []
   },
   "outputs": [],
   "source": [
    "# to jest tylko ilość kupiona na dany moment, a potrzeba mi cyklicznego podumowania ilości każdego assetu i cen\n",
    "\n",
    "# żeby to wyżej działało jak trzeba, musi być tabelka z historią portfela, gdzie sumowane aktywa będą miały obliczane wartości na daną datę (np. koniec kwartału)\n",
    "\n",
    "# napisać algorytm który sprawdza jakie są assety w transakcjach i przelicza dla nich historię, jak się coś pojawi to po tej dacie dodawany jest do cyklicznego generowania historii\n",
    "\n",
    "# na koniec każdego kwartału jest brany kurs walut i aktywów i obliczana jest wartość bazując na amount\n",
    "\n",
    "# ogarnąć interaktywne ploty współpracujące z dashem (pewnie plotly) \n",
    "# https://plotly.com/python/bar-charts/"
   ]
  },
  {
   "cell_type": "markdown",
   "id": "e3e91b40-d0b4-4c35-bd0b-52c61c13af2c",
   "metadata": {
    "jp-MarkdownHeadingCollapsed": true,
    "tags": []
   },
   "source": [
    "### Data preparation"
   ]
  },
  {
   "cell_type": "code",
   "execution_count": 186,
   "id": "bc27e829-3214-488a-9e14-5c1e7af8c8a6",
   "metadata": {
    "tags": []
   },
   "outputs": [],
   "source": [
    "df_raw = pd.read_excel('data/transactions.xlsx')"
   ]
  },
  {
   "cell_type": "code",
   "execution_count": 187,
   "id": "1af3b724-26ba-4a38-830a-3786888373d7",
   "metadata": {
    "tags": []
   },
   "outputs": [],
   "source": [
    "df = df_raw.copy()"
   ]
  },
  {
   "cell_type": "code",
   "execution_count": 188,
   "id": "54483216-168b-4e52-98f1-f24df5191682",
   "metadata": {
    "tags": []
   },
   "outputs": [
    {
     "data": {
      "text/html": [
       "<div>\n",
       "<style scoped>\n",
       "    .dataframe tbody tr th:only-of-type {\n",
       "        vertical-align: middle;\n",
       "    }\n",
       "\n",
       "    .dataframe tbody tr th {\n",
       "        vertical-align: top;\n",
       "    }\n",
       "\n",
       "    .dataframe thead th {\n",
       "        text-align: right;\n",
       "    }\n",
       "</style>\n",
       "<table border=\"1\" class=\"dataframe\">\n",
       "  <thead>\n",
       "    <tr style=\"text-align: right;\">\n",
       "      <th></th>\n",
       "      <th>account</th>\n",
       "      <th>date</th>\n",
       "      <th>ticker</th>\n",
       "      <th>currency</th>\n",
       "      <th>asset_type</th>\n",
       "      <th>transaction_type</th>\n",
       "      <th>amount</th>\n",
       "      <th>price</th>\n",
       "      <th>commision</th>\n",
       "      <th>pln_exr</th>\n",
       "      <th>total_pln</th>\n",
       "    </tr>\n",
       "  </thead>\n",
       "  <tbody>\n",
       "    <tr>\n",
       "      <th>0</th>\n",
       "      <td>treasury_bonds_pl</td>\n",
       "      <td>2020-02-08</td>\n",
       "      <td>COI</td>\n",
       "      <td>PLN</td>\n",
       "      <td>bonds</td>\n",
       "      <td>buy</td>\n",
       "      <td>600.0000</td>\n",
       "      <td>100.0000</td>\n",
       "      <td>0.0000</td>\n",
       "      <td>1.0000</td>\n",
       "      <td>60000.0000</td>\n",
       "    </tr>\n",
       "    <tr>\n",
       "      <th>1</th>\n",
       "      <td>treasury_bonds_pl</td>\n",
       "      <td>2023-09-01</td>\n",
       "      <td>TOS</td>\n",
       "      <td>PLN</td>\n",
       "      <td>bonds</td>\n",
       "      <td>buy</td>\n",
       "      <td>100.0000</td>\n",
       "      <td>100.0000</td>\n",
       "      <td>0.0000</td>\n",
       "      <td>1.0000</td>\n",
       "      <td>10000.0000</td>\n",
       "    </tr>\n",
       "    <tr>\n",
       "      <th>2</th>\n",
       "      <td>treasury_bonds_pl</td>\n",
       "      <td>2023-10-02</td>\n",
       "      <td>EDO</td>\n",
       "      <td>PLN</td>\n",
       "      <td>bonds</td>\n",
       "      <td>buy</td>\n",
       "      <td>10.0000</td>\n",
       "      <td>100.0000</td>\n",
       "      <td>0.0000</td>\n",
       "      <td>1.0000</td>\n",
       "      <td>1000.0000</td>\n",
       "    </tr>\n",
       "    <tr>\n",
       "      <th>3</th>\n",
       "      <td>treasury_bonds_pl</td>\n",
       "      <td>2023-11-09</td>\n",
       "      <td>EDO</td>\n",
       "      <td>PLN</td>\n",
       "      <td>bonds</td>\n",
       "      <td>buy</td>\n",
       "      <td>10.0000</td>\n",
       "      <td>100.0000</td>\n",
       "      <td>0.0000</td>\n",
       "      <td>1.0000</td>\n",
       "      <td>1000.0000</td>\n",
       "    </tr>\n",
       "    <tr>\n",
       "      <th>4</th>\n",
       "      <td>ikze</td>\n",
       "      <td>2023-11-21</td>\n",
       "      <td>EDO</td>\n",
       "      <td>PLN</td>\n",
       "      <td>bonds</td>\n",
       "      <td>buy</td>\n",
       "      <td>83.0000</td>\n",
       "      <td>100.0000</td>\n",
       "      <td>0.0000</td>\n",
       "      <td>1.0000</td>\n",
       "      <td>8300.0000</td>\n",
       "    </tr>\n",
       "  </tbody>\n",
       "</table>\n",
       "</div>"
      ],
      "text/plain": [
       "             account       date ticker currency asset_type transaction_type  \\\n",
       "0  treasury_bonds_pl 2020-02-08    COI      PLN      bonds              buy   \n",
       "1  treasury_bonds_pl 2023-09-01    TOS      PLN      bonds              buy   \n",
       "2  treasury_bonds_pl 2023-10-02    EDO      PLN      bonds              buy   \n",
       "3  treasury_bonds_pl 2023-11-09    EDO      PLN      bonds              buy   \n",
       "4               ikze 2023-11-21    EDO      PLN      bonds              buy   \n",
       "\n",
       "    amount    price  commision  pln_exr  total_pln  \n",
       "0 600.0000 100.0000     0.0000   1.0000 60000.0000  \n",
       "1 100.0000 100.0000     0.0000   1.0000 10000.0000  \n",
       "2  10.0000 100.0000     0.0000   1.0000  1000.0000  \n",
       "3  10.0000 100.0000     0.0000   1.0000  1000.0000  \n",
       "4  83.0000 100.0000     0.0000   1.0000  8300.0000  "
      ]
     },
     "execution_count": 188,
     "metadata": {},
     "output_type": "execute_result"
    }
   ],
   "source": [
    "df.head()"
   ]
  },
  {
   "cell_type": "code",
   "execution_count": 121,
   "id": "f0878e3e-e9eb-4755-a4aa-83f598754444",
   "metadata": {
    "tags": []
   },
   "outputs": [
    {
     "data": {
      "text/plain": [
       "array(['treasury_bonds_pl', 'ikze', 'xtb', 'ike'], dtype=object)"
      ]
     },
     "execution_count": 121,
     "metadata": {},
     "output_type": "execute_result"
    }
   ],
   "source": [
    "df.account.unique()"
   ]
  },
  {
   "cell_type": "code",
   "execution_count": 122,
   "id": "77da6e36-03c5-4faf-80d3-b53cc20aa774",
   "metadata": {
    "tags": []
   },
   "outputs": [],
   "source": [
    "df_group = df[['account', 'ticker', 'asset_type', 'amount','total_pln']]"
   ]
  },
  {
   "cell_type": "code",
   "execution_count": 123,
   "id": "d3c26d50-4473-4702-9b5e-3730b2fcc3a8",
   "metadata": {
    "tags": []
   },
   "outputs": [],
   "source": [
    "df_group['quarter'] = df['date'].dt.year.astype(str) + \"Q\" + df['date'].dt.quarter.astype(str)"
   ]
  },
  {
   "cell_type": "code",
   "execution_count": 124,
   "id": "2c96f8c6-6ba4-4e89-8533-9824d084b28f",
   "metadata": {
    "tags": []
   },
   "outputs": [
    {
     "data": {
      "text/html": [
       "<div>\n",
       "<style scoped>\n",
       "    .dataframe tbody tr th:only-of-type {\n",
       "        vertical-align: middle;\n",
       "    }\n",
       "\n",
       "    .dataframe tbody tr th {\n",
       "        vertical-align: top;\n",
       "    }\n",
       "\n",
       "    .dataframe thead th {\n",
       "        text-align: right;\n",
       "    }\n",
       "</style>\n",
       "<table border=\"1\" class=\"dataframe\">\n",
       "  <thead>\n",
       "    <tr style=\"text-align: right;\">\n",
       "      <th></th>\n",
       "      <th>account</th>\n",
       "      <th>asset_type</th>\n",
       "      <th>total_pln</th>\n",
       "    </tr>\n",
       "  </thead>\n",
       "  <tbody>\n",
       "    <tr>\n",
       "      <th>0</th>\n",
       "      <td>ike</td>\n",
       "      <td>etf_bond</td>\n",
       "      <td>12303.8458</td>\n",
       "    </tr>\n",
       "    <tr>\n",
       "      <th>1</th>\n",
       "      <td>ike</td>\n",
       "      <td>etf_stock</td>\n",
       "      <td>4239.4353</td>\n",
       "    </tr>\n",
       "    <tr>\n",
       "      <th>2</th>\n",
       "      <td>ikze</td>\n",
       "      <td>bonds</td>\n",
       "      <td>8300.0000</td>\n",
       "    </tr>\n",
       "    <tr>\n",
       "      <th>3</th>\n",
       "      <td>treasury_bonds_pl</td>\n",
       "      <td>bonds</td>\n",
       "      <td>72000.0000</td>\n",
       "    </tr>\n",
       "    <tr>\n",
       "      <th>4</th>\n",
       "      <td>xtb</td>\n",
       "      <td>etf_bond</td>\n",
       "      <td>3299.8717</td>\n",
       "    </tr>\n",
       "    <tr>\n",
       "      <th>5</th>\n",
       "      <td>xtb</td>\n",
       "      <td>etf_stock</td>\n",
       "      <td>10796.0439</td>\n",
       "    </tr>\n",
       "    <tr>\n",
       "      <th>6</th>\n",
       "      <td>xtb</td>\n",
       "      <td>stock_pl</td>\n",
       "      <td>3217.4400</td>\n",
       "    </tr>\n",
       "  </tbody>\n",
       "</table>\n",
       "</div>"
      ],
      "text/plain": [
       "             account asset_type  total_pln\n",
       "0                ike   etf_bond 12303.8458\n",
       "1                ike  etf_stock  4239.4353\n",
       "2               ikze      bonds  8300.0000\n",
       "3  treasury_bonds_pl      bonds 72000.0000\n",
       "4                xtb   etf_bond  3299.8717\n",
       "5                xtb  etf_stock 10796.0439\n",
       "6                xtb   stock_pl  3217.4400"
      ]
     },
     "execution_count": 124,
     "metadata": {},
     "output_type": "execute_result"
    }
   ],
   "source": [
    "df_group.groupby(['account', 'asset_type']).sum()['total_pln'].reset_index()"
   ]
  },
  {
   "cell_type": "code",
   "execution_count": 125,
   "id": "0f0c7439-72e0-458a-bae3-f0551328cf32",
   "metadata": {
    "tags": []
   },
   "outputs": [
    {
     "data": {
      "text/html": [
       "<div>\n",
       "<style scoped>\n",
       "    .dataframe tbody tr th:only-of-type {\n",
       "        vertical-align: middle;\n",
       "    }\n",
       "\n",
       "    .dataframe tbody tr th {\n",
       "        vertical-align: top;\n",
       "    }\n",
       "\n",
       "    .dataframe thead th {\n",
       "        text-align: right;\n",
       "    }\n",
       "</style>\n",
       "<table border=\"1\" class=\"dataframe\">\n",
       "  <thead>\n",
       "    <tr style=\"text-align: right;\">\n",
       "      <th></th>\n",
       "      <th>asset_type</th>\n",
       "      <th>quarter</th>\n",
       "      <th>total_pln</th>\n",
       "    </tr>\n",
       "  </thead>\n",
       "  <tbody>\n",
       "    <tr>\n",
       "      <th>0</th>\n",
       "      <td>bonds</td>\n",
       "      <td>2020Q1</td>\n",
       "      <td>60000.0000</td>\n",
       "    </tr>\n",
       "    <tr>\n",
       "      <th>1</th>\n",
       "      <td>bonds</td>\n",
       "      <td>2023Q3</td>\n",
       "      <td>10000.0000</td>\n",
       "    </tr>\n",
       "    <tr>\n",
       "      <th>2</th>\n",
       "      <td>bonds</td>\n",
       "      <td>2023Q4</td>\n",
       "      <td>10300.0000</td>\n",
       "    </tr>\n",
       "    <tr>\n",
       "      <th>3</th>\n",
       "      <td>etf_bond</td>\n",
       "      <td>2023Q3</td>\n",
       "      <td>1375.4781</td>\n",
       "    </tr>\n",
       "    <tr>\n",
       "      <th>4</th>\n",
       "      <td>etf_bond</td>\n",
       "      <td>2023Q4</td>\n",
       "      <td>9725.5558</td>\n",
       "    </tr>\n",
       "    <tr>\n",
       "      <th>5</th>\n",
       "      <td>etf_bond</td>\n",
       "      <td>2024Q1</td>\n",
       "      <td>4502.6836</td>\n",
       "    </tr>\n",
       "    <tr>\n",
       "      <th>6</th>\n",
       "      <td>etf_stock</td>\n",
       "      <td>2023Q3</td>\n",
       "      <td>5194.5187</td>\n",
       "    </tr>\n",
       "    <tr>\n",
       "      <th>7</th>\n",
       "      <td>etf_stock</td>\n",
       "      <td>2023Q4</td>\n",
       "      <td>5601.5253</td>\n",
       "    </tr>\n",
       "    <tr>\n",
       "      <th>8</th>\n",
       "      <td>etf_stock</td>\n",
       "      <td>2024Q1</td>\n",
       "      <td>4239.4353</td>\n",
       "    </tr>\n",
       "    <tr>\n",
       "      <th>9</th>\n",
       "      <td>stock_pl</td>\n",
       "      <td>2023Q1</td>\n",
       "      <td>1858.3000</td>\n",
       "    </tr>\n",
       "    <tr>\n",
       "      <th>10</th>\n",
       "      <td>stock_pl</td>\n",
       "      <td>2023Q2</td>\n",
       "      <td>30.9000</td>\n",
       "    </tr>\n",
       "    <tr>\n",
       "      <th>11</th>\n",
       "      <td>stock_pl</td>\n",
       "      <td>2023Q3</td>\n",
       "      <td>269.5900</td>\n",
       "    </tr>\n",
       "    <tr>\n",
       "      <th>12</th>\n",
       "      <td>stock_pl</td>\n",
       "      <td>2023Q4</td>\n",
       "      <td>1058.6500</td>\n",
       "    </tr>\n",
       "  </tbody>\n",
       "</table>\n",
       "</div>"
      ],
      "text/plain": [
       "   asset_type quarter  total_pln\n",
       "0       bonds  2020Q1 60000.0000\n",
       "1       bonds  2023Q3 10000.0000\n",
       "2       bonds  2023Q4 10300.0000\n",
       "3    etf_bond  2023Q3  1375.4781\n",
       "4    etf_bond  2023Q4  9725.5558\n",
       "5    etf_bond  2024Q1  4502.6836\n",
       "6   etf_stock  2023Q3  5194.5187\n",
       "7   etf_stock  2023Q4  5601.5253\n",
       "8   etf_stock  2024Q1  4239.4353\n",
       "9    stock_pl  2023Q1  1858.3000\n",
       "10   stock_pl  2023Q2    30.9000\n",
       "11   stock_pl  2023Q3   269.5900\n",
       "12   stock_pl  2023Q4  1058.6500"
      ]
     },
     "execution_count": 125,
     "metadata": {},
     "output_type": "execute_result"
    }
   ],
   "source": [
    "df_group.groupby(['asset_type', 'quarter']).sum()['total_pln'].reset_index()"
   ]
  },
  {
   "cell_type": "code",
   "execution_count": 126,
   "id": "075e6508-1928-42ba-be83-76221b11defe",
   "metadata": {
    "tags": []
   },
   "outputs": [],
   "source": [
    "df_pivot = pd.pivot_table(df_group, values='total_pln', index='quarter', columns='asset_type', aggfunc='sum', fill_value=0)"
   ]
  },
  {
   "cell_type": "code",
   "execution_count": 127,
   "id": "605965f1-f5b6-4538-b0dd-c7d1298dc041",
   "metadata": {
    "tags": []
   },
   "outputs": [
    {
     "data": {
      "text/plain": [
       "Index(['bonds', 'etf_bond', 'etf_stock', 'stock_pl'], dtype='object', name='asset_type')"
      ]
     },
     "execution_count": 127,
     "metadata": {},
     "output_type": "execute_result"
    }
   ],
   "source": [
    "df_pivot.columns"
   ]
  },
  {
   "cell_type": "code",
   "execution_count": 128,
   "id": "9fdaa019-85fb-4faa-bb1c-2fd304ac6755",
   "metadata": {
    "tags": []
   },
   "outputs": [
    {
     "data": {
      "text/html": [
       "<div>\n",
       "<style scoped>\n",
       "    .dataframe tbody tr th:only-of-type {\n",
       "        vertical-align: middle;\n",
       "    }\n",
       "\n",
       "    .dataframe tbody tr th {\n",
       "        vertical-align: top;\n",
       "    }\n",
       "\n",
       "    .dataframe thead th {\n",
       "        text-align: right;\n",
       "    }\n",
       "</style>\n",
       "<table border=\"1\" class=\"dataframe\">\n",
       "  <thead>\n",
       "    <tr style=\"text-align: right;\">\n",
       "      <th>asset_type</th>\n",
       "      <th>bonds</th>\n",
       "      <th>etf_bond</th>\n",
       "      <th>etf_stock</th>\n",
       "      <th>stock_pl</th>\n",
       "    </tr>\n",
       "    <tr>\n",
       "      <th>quarter</th>\n",
       "      <th></th>\n",
       "      <th></th>\n",
       "      <th></th>\n",
       "      <th></th>\n",
       "    </tr>\n",
       "  </thead>\n",
       "  <tbody>\n",
       "    <tr>\n",
       "      <th>2020Q1</th>\n",
       "      <td>60000</td>\n",
       "      <td>0.0000</td>\n",
       "      <td>0.0000</td>\n",
       "      <td>0.0000</td>\n",
       "    </tr>\n",
       "    <tr>\n",
       "      <th>2023Q1</th>\n",
       "      <td>0</td>\n",
       "      <td>0.0000</td>\n",
       "      <td>0.0000</td>\n",
       "      <td>1858.3000</td>\n",
       "    </tr>\n",
       "    <tr>\n",
       "      <th>2023Q2</th>\n",
       "      <td>0</td>\n",
       "      <td>0.0000</td>\n",
       "      <td>0.0000</td>\n",
       "      <td>30.9000</td>\n",
       "    </tr>\n",
       "    <tr>\n",
       "      <th>2023Q3</th>\n",
       "      <td>10000</td>\n",
       "      <td>1375.4781</td>\n",
       "      <td>5194.5187</td>\n",
       "      <td>269.5900</td>\n",
       "    </tr>\n",
       "    <tr>\n",
       "      <th>2023Q4</th>\n",
       "      <td>10300</td>\n",
       "      <td>9725.5558</td>\n",
       "      <td>5601.5253</td>\n",
       "      <td>1058.6500</td>\n",
       "    </tr>\n",
       "    <tr>\n",
       "      <th>2024Q1</th>\n",
       "      <td>0</td>\n",
       "      <td>4502.6836</td>\n",
       "      <td>4239.4353</td>\n",
       "      <td>0.0000</td>\n",
       "    </tr>\n",
       "  </tbody>\n",
       "</table>\n",
       "</div>"
      ],
      "text/plain": [
       "asset_type  bonds  etf_bond  etf_stock  stock_pl\n",
       "quarter                                         \n",
       "2020Q1      60000    0.0000     0.0000    0.0000\n",
       "2023Q1          0    0.0000     0.0000 1858.3000\n",
       "2023Q2          0    0.0000     0.0000   30.9000\n",
       "2023Q3      10000 1375.4781  5194.5187  269.5900\n",
       "2023Q4      10300 9725.5558  5601.5253 1058.6500\n",
       "2024Q1          0 4502.6836  4239.4353    0.0000"
      ]
     },
     "execution_count": 128,
     "metadata": {},
     "output_type": "execute_result"
    }
   ],
   "source": [
    "df_pivot"
   ]
  },
  {
   "cell_type": "markdown",
   "id": "c871d94f-8a7b-4300-9b63-bd0c8d636b6b",
   "metadata": {
    "jp-MarkdownHeadingCollapsed": true,
    "tags": []
   },
   "source": [
    "### Plots by quarter"
   ]
  },
  {
   "cell_type": "code",
   "execution_count": 29,
   "id": "5c2eeac6-e8ea-4c25-a6a5-240953639532",
   "metadata": {
    "tags": []
   },
   "outputs": [
    {
     "data": {
      "text/plain": [
       "<Axes: title={'center': 'Buys by quarter'}, ylabel='quarter'>"
      ]
     },
     "execution_count": 29,
     "metadata": {},
     "output_type": "execute_result"
    },
    {
     "data": {
      "image/png": "[encoded data removed]",
      "text/plain": [
       "<Figure size 640x480 with 1 Axes>"
      ]
     },
     "metadata": {},
     "output_type": "display_data"
    }
   ],
   "source": [
    "df_pivot.plot( \n",
    "    # x = 'quarter', \n",
    "    kind = 'barh', \n",
    "    stacked = True, \n",
    "    title = 'Buys by quarter', \n",
    "    mark_right = True) "
   ]
  },
  {
   "cell_type": "code",
   "execution_count": 30,
   "id": "d7175184-14ae-4983-a586-3dd963cb5c41",
   "metadata": {},
   "outputs": [
    {
     "name": "stdout",
     "output_type": "stream",
     "text": [
      "2023Q1\n",
      "2023Q2\n",
      "2023Q3\n",
      "2023Q4\n",
      "2024Q1\n"
     ]
    }
   ],
   "source": [
    "for i in range(1, len(df_pivot)):\n",
    "    r = df_pivot.index[i]\n",
    "    print(r)\n",
    "    r1 = df_pivot.index[i-1]\n",
    "    for c in df_pivot.columns:\n",
    "        if df_pivot.loc[r, c] == 0:\n",
    "            df_pivot.loc[r, c] = df_pivot.loc[r1, c]\n",
    "        if df_pivot.loc[r, c] != df_pivot.loc[r1, c]:\n",
    "            df_pivot.loc[r, c] = df_pivot.loc[r, c] + df_pivot.loc[r1, c]"
   ]
  },
  {
   "cell_type": "code",
   "execution_count": 31,
   "id": "09a48860-cd5c-4c95-b1cb-b956cd9300e1",
   "metadata": {
    "tags": []
   },
   "outputs": [
    {
     "data": {
      "text/html": [
       "<div>\n",
       "<style scoped>\n",
       "    .dataframe tbody tr th:only-of-type {\n",
       "        vertical-align: middle;\n",
       "    }\n",
       "\n",
       "    .dataframe tbody tr th {\n",
       "        vertical-align: top;\n",
       "    }\n",
       "\n",
       "    .dataframe thead th {\n",
       "        text-align: right;\n",
       "    }\n",
       "</style>\n",
       "<table border=\"1\" class=\"dataframe\">\n",
       "  <thead>\n",
       "    <tr style=\"text-align: right;\">\n",
       "      <th>asset_type</th>\n",
       "      <th>bonds</th>\n",
       "      <th>etf_bond</th>\n",
       "      <th>etf_stock</th>\n",
       "      <th>stock_pl</th>\n",
       "    </tr>\n",
       "    <tr>\n",
       "      <th>quarter</th>\n",
       "      <th></th>\n",
       "      <th></th>\n",
       "      <th></th>\n",
       "      <th></th>\n",
       "    </tr>\n",
       "  </thead>\n",
       "  <tbody>\n",
       "    <tr>\n",
       "      <th>2020Q1</th>\n",
       "      <td>60000</td>\n",
       "      <td>0.0000</td>\n",
       "      <td>0.0000</td>\n",
       "      <td>0.0000</td>\n",
       "    </tr>\n",
       "    <tr>\n",
       "      <th>2023Q1</th>\n",
       "      <td>60000</td>\n",
       "      <td>0.0000</td>\n",
       "      <td>0.0000</td>\n",
       "      <td>1858.3000</td>\n",
       "    </tr>\n",
       "    <tr>\n",
       "      <th>2023Q2</th>\n",
       "      <td>60000</td>\n",
       "      <td>0.0000</td>\n",
       "      <td>0.0000</td>\n",
       "      <td>1889.2000</td>\n",
       "    </tr>\n",
       "    <tr>\n",
       "      <th>2023Q3</th>\n",
       "      <td>70000</td>\n",
       "      <td>1375.4781</td>\n",
       "      <td>5194.5187</td>\n",
       "      <td>2158.7900</td>\n",
       "    </tr>\n",
       "    <tr>\n",
       "      <th>2023Q4</th>\n",
       "      <td>80300</td>\n",
       "      <td>11101.0339</td>\n",
       "      <td>10796.0439</td>\n",
       "      <td>3217.4400</td>\n",
       "    </tr>\n",
       "    <tr>\n",
       "      <th>2024Q1</th>\n",
       "      <td>80300</td>\n",
       "      <td>15603.7175</td>\n",
       "      <td>15035.4793</td>\n",
       "      <td>3217.4400</td>\n",
       "    </tr>\n",
       "  </tbody>\n",
       "</table>\n",
       "</div>"
      ],
      "text/plain": [
       "asset_type  bonds   etf_bond  etf_stock  stock_pl\n",
       "quarter                                          \n",
       "2020Q1      60000     0.0000     0.0000    0.0000\n",
       "2023Q1      60000     0.0000     0.0000 1858.3000\n",
       "2023Q2      60000     0.0000     0.0000 1889.2000\n",
       "2023Q3      70000  1375.4781  5194.5187 2158.7900\n",
       "2023Q4      80300 11101.0339 10796.0439 3217.4400\n",
       "2024Q1      80300 15603.7175 15035.4793 3217.4400"
      ]
     },
     "execution_count": 31,
     "metadata": {},
     "output_type": "execute_result"
    }
   ],
   "source": [
    "df_pivot"
   ]
  },
  {
   "cell_type": "code",
   "execution_count": 41,
   "id": "c4281ac6-880a-41bc-9724-913ca65116ab",
   "metadata": {
    "tags": []
   },
   "outputs": [],
   "source": [
    "df_prc = df_pivot.div(df_pivot.sum(axis=1), axis=0).reset_index()"
   ]
  },
  {
   "cell_type": "code",
   "execution_count": 42,
   "id": "51cd480d-a885-4484-8068-8128b81c2cdb",
   "metadata": {
    "tags": []
   },
   "outputs": [
    {
     "data": {
      "text/html": [
       "<div>\n",
       "<style scoped>\n",
       "    .dataframe tbody tr th:only-of-type {\n",
       "        vertical-align: middle;\n",
       "    }\n",
       "\n",
       "    .dataframe tbody tr th {\n",
       "        vertical-align: top;\n",
       "    }\n",
       "\n",
       "    .dataframe thead th {\n",
       "        text-align: right;\n",
       "    }\n",
       "</style>\n",
       "<table border=\"1\" class=\"dataframe\">\n",
       "  <thead>\n",
       "    <tr style=\"text-align: right;\">\n",
       "      <th>asset_type</th>\n",
       "      <th>quarter</th>\n",
       "      <th>bonds</th>\n",
       "      <th>etf_bond</th>\n",
       "      <th>etf_stock</th>\n",
       "      <th>stock_pl</th>\n",
       "    </tr>\n",
       "  </thead>\n",
       "  <tbody>\n",
       "    <tr>\n",
       "      <th>0</th>\n",
       "      <td>2020Q1</td>\n",
       "      <td>1.0000</td>\n",
       "      <td>0.0000</td>\n",
       "      <td>0.0000</td>\n",
       "      <td>0.0000</td>\n",
       "    </tr>\n",
       "    <tr>\n",
       "      <th>1</th>\n",
       "      <td>2023Q1</td>\n",
       "      <td>0.9700</td>\n",
       "      <td>0.0000</td>\n",
       "      <td>0.0000</td>\n",
       "      <td>0.0300</td>\n",
       "    </tr>\n",
       "    <tr>\n",
       "      <th>2</th>\n",
       "      <td>2023Q2</td>\n",
       "      <td>0.9695</td>\n",
       "      <td>0.0000</td>\n",
       "      <td>0.0000</td>\n",
       "      <td>0.0305</td>\n",
       "    </tr>\n",
       "    <tr>\n",
       "      <th>3</th>\n",
       "      <td>2023Q3</td>\n",
       "      <td>0.8891</td>\n",
       "      <td>0.0175</td>\n",
       "      <td>0.0660</td>\n",
       "      <td>0.0274</td>\n",
       "    </tr>\n",
       "    <tr>\n",
       "      <th>4</th>\n",
       "      <td>2023Q4</td>\n",
       "      <td>0.7618</td>\n",
       "      <td>0.1053</td>\n",
       "      <td>0.1024</td>\n",
       "      <td>0.0305</td>\n",
       "    </tr>\n",
       "    <tr>\n",
       "      <th>5</th>\n",
       "      <td>2024Q1</td>\n",
       "      <td>0.7034</td>\n",
       "      <td>0.1367</td>\n",
       "      <td>0.1317</td>\n",
       "      <td>0.0282</td>\n",
       "    </tr>\n",
       "  </tbody>\n",
       "</table>\n",
       "</div>"
      ],
      "text/plain": [
       "asset_type quarter  bonds  etf_bond  etf_stock  stock_pl\n",
       "0           2020Q1 1.0000    0.0000     0.0000    0.0000\n",
       "1           2023Q1 0.9700    0.0000     0.0000    0.0300\n",
       "2           2023Q2 0.9695    0.0000     0.0000    0.0305\n",
       "3           2023Q3 0.8891    0.0175     0.0660    0.0274\n",
       "4           2023Q4 0.7618    0.1053     0.1024    0.0305\n",
       "5           2024Q1 0.7034    0.1367     0.1317    0.0282"
      ]
     },
     "execution_count": 42,
     "metadata": {},
     "output_type": "execute_result"
    }
   ],
   "source": [
    "df_prc"
   ]
  },
  {
   "cell_type": "code",
   "execution_count": 51,
   "id": "87317a20-a0f4-4f88-b416-06e37c2bfd4e",
   "metadata": {
    "tags": []
   },
   "outputs": [
    {
     "data": {
      "text/plain": [
       "<Axes: title={'center': 'Portfolio composition in time'}>"
      ]
     },
     "execution_count": 51,
     "metadata": {},
     "output_type": "execute_result"
    },
    {
     "data": {
      "image/png": "[encoded data removed]",
      "text/plain": [
       "<Figure size 640x480 with 1 Axes>"
      ]
     },
     "metadata": {},
     "output_type": "display_data"
    }
   ],
   "source": [
    "df_prc.plot( \n",
    "    kind = 'barh', \n",
    "    stacked = True, \n",
    "    title = 'Portfolio composition in time', \n",
    "    # mark_right = True\n",
    ")"
   ]
  },
  {
   "cell_type": "code",
   "execution_count": 47,
   "id": "9560656c-9712-436f-9923-0edef2c3af36",
   "metadata": {
    "tags": []
   },
   "outputs": [],
   "source": [
    "df_plot = pd.melt(df_prc, id_vars='quarter', value_vars=list(df_prc.columns[1:]), var_name='asset_type', value_name='total_pln')"
   ]
  },
  {
   "cell_type": "code",
   "execution_count": 70,
   "id": "a5b3090b-27d2-4e48-b351-e5a32f92952a",
   "metadata": {
    "tags": []
   },
   "outputs": [
    {
     "data": {
      "application/vnd.plotly.v1+json": {
       "config": {
        "plotlyServerURL": "https://plot.ly"
       },
       "data": [
        {
         "alignmentgroup": "True",
         "hovertemplate": "asset_type=bonds<br>quarter=%{x}<br>total_pln=%{y}<extra></extra>",
         "legendgroup": "bonds",
         "marker": {
          "color": "#636efa",
          "pattern": {
           "shape": ""
          }
         },
         "name": "bonds",
         "offsetgroup": "bonds",
         "orientation": "v",
         "showlegend": true,
         "textposition": "auto",
         "type": "bar",
         "x": [
          "2020Q1",
          "2023Q1",
          "2023Q2",
          "2023Q3",
          "2023Q4",
          "2024Q1"
         ],
         "xaxis": "x",
         "y": [
          1,
          0.9699587605866957,
          0.9694744802000996,
          0.8891283971401077,
          0.7617546581619002,
          0.7034194616989742
         ],
         "yaxis": "y"
        },
        {
         "alignmentgroup": "True",
         "hovertemplate": "asset_type=etf_bond<br>quarter=%{x}<br>total_pln=%{y}<extra></extra>",
         "legendgroup": "etf_bond",
         "marker": {
          "color": "#EF553B",
          "pattern": {
           "shape": ""
          }
         },
         "name": "etf_bond",
         "offsetgroup": "etf_bond",
         "orientation": "v",
         "showlegend": true,
         "textposition": "auto",
         "type": "bar",
         "x": [
          "2020Q1",
          "2023Q1",
          "2023Q2",
          "2023Q3",
          "2023Q4",
          "2024Q1"
         ],
         "xaxis": "x",
         "y": [
          0,
          0,
          0,
          0.017471094800887824,
          0.10530839697621572,
          0.13668690641284928
         ],
         "yaxis": "y"
        },
        {
         "alignmentgroup": "True",
         "hovertemplate": "asset_type=etf_stock<br>quarter=%{x}<br>total_pln=%{y}<extra></extra>",
         "legendgroup": "etf_stock",
         "marker": {
          "color": "#00cc96",
          "pattern": {
           "shape": ""
          }
         },
         "name": "etf_stock",
         "offsetgroup": "etf_stock",
         "orientation": "v",
         "showlegend": true,
         "textposition": "auto",
         "type": "bar",
         "x": [
          "2020Q1",
          "2023Q1",
          "2023Q2",
          "2023Q3",
          "2023Q4",
          "2024Q1"
         ],
         "xaxis": "x",
         "y": [
          0,
          0,
          0,
          0.06597991530954596,
          0.10241515274038425,
          0.13170919959865293
         ],
         "yaxis": "y"
        },
        {
         "alignmentgroup": "True",
         "hovertemplate": "asset_type=stock_pl<br>quarter=%{x}<br>total_pln=%{y}<extra></extra>",
         "legendgroup": "stock_pl",
         "marker": {
          "color": "#ab63fa",
          "pattern": {
           "shape": ""
          }
         },
         "name": "stock_pl",
         "offsetgroup": "stock_pl",
         "orientation": "v",
         "showlegend": true,
         "textposition": "auto",
         "type": "bar",
         "x": [
          "2020Q1",
          "2023Q1",
          "2023Q2",
          "2023Q3",
          "2023Q4",
          "2024Q1"
         ],
         "xaxis": "x",
         "y": [
          0,
          0.030041239413304277,
          0.03052551979990047,
          0.02742059274945847,
          0.03052179212149968,
          0.02818443228952363
         ],
         "yaxis": "y"
        }
       ],
       "layout": {
        "autosize": false,
        "barmode": "relative",
        "height": 600,
        "legend": {
         "title": {
          "text": "asset_type"
         },
         "tracegroupgap": 0
        },
        "template": {
         "data": {
          "bar": [
           {
            "error_x": {
             "color": "#2a3f5f"
            },
            "error_y": {
             "color": "#2a3f5f"
            },
            "marker": {
             "line": {
              "color": "#E5ECF6",
              "width": 0.5
             },
             "pattern": {
              "fillmode": "overlay",
              "size": 10,
              "solidity": 0.2
             }
            },
            "type": "bar"
           }
          ],
          "barpolar": [
           {
            "marker": {
             "line": {
              "color": "#E5ECF6",
              "width": 0.5
             },
             "pattern": {
              "fillmode": "overlay",
              "size": 10,
              "solidity": 0.2
             }
            },
            "type": "barpolar"
           }
          ],
          "carpet": [
           {
            "aaxis": {
             "endlinecolor": "#2a3f5f",
             "gridcolor": "white",
             "linecolor": "white",
             "minorgridcolor": "white",
             "startlinecolor": "#2a3f5f"
            },
            "baxis": {
             "endlinecolor": "#2a3f5f",
             "gridcolor": "white",
             "linecolor": "white",
             "minorgridcolor": "white",
             "startlinecolor": "#2a3f5f"
            },
            "type": "carpet"
           }
          ],
          "choropleth": [
           {
            "colorbar": {
             "outlinewidth": 0,
             "ticks": ""
            },
            "type": "choropleth"
           }
          ],
          "contour": [
           {
            "colorbar": {
             "outlinewidth": 0,
             "ticks": ""
            },
            "colorscale": [
             [
              0,
              "#0d0887"
             ],
             [
              0.1111111111111111,
              "#46039f"
             ],
             [
              0.2222222222222222,
              "#7201a8"
             ],
             [
              0.3333333333333333,
              "#9c179e"
             ],
             [
              0.4444444444444444,
              "#bd3786"
             ],
             [
              0.5555555555555556,
              "#d8576b"
             ],
             [
              0.6666666666666666,
              "#ed7953"
             ],
             [
              0.7777777777777778,
              "#fb9f3a"
             ],
             [
              0.8888888888888888,
              "#fdca26"
             ],
             [
              1,
              "#f0f921"
             ]
            ],
            "type": "contour"
           }
          ],
          "contourcarpet": [
           {
            "colorbar": {
             "outlinewidth": 0,
             "ticks": ""
            },
            "type": "contourcarpet"
           }
          ],
          "heatmap": [
           {
            "colorbar": {
             "outlinewidth": 0,
             "ticks": ""
            },
            "colorscale": [
             [
              0,
              "#0d0887"
             ],
             [
              0.1111111111111111,
              "#46039f"
             ],
             [
              0.2222222222222222,
              "#7201a8"
             ],
             [
              0.3333333333333333,
              "#9c179e"
             ],
             [
              0.4444444444444444,
              "#bd3786"
             ],
             [
              0.5555555555555556,
              "#d8576b"
             ],
             [
              0.6666666666666666,
              "#ed7953"
             ],
             [
              0.7777777777777778,
              "#fb9f3a"
             ],
             [
              0.8888888888888888,
              "#fdca26"
             ],
             [
              1,
              "#f0f921"
             ]
            ],
            "type": "heatmap"
           }
          ],
          "heatmapgl": [
           {
            "colorbar": {
             "outlinewidth": 0,
             "ticks": ""
            },
            "colorscale": [
             [
              0,
              "#0d0887"
             ],
             [
              0.1111111111111111,
              "#46039f"
             ],
             [
              0.2222222222222222,
              "#7201a8"
             ],
             [
              0.3333333333333333,
              "#9c179e"
             ],
             [
              0.4444444444444444,
              "#bd3786"
             ],
             [
              0.5555555555555556,
              "#d8576b"
             ],
             [
              0.6666666666666666,
              "#ed7953"
             ],
             [
              0.7777777777777778,
              "#fb9f3a"
             ],
             [
              0.8888888888888888,
              "#fdca26"
             ],
             [
              1,
              "#f0f921"
             ]
            ],
            "type": "heatmapgl"
           }
          ],
          "histogram": [
           {
            "marker": {
             "pattern": {
              "fillmode": "overlay",
              "size": 10,
              "solidity": 0.2
             }
            },
            "type": "histogram"
           }
          ],
          "histogram2d": [
           {
            "colorbar": {
             "outlinewidth": 0,
             "ticks": ""
            },
            "colorscale": [
             [
              0,
              "#0d0887"
             ],
             [
              0.1111111111111111,
              "#46039f"
             ],
             [
              0.2222222222222222,
              "#7201a8"
             ],
             [
              0.3333333333333333,
              "#9c179e"
             ],
             [
              0.4444444444444444,
              "#bd3786"
             ],
             [
              0.5555555555555556,
              "#d8576b"
             ],
             [
              0.6666666666666666,
              "#ed7953"
             ],
             [
              0.7777777777777778,
              "#fb9f3a"
             ],
             [
              0.8888888888888888,
              "#fdca26"
             ],
             [
              1,
              "#f0f921"
             ]
            ],
            "type": "histogram2d"
           }
          ],
          "histogram2dcontour": [
           {
            "colorbar": {
             "outlinewidth": 0,
             "ticks": ""
            },
            "colorscale": [
             [
              0,
              "#0d0887"
             ],
             [
              0.1111111111111111,
              "#46039f"
             ],
             [
              0.2222222222222222,
              "#7201a8"
             ],
             [
              0.3333333333333333,
              "#9c179e"
             ],
             [
              0.4444444444444444,
              "#bd3786"
             ],
             [
              0.5555555555555556,
              "#d8576b"
             ],
             [
              0.6666666666666666,
              "#ed7953"
             ],
             [
              0.7777777777777778,
              "#fb9f3a"
             ],
             [
              0.8888888888888888,
              "#fdca26"
             ],
             [
              1,
              "#f0f921"
             ]
            ],
            "type": "histogram2dcontour"
           }
          ],
          "mesh3d": [
           {
            "colorbar": {
             "outlinewidth": 0,
             "ticks": ""
            },
            "type": "mesh3d"
           }
          ],
          "parcoords": [
           {
            "line": {
             "colorbar": {
              "outlinewidth": 0,
              "ticks": ""
             }
            },
            "type": "parcoords"
           }
          ],
          "pie": [
           {
            "automargin": true,
            "type": "pie"
           }
          ],
          "scatter": [
           {
            "fillpattern": {
             "fillmode": "overlay",
             "size": 10,
             "solidity": 0.2
            },
            "type": "scatter"
           }
          ],
          "scatter3d": [
           {
            "line": {
             "colorbar": {
              "outlinewidth": 0,
              "ticks": ""
             }
            },
            "marker": {
             "colorbar": {
              "outlinewidth": 0,
              "ticks": ""
             }
            },
            "type": "scatter3d"
           }
          ],
          "scattercarpet": [
           {
            "marker": {
             "colorbar": {
              "outlinewidth": 0,
              "ticks": ""
             }
            },
            "type": "scattercarpet"
           }
          ],
          "scattergeo": [
           {
            "marker": {
             "colorbar": {
              "outlinewidth": 0,
              "ticks": ""
             }
            },
            "type": "scattergeo"
           }
          ],
          "scattergl": [
           {
            "marker": {
             "colorbar": {
              "outlinewidth": 0,
              "ticks": ""
             }
            },
            "type": "scattergl"
           }
          ],
          "scattermapbox": [
           {
            "marker": {
             "colorbar": {
              "outlinewidth": 0,
              "ticks": ""
             }
            },
            "type": "scattermapbox"
           }
          ],
          "scatterpolar": [
           {
            "marker": {
             "colorbar": {
              "outlinewidth": 0,
              "ticks": ""
             }
            },
            "type": "scatterpolar"
           }
          ],
          "scatterpolargl": [
           {
            "marker": {
             "colorbar": {
              "outlinewidth": 0,
              "ticks": ""
             }
            },
            "type": "scatterpolargl"
           }
          ],
          "scatterternary": [
           {
            "marker": {
             "colorbar": {
              "outlinewidth": 0,
              "ticks": ""
             }
            },
            "type": "scatterternary"
           }
          ],
          "surface": [
           {
            "colorbar": {
             "outlinewidth": 0,
             "ticks": ""
            },
            "colorscale": [
             [
              0,
              "#0d0887"
             ],
             [
              0.1111111111111111,
              "#46039f"
             ],
             [
              0.2222222222222222,
              "#7201a8"
             ],
             [
              0.3333333333333333,
              "#9c179e"
             ],
             [
              0.4444444444444444,
              "#bd3786"
             ],
             [
              0.5555555555555556,
              "#d8576b"
             ],
             [
              0.6666666666666666,
              "#ed7953"
             ],
             [
              0.7777777777777778,
              "#fb9f3a"
             ],
             [
              0.8888888888888888,
              "#fdca26"
             ],
             [
              1,
              "#f0f921"
             ]
            ],
            "type": "surface"
           }
          ],
          "table": [
           {
            "cells": {
             "fill": {
              "color": "#EBF0F8"
             },
             "line": {
              "color": "white"
             }
            },
            "header": {
             "fill": {
              "color": "#C8D4E3"
             },
             "line": {
              "color": "white"
             }
            },
            "type": "table"
           }
          ]
         },
         "layout": {
          "annotationdefaults": {
           "arrowcolor": "#2a3f5f",
           "arrowhead": 0,
           "arrowwidth": 1
          },
          "autotypenumbers": "strict",
          "coloraxis": {
           "colorbar": {
            "outlinewidth": 0,
            "ticks": ""
           }
          },
          "colorscale": {
           "diverging": [
            [
             0,
             "#8e0152"
            ],
            [
             0.1,
             "#c51b7d"
            ],
            [
             0.2,
             "#de77ae"
            ],
            [
             0.3,
             "#f1b6da"
            ],
            [
             0.4,
             "#fde0ef"
            ],
            [
             0.5,
             "#f7f7f7"
            ],
            [
             0.6,
             "#e6f5d0"
            ],
            [
             0.7,
             "#b8e186"
            ],
            [
             0.8,
             "#7fbc41"
            ],
            [
             0.9,
             "#4d9221"
            ],
            [
             1,
             "#276419"
            ]
           ],
           "sequential": [
            [
             0,
             "#0d0887"
            ],
            [
             0.1111111111111111,
             "#46039f"
            ],
            [
             0.2222222222222222,
             "#7201a8"
            ],
            [
             0.3333333333333333,
             "#9c179e"
            ],
            [
             0.4444444444444444,
             "#bd3786"
            ],
            [
             0.5555555555555556,
             "#d8576b"
            ],
            [
             0.6666666666666666,
             "#ed7953"
            ],
            [
             0.7777777777777778,
             "#fb9f3a"
            ],
            [
             0.8888888888888888,
             "#fdca26"
            ],
            [
             1,
             "#f0f921"
            ]
           ],
           "sequentialminus": [
            [
             0,
             "#0d0887"
            ],
            [
             0.1111111111111111,
             "#46039f"
            ],
            [
             0.2222222222222222,
             "#7201a8"
            ],
            [
             0.3333333333333333,
             "#9c179e"
            ],
            [
             0.4444444444444444,
             "#bd3786"
            ],
            [
             0.5555555555555556,
             "#d8576b"
            ],
            [
             0.6666666666666666,
             "#ed7953"
            ],
            [
             0.7777777777777778,
             "#fb9f3a"
            ],
            [
             0.8888888888888888,
             "#fdca26"
            ],
            [
             1,
             "#f0f921"
            ]
           ]
          },
          "colorway": [
           "#636efa",
           "#EF553B",
           "#00cc96",
           "#ab63fa",
           "#FFA15A",
           "#19d3f3",
           "#FF6692",
           "#B6E880",
           "#FF97FF",
           "#FECB52"
          ],
          "font": {
           "color": "#2a3f5f"
          },
          "geo": {
           "bgcolor": "white",
           "lakecolor": "white",
           "landcolor": "#E5ECF6",
           "showlakes": true,
           "showland": true,
           "subunitcolor": "white"
          },
          "hoverlabel": {
           "align": "left"
          },
          "hovermode": "closest",
          "mapbox": {
           "style": "light"
          },
          "paper_bgcolor": "white",
          "plot_bgcolor": "#E5ECF6",
          "polar": {
           "angularaxis": {
            "gridcolor": "white",
            "linecolor": "white",
            "ticks": ""
           },
           "bgcolor": "#E5ECF6",
           "radialaxis": {
            "gridcolor": "white",
            "linecolor": "white",
            "ticks": ""
           }
          },
          "scene": {
           "xaxis": {
            "backgroundcolor": "#E5ECF6",
            "gridcolor": "white",
            "gridwidth": 2,
            "linecolor": "white",
            "showbackground": true,
            "ticks": "",
            "zerolinecolor": "white"
           },
           "yaxis": {
            "backgroundcolor": "#E5ECF6",
            "gridcolor": "white",
            "gridwidth": 2,
            "linecolor": "white",
            "showbackground": true,
            "ticks": "",
            "zerolinecolor": "white"
           },
           "zaxis": {
            "backgroundcolor": "#E5ECF6",
            "gridcolor": "white",
            "gridwidth": 2,
            "linecolor": "white",
            "showbackground": true,
            "ticks": "",
            "zerolinecolor": "white"
           }
          },
          "shapedefaults": {
           "line": {
            "color": "#2a3f5f"
           }
          },
          "ternary": {
           "aaxis": {
            "gridcolor": "white",
            "linecolor": "white",
            "ticks": ""
           },
           "baxis": {
            "gridcolor": "white",
            "linecolor": "white",
            "ticks": ""
           },
           "bgcolor": "#E5ECF6",
           "caxis": {
            "gridcolor": "white",
            "linecolor": "white",
            "ticks": ""
           }
          },
          "title": {
           "x": 0.05
          },
          "xaxis": {
           "automargin": true,
           "gridcolor": "white",
           "linecolor": "white",
           "ticks": "",
           "title": {
            "standoff": 15
           },
           "zerolinecolor": "white",
           "zerolinewidth": 2
          },
          "yaxis": {
           "automargin": true,
           "gridcolor": "white",
           "linecolor": "white",
           "ticks": "",
           "title": {
            "standoff": 15
           },
           "zerolinecolor": "white",
           "zerolinewidth": 2
          }
         }
        },
        "title": {
         "text": "Portfolio composition by quarters"
        },
        "width": 1000,
        "xaxis": {
         "anchor": "y",
         "autorange": true,
         "domain": [
          0,
          1
         ],
         "range": [
          -0.5,
          5.5
         ],
         "title": {
          "text": "quarter"
         },
         "type": "category"
        },
        "yaxis": {
         "anchor": "x",
         "autorange": true,
         "domain": [
          0,
          1
         ],
         "range": [
          0,
          1.0526315789473684
         ],
         "title": {
          "text": "total_pln"
         },
         "type": "linear"
        }
       }
      },
      "image/png": "[encoded data removed]",
      "text/html": [
       "<div>                            <div id=\"b0641e2f-99c6-450d-8a4b-ec0c396bd824\" class=\"plotly-graph-div\" style=\"height:600px; width:1000px;\"></div>            <script type=\"text/javascript\">                require([\"plotly\"], function(Plotly) {                    window.PLOTLYENV=window.PLOTLYENV || {};                                    if (document.getElementById(\"b0641e2f-99c6-450d-8a4b-ec0c396bd824\")) {                    Plotly.newPlot(                        \"b0641e2f-99c6-450d-8a4b-ec0c396bd824\",                        [{\"alignmentgroup\":\"True\",\"hovertemplate\":\"asset_type=bonds\\u003cbr\\u003equarter=%{x}\\u003cbr\\u003etotal_pln=%{y}\\u003cextra\\u003e\\u003c\\u002fextra\\u003e\",\"legendgroup\":\"bonds\",\"marker\":{\"color\":\"#636efa\",\"pattern\":{\"shape\":\"\"}},\"name\":\"bonds\",\"offsetgroup\":\"bonds\",\"orientation\":\"v\",\"showlegend\":true,\"textposition\":\"auto\",\"x\":[\"2020Q1\",\"2023Q1\",\"2023Q2\",\"2023Q3\",\"2023Q4\",\"2024Q1\"],\"xaxis\":\"x\",\"y\":[1.0,0.9699587605866957,0.9694744802000996,0.8891283971401077,0.7617546581619002,0.7034194616989742],\"yaxis\":\"y\",\"type\":\"bar\"},{\"alignmentgroup\":\"True\",\"hovertemplate\":\"asset_type=etf_bond\\u003cbr\\u003equarter=%{x}\\u003cbr\\u003etotal_pln=%{y}\\u003cextra\\u003e\\u003c\\u002fextra\\u003e\",\"legendgroup\":\"etf_bond\",\"marker\":{\"color\":\"#EF553B\",\"pattern\":{\"shape\":\"\"}},\"name\":\"etf_bond\",\"offsetgroup\":\"etf_bond\",\"orientation\":\"v\",\"showlegend\":true,\"textposition\":\"auto\",\"x\":[\"2020Q1\",\"2023Q1\",\"2023Q2\",\"2023Q3\",\"2023Q4\",\"2024Q1\"],\"xaxis\":\"x\",\"y\":[0.0,0.0,0.0,0.017471094800887824,0.10530839697621572,0.13668690641284928],\"yaxis\":\"y\",\"type\":\"bar\"},{\"alignmentgroup\":\"True\",\"hovertemplate\":\"asset_type=etf_stock\\u003cbr\\u003equarter=%{x}\\u003cbr\\u003etotal_pln=%{y}\\u003cextra\\u003e\\u003c\\u002fextra\\u003e\",\"legendgroup\":\"etf_stock\",\"marker\":{\"color\":\"#00cc96\",\"pattern\":{\"shape\":\"\"}},\"name\":\"etf_stock\",\"offsetgroup\":\"etf_stock\",\"orientation\":\"v\",\"showlegend\":true,\"textposition\":\"auto\",\"x\":[\"2020Q1\",\"2023Q1\",\"2023Q2\",\"2023Q3\",\"2023Q4\",\"2024Q1\"],\"xaxis\":\"x\",\"y\":[0.0,0.0,0.0,0.06597991530954596,0.10241515274038425,0.13170919959865293],\"yaxis\":\"y\",\"type\":\"bar\"},{\"alignmentgroup\":\"True\",\"hovertemplate\":\"asset_type=stock_pl\\u003cbr\\u003equarter=%{x}\\u003cbr\\u003etotal_pln=%{y}\\u003cextra\\u003e\\u003c\\u002fextra\\u003e\",\"legendgroup\":\"stock_pl\",\"marker\":{\"color\":\"#ab63fa\",\"pattern\":{\"shape\":\"\"}},\"name\":\"stock_pl\",\"offsetgroup\":\"stock_pl\",\"orientation\":\"v\",\"showlegend\":true,\"textposition\":\"auto\",\"x\":[\"2020Q1\",\"2023Q1\",\"2023Q2\",\"2023Q3\",\"2023Q4\",\"2024Q1\"],\"xaxis\":\"x\",\"y\":[0.0,0.030041239413304277,0.03052551979990047,0.02742059274945847,0.03052179212149968,0.02818443228952363],\"yaxis\":\"y\",\"type\":\"bar\"}],                        {\"template\":{\"data\":{\"histogram2dcontour\":[{\"type\":\"histogram2dcontour\",\"colorbar\":{\"outlinewidth\":0,\"ticks\":\"\"},\"colorscale\":[[0.0,\"#0d0887\"],[0.1111111111111111,\"#46039f\"],[0.2222222222222222,\"#7201a8\"],[0.3333333333333333,\"#9c179e\"],[0.4444444444444444,\"#bd3786\"],[0.5555555555555556,\"#d8576b\"],[0.6666666666666666,\"#ed7953\"],[0.7777777777777778,\"#fb9f3a\"],[0.8888888888888888,\"#fdca26\"],[1.0,\"#f0f921\"]]}],\"choropleth\":[{\"type\":\"choropleth\",\"colorbar\":{\"outlinewidth\":0,\"ticks\":\"\"}}],\"histogram2d\":[{\"type\":\"histogram2d\",\"colorbar\":{\"outlinewidth\":0,\"ticks\":\"\"},\"colorscale\":[[0.0,\"#0d0887\"],[0.1111111111111111,\"#46039f\"],[0.2222222222222222,\"#7201a8\"],[0.3333333333333333,\"#9c179e\"],[0.4444444444444444,\"#bd3786\"],[0.5555555555555556,\"#d8576b\"],[0.6666666666666666,\"#ed7953\"],[0.7777777777777778,\"#fb9f3a\"],[0.8888888888888888,\"#fdca26\"],[1.0,\"#f0f921\"]]}],\"heatmap\":[{\"type\":\"heatmap\",\"colorbar\":{\"outlinewidth\":0,\"ticks\":\"\"},\"colorscale\":[[0.0,\"#0d0887\"],[0.1111111111111111,\"#46039f\"],[0.2222222222222222,\"#7201a8\"],[0.3333333333333333,\"#9c179e\"],[0.4444444444444444,\"#bd3786\"],[0.5555555555555556,\"#d8576b\"],[0.6666666666666666,\"#ed7953\"],[0.7777777777777778,\"#fb9f3a\"],[0.8888888888888888,\"#fdca26\"],[1.0,\"#f0f921\"]]}],\"heatmapgl\":[{\"type\":\"heatmapgl\",\"colorbar\":{\"outlinewidth\":0,\"ticks\":\"\"},\"colorscale\":[[0.0,\"#0d0887\"],[0.1111111111111111,\"#46039f\"],[0.2222222222222222,\"#7201a8\"],[0.3333333333333333,\"#9c179e\"],[0.4444444444444444,\"#bd3786\"],[0.5555555555555556,\"#d8576b\"],[0.6666666666666666,\"#ed7953\"],[0.7777777777777778,\"#fb9f3a\"],[0.8888888888888888,\"#fdca26\"],[1.0,\"#f0f921\"]]}],\"contourcarpet\":[{\"type\":\"contourcarpet\",\"colorbar\":{\"outlinewidth\":0,\"ticks\":\"\"}}],\"contour\":[{\"type\":\"contour\",\"colorbar\":{\"outlinewidth\":0,\"ticks\":\"\"},\"colorscale\":[[0.0,\"#0d0887\"],[0.1111111111111111,\"#46039f\"],[0.2222222222222222,\"#7201a8\"],[0.3333333333333333,\"#9c179e\"],[0.4444444444444444,\"#bd3786\"],[0.5555555555555556,\"#d8576b\"],[0.6666666666666666,\"#ed7953\"],[0.7777777777777778,\"#fb9f3a\"],[0.8888888888888888,\"#fdca26\"],[1.0,\"#f0f921\"]]}],\"surface\":[{\"type\":\"surface\",\"colorbar\":{\"outlinewidth\":0,\"ticks\":\"\"},\"colorscale\":[[0.0,\"#0d0887\"],[0.1111111111111111,\"#46039f\"],[0.2222222222222222,\"#7201a8\"],[0.3333333333333333,\"#9c179e\"],[0.4444444444444444,\"#bd3786\"],[0.5555555555555556,\"#d8576b\"],[0.6666666666666666,\"#ed7953\"],[0.7777777777777778,\"#fb9f3a\"],[0.8888888888888888,\"#fdca26\"],[1.0,\"#f0f921\"]]}],\"mesh3d\":[{\"type\":\"mesh3d\",\"colorbar\":{\"outlinewidth\":0,\"ticks\":\"\"}}],\"scatter\":[{\"fillpattern\":{\"fillmode\":\"overlay\",\"size\":10,\"solidity\":0.2},\"type\":\"scatter\"}],\"parcoords\":[{\"type\":\"parcoords\",\"line\":{\"colorbar\":{\"outlinewidth\":0,\"ticks\":\"\"}}}],\"scatterpolargl\":[{\"type\":\"scatterpolargl\",\"marker\":{\"colorbar\":{\"outlinewidth\":0,\"ticks\":\"\"}}}],\"bar\":[{\"error_x\":{\"color\":\"#2a3f5f\"},\"error_y\":{\"color\":\"#2a3f5f\"},\"marker\":{\"line\":{\"color\":\"#E5ECF6\",\"width\":0.5},\"pattern\":{\"fillmode\":\"overlay\",\"size\":10,\"solidity\":0.2}},\"type\":\"bar\"}],\"scattergeo\":[{\"type\":\"scattergeo\",\"marker\":{\"colorbar\":{\"outlinewidth\":0,\"ticks\":\"\"}}}],\"scatterpolar\":[{\"type\":\"scatterpolar\",\"marker\":{\"colorbar\":{\"outlinewidth\":0,\"ticks\":\"\"}}}],\"histogram\":[{\"marker\":{\"pattern\":{\"fillmode\":\"overlay\",\"size\":10,\"solidity\":0.2}},\"type\":\"histogram\"}],\"scattergl\":[{\"type\":\"scattergl\",\"marker\":{\"colorbar\":{\"outlinewidth\":0,\"ticks\":\"\"}}}],\"scatter3d\":[{\"type\":\"scatter3d\",\"line\":{\"colorbar\":{\"outlinewidth\":0,\"ticks\":\"\"}},\"marker\":{\"colorbar\":{\"outlinewidth\":0,\"ticks\":\"\"}}}],\"scattermapbox\":[{\"type\":\"scattermapbox\",\"marker\":{\"colorbar\":{\"outlinewidth\":0,\"ticks\":\"\"}}}],\"scatterternary\":[{\"type\":\"scatterternary\",\"marker\":{\"colorbar\":{\"outlinewidth\":0,\"ticks\":\"\"}}}],\"scattercarpet\":[{\"type\":\"scattercarpet\",\"marker\":{\"colorbar\":{\"outlinewidth\":0,\"ticks\":\"\"}}}],\"carpet\":[{\"aaxis\":{\"endlinecolor\":\"#2a3f5f\",\"gridcolor\":\"white\",\"linecolor\":\"white\",\"minorgridcolor\":\"white\",\"startlinecolor\":\"#2a3f5f\"},\"baxis\":{\"endlinecolor\":\"#2a3f5f\",\"gridcolor\":\"white\",\"linecolor\":\"white\",\"minorgridcolor\":\"white\",\"startlinecolor\":\"#2a3f5f\"},\"type\":\"carpet\"}],\"table\":[{\"cells\":{\"fill\":{\"color\":\"#EBF0F8\"},\"line\":{\"color\":\"white\"}},\"header\":{\"fill\":{\"color\":\"#C8D4E3\"},\"line\":{\"color\":\"white\"}},\"type\":\"table\"}],\"barpolar\":[{\"marker\":{\"line\":{\"color\":\"#E5ECF6\",\"width\":0.5},\"pattern\":{\"fillmode\":\"overlay\",\"size\":10,\"solidity\":0.2}},\"type\":\"barpolar\"}],\"pie\":[{\"automargin\":true,\"type\":\"pie\"}]},\"layout\":{\"autotypenumbers\":\"strict\",\"colorway\":[\"#636efa\",\"#EF553B\",\"#00cc96\",\"#ab63fa\",\"#FFA15A\",\"#19d3f3\",\"#FF6692\",\"#B6E880\",\"#FF97FF\",\"#FECB52\"],\"font\":{\"color\":\"#2a3f5f\"},\"hovermode\":\"closest\",\"hoverlabel\":{\"align\":\"left\"},\"paper_bgcolor\":\"white\",\"plot_bgcolor\":\"#E5ECF6\",\"polar\":{\"bgcolor\":\"#E5ECF6\",\"angularaxis\":{\"gridcolor\":\"white\",\"linecolor\":\"white\",\"ticks\":\"\"},\"radialaxis\":{\"gridcolor\":\"white\",\"linecolor\":\"white\",\"ticks\":\"\"}},\"ternary\":{\"bgcolor\":\"#E5ECF6\",\"aaxis\":{\"gridcolor\":\"white\",\"linecolor\":\"white\",\"ticks\":\"\"},\"baxis\":{\"gridcolor\":\"white\",\"linecolor\":\"white\",\"ticks\":\"\"},\"caxis\":{\"gridcolor\":\"white\",\"linecolor\":\"white\",\"ticks\":\"\"}},\"coloraxis\":{\"colorbar\":{\"outlinewidth\":0,\"ticks\":\"\"}},\"colorscale\":{\"sequential\":[[0.0,\"#0d0887\"],[0.1111111111111111,\"#46039f\"],[0.2222222222222222,\"#7201a8\"],[0.3333333333333333,\"#9c179e\"],[0.4444444444444444,\"#bd3786\"],[0.5555555555555556,\"#d8576b\"],[0.6666666666666666,\"#ed7953\"],[0.7777777777777778,\"#fb9f3a\"],[0.8888888888888888,\"#fdca26\"],[1.0,\"#f0f921\"]],\"sequentialminus\":[[0.0,\"#0d0887\"],[0.1111111111111111,\"#46039f\"],[0.2222222222222222,\"#7201a8\"],[0.3333333333333333,\"#9c179e\"],[0.4444444444444444,\"#bd3786\"],[0.5555555555555556,\"#d8576b\"],[0.6666666666666666,\"#ed7953\"],[0.7777777777777778,\"#fb9f3a\"],[0.8888888888888888,\"#fdca26\"],[1.0,\"#f0f921\"]],\"diverging\":[[0,\"#8e0152\"],[0.1,\"#c51b7d\"],[0.2,\"#de77ae\"],[0.3,\"#f1b6da\"],[0.4,\"#fde0ef\"],[0.5,\"#f7f7f7\"],[0.6,\"#e6f5d0\"],[0.7,\"#b8e186\"],[0.8,\"#7fbc41\"],[0.9,\"#4d9221\"],[1,\"#276419\"]]},\"xaxis\":{\"gridcolor\":\"white\",\"linecolor\":\"white\",\"ticks\":\"\",\"title\":{\"standoff\":15},\"zerolinecolor\":\"white\",\"automargin\":true,\"zerolinewidth\":2},\"yaxis\":{\"gridcolor\":\"white\",\"linecolor\":\"white\",\"ticks\":\"\",\"title\":{\"standoff\":15},\"zerolinecolor\":\"white\",\"automargin\":true,\"zerolinewidth\":2},\"scene\":{\"xaxis\":{\"backgroundcolor\":\"#E5ECF6\",\"gridcolor\":\"white\",\"linecolor\":\"white\",\"showbackground\":true,\"ticks\":\"\",\"zerolinecolor\":\"white\",\"gridwidth\":2},\"yaxis\":{\"backgroundcolor\":\"#E5ECF6\",\"gridcolor\":\"white\",\"linecolor\":\"white\",\"showbackground\":true,\"ticks\":\"\",\"zerolinecolor\":\"white\",\"gridwidth\":2},\"zaxis\":{\"backgroundcolor\":\"#E5ECF6\",\"gridcolor\":\"white\",\"linecolor\":\"white\",\"showbackground\":true,\"ticks\":\"\",\"zerolinecolor\":\"white\",\"gridwidth\":2}},\"shapedefaults\":{\"line\":{\"color\":\"#2a3f5f\"}},\"annotationdefaults\":{\"arrowcolor\":\"#2a3f5f\",\"arrowhead\":0,\"arrowwidth\":1},\"geo\":{\"bgcolor\":\"white\",\"landcolor\":\"#E5ECF6\",\"subunitcolor\":\"white\",\"showland\":true,\"showlakes\":true,\"lakecolor\":\"white\"},\"title\":{\"x\":0.05},\"mapbox\":{\"style\":\"light\"}}},\"xaxis\":{\"anchor\":\"y\",\"domain\":[0.0,1.0],\"title\":{\"text\":\"quarter\"}},\"yaxis\":{\"anchor\":\"x\",\"domain\":[0.0,1.0],\"title\":{\"text\":\"total_pln\"}},\"legend\":{\"title\":{\"text\":\"asset_type\"},\"tracegroupgap\":0},\"title\":{\"text\":\"Portfolio composition by quarters\"},\"barmode\":\"relative\",\"autosize\":false,\"width\":1000,\"height\":600},                        {\"responsive\": true}                    ).then(function(){\n",
       "                            \n",
       "var gd = document.getElementById('b0641e2f-99c6-450d-8a4b-ec0c396bd824');\n",
       "var x = new MutationObserver(function (mutations, observer) {{\n",
       "        var display = window.getComputedStyle(gd).display;\n",
       "        if (!display || display === 'none') {{\n",
       "            console.log([gd, 'removed!']);\n",
       "            Plotly.purge(gd);\n",
       "            observer.disconnect();\n",
       "        }}\n",
       "}});\n",
       "\n",
       "// Listen for the removal of the full notebook cells\n",
       "var notebookContainer = gd.closest('#notebook-container');\n",
       "if (notebookContainer) {{\n",
       "    x.observe(notebookContainer, {childList: true});\n",
       "}}\n",
       "\n",
       "// Listen for the clearing of the current output cell\n",
       "var outputEl = gd.closest('.output');\n",
       "if (outputEl) {{\n",
       "    x.observe(outputEl, {childList: true});\n",
       "}}\n",
       "\n",
       "                        })                };                });            </script>        </div>"
      ]
     },
     "metadata": {},
     "output_type": "display_data"
    }
   ],
   "source": [
    "fig = px.bar(df_plot, x=\"quarter\", y=\"total_pln\", color=\"asset_type\", title=\"Portfolio composition by quarters\")\n",
    "\n",
    "fig.update_layout(\n",
    "    autosize=False,\n",
    "    width=1000,\n",
    "    height=600,\n",
    "    # paper_bgcolor=\"LightSteelBlue\",\n",
    ")\n",
    "\n",
    "fig.show()"
   ]
  },
  {
   "cell_type": "markdown",
   "id": "445fc278-2b34-4a41-af4d-9829eb879585",
   "metadata": {},
   "source": [
    "### Holdings table"
   ]
  },
  {
   "cell_type": "code",
   "execution_count": 131,
   "id": "35fc6a12-2ad3-4f25-9d2e-ccc46eace04d",
   "metadata": {
    "tags": []
   },
   "outputs": [],
   "source": [
    "def get_current_price(symbol):\n",
    "    ticker = yf.Ticker(symbol)\n",
    "    todays_data = ticker.history(period='1d')\n",
    "    return todays_data['Close'][0]"
   ]
  },
  {
   "cell_type": "code",
   "execution_count": 204,
   "id": "a514c4b0-6448-42a1-b8ba-da9936954d99",
   "metadata": {
    "tags": []
   },
   "outputs": [],
   "source": [
    "def holdings_table(tickers):\n",
    "    holdings = pd.DataFrame(columns=['ticker', 'currency', 'asset_type', 'amount', 'avg_buy_price', 'current_price', 'return_pct'])\n",
    "    for t in tickers:\n",
    "        print(t)\n",
    "        ticker = df[(df['ticker'] == t) & (df['transaction_type'] == 'buy')]\n",
    "        ticker['total_cur'] = ticker['amount'] * ticker['price']\n",
    "        ticker_agg = ticker[['ticker', 'currency', 'asset_type', 'amount', 'price']].groupby(['ticker', 'currency', 'asset_type']).sum().reset_index()\n",
    "        ticker_agg.loc[0, 'price'] = ticker['total_cur'].sum() / ticker['amount'].sum() \n",
    "        ticker_agg = ticker_agg.rename(columns={'price': 'avg_buy_price'})\n",
    "        ticker_agg['current_price'] = get_current_price(t)\n",
    "        ticker_agg['return_pct'] = (ticker_agg['current_price'] - ticker_agg['avg_buy_price']) / ticker_agg['avg_buy_price']\n",
    "        holdings = pd.concat([holdings, ticker_agg])\n",
    "    holdings = holdings.reset_index(drop=True)\n",
    "    return holdings"
   ]
  },
  {
   "cell_type": "code",
   "execution_count": 233,
   "id": "4acecd5f-b68f-49e0-bc0d-d20f3cf64db8",
   "metadata": {
    "tags": []
   },
   "outputs": [],
   "source": [
    "def portfolio_return(holdings):\n",
    "    current = (holdings['current_price'] * holdings['amount']).sum()\n",
    "    initial = (holdings['avg_buy_price'] * holdings['amount']).sum()\n",
    "    return round(((current - initial) / initial), 4)"
   ]
  },
  {
   "cell_type": "code",
   "execution_count": 205,
   "id": "49eae43f-feba-42d2-8431-575f4eacd18d",
   "metadata": {
    "tags": []
   },
   "outputs": [
    {
     "name": "stdout",
     "output_type": "stream",
     "text": [
      "EIMI.L\n",
      "DTLA.L\n",
      "SWRD.L\n",
      "IDTL.L\n",
      "VWRL.AS\n"
     ]
    }
   ],
   "source": [
    "holdings_etfs = holdings_table(df[df['asset_type'].str.contains('etf')]['ticker'].unique())"
   ]
  },
  {
   "cell_type": "code",
   "execution_count": 206,
   "id": "21b6e0f4-375c-4150-a047-402a5d26a7a0",
   "metadata": {
    "tags": []
   },
   "outputs": [
    {
     "data": {
      "text/html": [
       "<div>\n",
       "<style scoped>\n",
       "    .dataframe tbody tr th:only-of-type {\n",
       "        vertical-align: middle;\n",
       "    }\n",
       "\n",
       "    .dataframe tbody tr th {\n",
       "        vertical-align: top;\n",
       "    }\n",
       "\n",
       "    .dataframe thead th {\n",
       "        text-align: right;\n",
       "    }\n",
       "</style>\n",
       "<table border=\"1\" class=\"dataframe\">\n",
       "  <thead>\n",
       "    <tr style=\"text-align: right;\">\n",
       "      <th></th>\n",
       "      <th>ticker</th>\n",
       "      <th>currency</th>\n",
       "      <th>asset_type</th>\n",
       "      <th>amount</th>\n",
       "      <th>avg_buy_price</th>\n",
       "      <th>current_price</th>\n",
       "      <th>return_pct</th>\n",
       "    </tr>\n",
       "  </thead>\n",
       "  <tbody>\n",
       "    <tr>\n",
       "      <th>0</th>\n",
       "      <td>EIMI.L</td>\n",
       "      <td>USD</td>\n",
       "      <td>etf_stock</td>\n",
       "      <td>17.0000</td>\n",
       "      <td>29.9565</td>\n",
       "      <td>30.5800</td>\n",
       "      <td>0.0208</td>\n",
       "    </tr>\n",
       "    <tr>\n",
       "      <th>1</th>\n",
       "      <td>DTLA.L</td>\n",
       "      <td>USD</td>\n",
       "      <td>etf_bond</td>\n",
       "      <td>186.0000</td>\n",
       "      <td>4.1976</td>\n",
       "      <td>4.6380</td>\n",
       "      <td>0.1049</td>\n",
       "    </tr>\n",
       "    <tr>\n",
       "      <th>2</th>\n",
       "      <td>SWRD.L</td>\n",
       "      <td>USD</td>\n",
       "      <td>etf_stock</td>\n",
       "      <td>70.0000</td>\n",
       "      <td>30.1476</td>\n",
       "      <td>33.8300</td>\n",
       "      <td>0.1221</td>\n",
       "    </tr>\n",
       "    <tr>\n",
       "      <th>3</th>\n",
       "      <td>IDTL.L</td>\n",
       "      <td>USD</td>\n",
       "      <td>etf_bond</td>\n",
       "      <td>886.0000</td>\n",
       "      <td>3.4829</td>\n",
       "      <td>3.5510</td>\n",
       "      <td>0.0195</td>\n",
       "    </tr>\n",
       "    <tr>\n",
       "      <th>4</th>\n",
       "      <td>VWRL.AS</td>\n",
       "      <td>EUR</td>\n",
       "      <td>etf_stock</td>\n",
       "      <td>9.0000</td>\n",
       "      <td>107.8600</td>\n",
       "      <td>112.1200</td>\n",
       "      <td>0.0395</td>\n",
       "    </tr>\n",
       "  </tbody>\n",
       "</table>\n",
       "</div>"
      ],
      "text/plain": [
       "    ticker currency asset_type   amount  avg_buy_price  current_price  \\\n",
       "0   EIMI.L      USD  etf_stock  17.0000        29.9565        30.5800   \n",
       "1   DTLA.L      USD   etf_bond 186.0000         4.1976         4.6380   \n",
       "2   SWRD.L      USD  etf_stock  70.0000        30.1476        33.8300   \n",
       "3   IDTL.L      USD   etf_bond 886.0000         3.4829         3.5510   \n",
       "4  VWRL.AS      EUR  etf_stock   9.0000       107.8600       112.1200   \n",
       "\n",
       "   return_pct  \n",
       "0      0.0208  \n",
       "1      0.1049  \n",
       "2      0.1221  \n",
       "3      0.0195  \n",
       "4      0.0395  "
      ]
     },
     "execution_count": 206,
     "metadata": {},
     "output_type": "execute_result"
    }
   ],
   "source": [
    "holdings_etfs"
   ]
  },
  {
   "cell_type": "code",
   "execution_count": 236,
   "id": "82347186-b83e-419f-a178-536184816237",
   "metadata": {
    "tags": []
   },
   "outputs": [
    {
     "name": "stdout",
     "output_type": "stream",
     "text": [
      "ETF portfolio return:  0.0602\n"
     ]
    }
   ],
   "source": [
    "print(\"ETF portfolio return: \", portfolio_return(holdings_etfs))"
   ]
  },
  {
   "cell_type": "code",
   "execution_count": 218,
   "id": "5dab029a-a217-48e3-986c-250fc16255ec",
   "metadata": {
    "tags": []
   },
   "outputs": [
    {
     "name": "stdout",
     "output_type": "stream",
     "text": [
      "1AT.WA\n",
      "ALL.WA\n",
      "APR.WA\n",
      "ASE.WA\n",
      "BCS.WA\n",
      "CDR.WA\n",
      "VOT.WA\n",
      "WTN.WA\n"
     ]
    }
   ],
   "source": [
    "# woodpecker nie jest na zagranicznych listach, więc nie ma tickera\n",
    "bought_pl = df[df['asset_type'].str.contains('pl')]['ticker'].unique()\n",
    "sold_pl = df[(df['asset_type'].str.contains('pl')) & (df['transaction_type'] == 'sell')]['ticker'].unique()\n",
    "holdings_pl = holdings_table(np.setdiff1d(bought_pl, np.append(sold_pl, 'WPR.WA')))"
   ]
  },
  {
   "cell_type": "code",
   "execution_count": 219,
   "id": "69493ce6-d598-44d4-96b7-af0f2f8bc92d",
   "metadata": {
    "tags": []
   },
   "outputs": [
    {
     "data": {
      "text/html": [
       "<div>\n",
       "<style scoped>\n",
       "    .dataframe tbody tr th:only-of-type {\n",
       "        vertical-align: middle;\n",
       "    }\n",
       "\n",
       "    .dataframe tbody tr th {\n",
       "        vertical-align: top;\n",
       "    }\n",
       "\n",
       "    .dataframe thead th {\n",
       "        text-align: right;\n",
       "    }\n",
       "</style>\n",
       "<table border=\"1\" class=\"dataframe\">\n",
       "  <thead>\n",
       "    <tr style=\"text-align: right;\">\n",
       "      <th></th>\n",
       "      <th>ticker</th>\n",
       "      <th>currency</th>\n",
       "      <th>asset_type</th>\n",
       "      <th>amount</th>\n",
       "      <th>avg_buy_price</th>\n",
       "      <th>current_price</th>\n",
       "      <th>return_pct</th>\n",
       "    </tr>\n",
       "  </thead>\n",
       "  <tbody>\n",
       "    <tr>\n",
       "      <th>0</th>\n",
       "      <td>1AT.WA</td>\n",
       "      <td>PLN</td>\n",
       "      <td>stock_pl</td>\n",
       "      <td>4.0000</td>\n",
       "      <td>36.0000</td>\n",
       "      <td>59.4000</td>\n",
       "      <td>0.6500</td>\n",
       "    </tr>\n",
       "    <tr>\n",
       "      <th>1</th>\n",
       "      <td>ALL.WA</td>\n",
       "      <td>PLN</td>\n",
       "      <td>stock_pl</td>\n",
       "      <td>28.0000</td>\n",
       "      <td>19.2554</td>\n",
       "      <td>19.7000</td>\n",
       "      <td>0.0231</td>\n",
       "    </tr>\n",
       "    <tr>\n",
       "      <th>2</th>\n",
       "      <td>APR.WA</td>\n",
       "      <td>PLN</td>\n",
       "      <td>stock_pl</td>\n",
       "      <td>17.0000</td>\n",
       "      <td>16.3706</td>\n",
       "      <td>26.6000</td>\n",
       "      <td>0.6249</td>\n",
       "    </tr>\n",
       "    <tr>\n",
       "      <th>3</th>\n",
       "      <td>ASE.WA</td>\n",
       "      <td>PLN</td>\n",
       "      <td>stock_pl</td>\n",
       "      <td>6.0000</td>\n",
       "      <td>47.7667</td>\n",
       "      <td>56.8000</td>\n",
       "      <td>0.1891</td>\n",
       "    </tr>\n",
       "    <tr>\n",
       "      <th>4</th>\n",
       "      <td>BCS.WA</td>\n",
       "      <td>PLN</td>\n",
       "      <td>stock_pl</td>\n",
       "      <td>4.0000</td>\n",
       "      <td>46.5750</td>\n",
       "      <td>22.8000</td>\n",
       "      <td>-0.5105</td>\n",
       "    </tr>\n",
       "    <tr>\n",
       "      <th>5</th>\n",
       "      <td>CDR.WA</td>\n",
       "      <td>PLN</td>\n",
       "      <td>stock_pl</td>\n",
       "      <td>1.0000</td>\n",
       "      <td>134.7000</td>\n",
       "      <td>104.2000</td>\n",
       "      <td>-0.2264</td>\n",
       "    </tr>\n",
       "    <tr>\n",
       "      <th>6</th>\n",
       "      <td>VOT.WA</td>\n",
       "      <td>PLN</td>\n",
       "      <td>stock_pl</td>\n",
       "      <td>13.0000</td>\n",
       "      <td>47.1308</td>\n",
       "      <td>47.0000</td>\n",
       "      <td>-0.0028</td>\n",
       "    </tr>\n",
       "    <tr>\n",
       "      <th>7</th>\n",
       "      <td>WTN.WA</td>\n",
       "      <td>PLN</td>\n",
       "      <td>stock_pl</td>\n",
       "      <td>24.0000</td>\n",
       "      <td>26.6792</td>\n",
       "      <td>29.4000</td>\n",
       "      <td>0.1020</td>\n",
       "    </tr>\n",
       "  </tbody>\n",
       "</table>\n",
       "</div>"
      ],
      "text/plain": [
       "   ticker currency asset_type  amount  avg_buy_price  current_price  \\\n",
       "0  1AT.WA      PLN   stock_pl  4.0000        36.0000        59.4000   \n",
       "1  ALL.WA      PLN   stock_pl 28.0000        19.2554        19.7000   \n",
       "2  APR.WA      PLN   stock_pl 17.0000        16.3706        26.6000   \n",
       "3  ASE.WA      PLN   stock_pl  6.0000        47.7667        56.8000   \n",
       "4  BCS.WA      PLN   stock_pl  4.0000        46.5750        22.8000   \n",
       "5  CDR.WA      PLN   stock_pl  1.0000       134.7000       104.2000   \n",
       "6  VOT.WA      PLN   stock_pl 13.0000        47.1308        47.0000   \n",
       "7  WTN.WA      PLN   stock_pl 24.0000        26.6792        29.4000   \n",
       "\n",
       "   return_pct  \n",
       "0      0.6500  \n",
       "1      0.0231  \n",
       "2      0.6249  \n",
       "3      0.1891  \n",
       "4     -0.5105  \n",
       "5     -0.2264  \n",
       "6     -0.0028  \n",
       "7      0.1020  "
      ]
     },
     "execution_count": 219,
     "metadata": {},
     "output_type": "execute_result"
    }
   ],
   "source": [
    "holdings_pl"
   ]
  },
  {
   "cell_type": "code",
   "execution_count": 235,
   "id": "5e895ead-8b65-4079-a334-d80b8665a629",
   "metadata": {
    "tags": []
   },
   "outputs": [
    {
     "name": "stdout",
     "output_type": "stream",
     "text": [
      "PL portfolio return:  0.0964\n"
     ]
    }
   ],
   "source": [
    "print(\"PL portfolio return: \", portfolio_return(holdings_pl))"
   ]
  },
  {
   "cell_type": "code",
   "execution_count": null,
   "id": "f38dc671-67fa-41d6-8ff1-37dc132416c5",
   "metadata": {},
   "outputs": [],
   "source": []
  }
 ],
 "metadata": {
  "kernelspec": {
   "display_name": "Python 3 (ipykernel)",
   "language": "python",
   "name": "python3"
  },
  "language_info": {
   "codemirror_mode": {
    "name": "ipython",
    "version": 3
   },
   "file_extension": ".py",
   "mimetype": "text/x-python",
   "name": "python",
   "nbconvert_exporter": "python",
   "pygments_lexer": "ipython3",
   "version": "3.8.16"
  }
 },
 "nbformat": 4,
 "nbformat_minor": 5
}
